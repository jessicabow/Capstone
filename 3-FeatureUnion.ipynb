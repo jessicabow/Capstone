{
 "cells": [
  {
   "cell_type": "markdown",
   "metadata": {},
   "source": [
    " # Petfinder: Bay Area Dog Adoption\n",
    " ![Icon](images/pets.jpg)"
   ]
  },
  {
   "cell_type": "markdown",
   "metadata": {},
   "source": [
    "### Notebook Contents"
   ]
  },
  {
   "cell_type": "markdown",
   "metadata": {},
   "source": [
    "- Imports\n",
    "- Train, Test Split\n",
    "- TFIDF + Logreg Modeling and Feature Union\n",
    "- Predictions, Confusion Matrix and Misclassified Listing DataFrame Creation"
   ]
  },
  {
   "cell_type": "markdown",
   "metadata": {},
   "source": [
    "-------"
   ]
  },
  {
   "cell_type": "markdown",
   "metadata": {},
   "source": [
    "### Imports"
   ]
  },
  {
   "cell_type": "code",
   "execution_count": 1,
   "metadata": {},
   "outputs": [],
   "source": [
    "import pandas as pd\n",
    "import numpy as np\n",
    "import matplotlib.pyplot as plt\n",
    "import seaborn as sns\n",
    "from sklearn.model_selection import train_test_split, GridSearchCV\n",
    "from sklearn.pipeline import Pipeline, FeatureUnion\n",
    "from transformers import pipeline\n",
    "from sklearn.metrics import confusion_matrix, plot_confusion_matrix\n",
    "from sklearn.preprocessing import StandardScaler\n",
    "from sklearn.linear_model import LogisticRegression\n",
    "from sklearn.feature_extraction.text import CountVectorizer, TfidfVectorizer\n",
    "from sklearn.preprocessing import FunctionTransformer"
   ]
  },
  {
   "cell_type": "code",
   "execution_count": 2,
   "metadata": {},
   "outputs": [],
   "source": [
    "dogs = pd.read_csv('./petfinder_data/cleandogs.csv')"
   ]
  },
  {
   "cell_type": "code",
   "execution_count": 3,
   "metadata": {},
   "outputs": [],
   "source": [
    "pd.set_option('display.max_columns', 500)"
   ]
  },
  {
   "cell_type": "code",
   "execution_count": 4,
   "metadata": {},
   "outputs": [],
   "source": [
    "# Creating a list of my categorical columns for later use in modeling\n",
    "categorical = ['id', 'organization_id', 'name', 'photos', 'status_changed_at', \n",
    "               'published_at', 'distance']"
   ]
  },
  {
   "cell_type": "code",
   "execution_count": 5,
   "metadata": {},
   "outputs": [],
   "source": [
    "dogs.drop(categorical,axis=1, inplace=True)"
   ]
  },
  {
   "cell_type": "code",
   "execution_count": 48,
   "metadata": {},
   "outputs": [
    {
     "data": {
      "text/plain": [
       "(19511, 609)"
      ]
     },
     "execution_count": 48,
     "metadata": {},
     "output_type": "execute_result"
    }
   ],
   "source": [
    "dogs.shape"
   ]
  },
  {
   "cell_type": "code",
   "execution_count": 7,
   "metadata": {},
   "outputs": [],
   "source": [
    "# Dropping columns from data frame and dummifying categorical columns\n",
    "X = dogs.drop(columns='days_on_petfinder')\n",
    "y = dogs['days_on_petfinder']"
   ]
  },
  {
   "cell_type": "code",
   "execution_count": 8,
   "metadata": {},
   "outputs": [],
   "source": [
    "X_train, X_test, y_train, y_test = train_test_split(\n",
    "    X,\n",
    "    y,\n",
    "    test_size=0.30,\n",
    "    stratify=y,\n",
    "    random_state=42)"
   ]
  },
  {
   "cell_type": "code",
   "execution_count": 9,
   "metadata": {},
   "outputs": [
    {
     "data": {
      "text/plain": [
       "1.0    0.529394\n",
       "0.0    0.470606\n",
       "Name: days_on_petfinder, dtype: float64"
      ]
     },
     "execution_count": 9,
     "metadata": {},
     "output_type": "execute_result"
    }
   ],
   "source": [
    "# Baseline\n",
    "y.value_counts(normalize=True)"
   ]
  },
  {
   "cell_type": "markdown",
   "metadata": {},
   "source": [
    "### TFIDF + Logreg Modeling and Feature Union"
   ]
  },
  {
   "cell_type": "code",
   "execution_count": 10,
   "metadata": {},
   "outputs": [],
   "source": [
    "get_category = FunctionTransformer(lambda x: x['description'])"
   ]
  },
  {
   "cell_type": "code",
   "execution_count": 11,
   "metadata": {},
   "outputs": [],
   "source": [
    "get_numerical = FunctionTransformer(lambda x: x.iloc[:,2:])"
   ]
  },
  {
   "cell_type": "code",
   "execution_count": 12,
   "metadata": {},
   "outputs": [],
   "source": [
    "pipe = Pipeline([\n",
    "    ('features', FeatureUnion([\n",
    "        ('numeric_features', Pipeline([\n",
    "            ('selector', get_numerical)\n",
    "        ])),\n",
    "        ('cat_features', Pipeline([\n",
    "            ('selector', get_category),\n",
    "            ('tvec', TfidfVectorizer())\n",
    "        ]))\n",
    "    ])),\n",
    "    ('logreg', LogisticRegression(penalty='l1', solver='liblinear', max_iter=5000))\n",
    "])\n",
    "\n",
    "params = {\n",
    "    'features__cat_features__tvec__ngram_range':[(1,1), (1,2), (2,2)],\n",
    "    'features__cat_features__tvec__max_features': [2_000, 5_000, 10_000, 15_000],\n",
    "    'features__cat_features__tvec__min_df': [2, 3, 4],\n",
    "    'features__cat_features__tvec__stop_words': [None, 'english'],\n",
    "}"
   ]
  },
  {
   "cell_type": "code",
   "execution_count": 13,
   "metadata": {},
   "outputs": [],
   "source": [
    "#SVC!!!!!! and SVM? forest?"
   ]
  },
  {
   "cell_type": "code",
   "execution_count": 14,
   "metadata": {},
   "outputs": [],
   "source": [
    "gs = GridSearchCV(pipe, param_grid=params, cv=5)"
   ]
  },
  {
   "cell_type": "code",
   "execution_count": 15,
   "metadata": {},
   "outputs": [
    {
     "data": {
      "text/plain": [
       "GridSearchCV(cv=5,\n",
       "             estimator=Pipeline(steps=[('features',\n",
       "                                        FeatureUnion(transformer_list=[('numeric_features',\n",
       "                                                                        Pipeline(steps=[('selector',\n",
       "                                                                                         FunctionTransformer(func=<function <lambda> at 0x7faa867664c0>))])),\n",
       "                                                                       ('cat_features',\n",
       "                                                                        Pipeline(steps=[('selector',\n",
       "                                                                                         FunctionTransformer(func=<function <lambda> at 0x7faa99281790>)),\n",
       "                                                                                        ('tvec',\n",
       "                                                                                         TfidfVectorizer())]))])),\n",
       "                                       ('logreg',\n",
       "                                        LogisticRegression(max_iter=5000,\n",
       "                                                           penalty='l1',\n",
       "                                                           solver='liblinear'))]),\n",
       "             param_grid={'features__cat_features__tvec__max_features': [2000,\n",
       "                                                                        5000,\n",
       "                                                                        10000,\n",
       "                                                                        15000],\n",
       "                         'features__cat_features__tvec__min_df': [2, 3, 4],\n",
       "                         'features__cat_features__tvec__ngram_range': [(1, 1),\n",
       "                                                                       (1, 2),\n",
       "                                                                       (2, 2)],\n",
       "                         'features__cat_features__tvec__stop_words': [None,\n",
       "                                                                      'english']})"
      ]
     },
     "execution_count": 15,
     "metadata": {},
     "output_type": "execute_result"
    }
   ],
   "source": [
    "gs.fit(X_train, y_train)"
   ]
  },
  {
   "cell_type": "code",
   "execution_count": 16,
   "metadata": {},
   "outputs": [
    {
     "data": {
      "text/plain": [
       "0.7647360328036904"
      ]
     },
     "execution_count": 16,
     "metadata": {},
     "output_type": "execute_result"
    }
   ],
   "source": [
    "gs.score(X_train, y_train)"
   ]
  },
  {
   "cell_type": "code",
   "execution_count": 17,
   "metadata": {},
   "outputs": [
    {
     "data": {
      "text/plain": [
       "0.7242910830201572"
      ]
     },
     "execution_count": 17,
     "metadata": {},
     "output_type": "execute_result"
    }
   ],
   "source": [
    "gs.score(X_test, y_test)"
   ]
  },
  {
   "cell_type": "code",
   "execution_count": 18,
   "metadata": {},
   "outputs": [
    {
     "data": {
      "text/plain": [
       "{'features__cat_features__tvec__max_features': 5000,\n",
       " 'features__cat_features__tvec__min_df': 4,\n",
       " 'features__cat_features__tvec__ngram_range': (1, 2),\n",
       " 'features__cat_features__tvec__stop_words': 'english'}"
      ]
     },
     "execution_count": 18,
     "metadata": {},
     "output_type": "execute_result"
    }
   ],
   "source": [
    "gs.best_params_"
   ]
  },
  {
   "cell_type": "markdown",
   "metadata": {},
   "source": [
    "### Predictions, Confusion Matrix and Misclassified Listing DataFrame Creation"
   ]
  },
  {
   "cell_type": "code",
   "execution_count": 19,
   "metadata": {},
   "outputs": [],
   "source": [
    "# Get predictions\n",
    "preds = gs.predict(X_test)"
   ]
  },
  {
   "cell_type": "code",
   "execution_count": 20,
   "metadata": {},
   "outputs": [
    {
     "data": {
      "image/png": "[encoded data removed]",
      "text/plain": [
       "<Figure size 432x288 with 2 Axes>"
      ]
     },
     "metadata": {
      "needs_background": "light"
     },
     "output_type": "display_data"
    }
   ],
   "source": [
    "# Confusion matrix\n",
    "\n",
    "plot_confusion_matrix(gs, X_test, y_test, cmap='Blues', values_format='d');"
   ]
  },
  {
   "cell_type": "code",
   "execution_count": 21,
   "metadata": {},
   "outputs": [],
   "source": [
    "df_classified = pd.DataFrame(data=y_test)\n",
    "df_classified = df_classified.rename({'days_on_petfinder' : 'actual'}, axis=1)\n",
    "df_classified['predicted'] = preds\n",
    "df_classified['misclassified'] = df_classified['actual'] - df_classified['predicted']\n",
    "df_classified['actual'] = df_classified['actual'].map({1 : 'Speedy_adoption', 0 : 'Slow_adoption'})\n",
    "df_classified['predicted'] = df_classified['predicted'].map({1 : 'Speedy_adoption', 0 : 'Slow_adoption'})\n",
    "df_classified['misclassified'] = df_classified['misclassified'].map({1:'Yes', 0:'No', -1:'Yes'})\n",
    "df_classified = df_classified[df_classified['misclassified'] != 0]"
   ]
  },
  {
   "cell_type": "code",
   "execution_count": 22,
   "metadata": {},
   "outputs": [],
   "source": [
    "# Sorting so that I only have posts that are misclassified \n",
    "\n",
    "misclass_listings = df_classified[df_classified['misclassified'] == 'Yes']"
   ]
  },
  {
   "cell_type": "code",
   "execution_count": 35,
   "metadata": {},
   "outputs": [
    {
     "data": {
      "text/plain": [
       "Slow_adoption      820\n",
       "Speedy_adoption    794\n",
       "Name: actual, dtype: int64"
      ]
     },
     "execution_count": 35,
     "metadata": {},
     "output_type": "execute_result"
    }
   ],
   "source": [
    "misclass_listings['actual'].value_counts()"
   ]
  },
  {
   "cell_type": "code",
   "execution_count": 36,
   "metadata": {},
   "outputs": [
    {
     "data": {
      "text/html": [
       "<div>\n",
       "<style scoped>\n",
       "    .dataframe tbody tr th:only-of-type {\n",
       "        vertical-align: middle;\n",
       "    }\n",
       "\n",
       "    .dataframe tbody tr th {\n",
       "        vertical-align: top;\n",
       "    }\n",
       "\n",
       "    .dataframe thead th {\n",
       "        text-align: right;\n",
       "    }\n",
       "</style>\n",
       "<table border=\"1\" class=\"dataframe\">\n",
       "  <thead>\n",
       "    <tr style=\"text-align: right;\">\n",
       "      <th></th>\n",
       "      <th>actual</th>\n",
       "      <th>predicted</th>\n",
       "      <th>misclassified</th>\n",
       "    </tr>\n",
       "  </thead>\n",
       "  <tbody>\n",
       "    <tr>\n",
       "      <th>7889</th>\n",
       "      <td>Speedy_adoption</td>\n",
       "      <td>Slow_adoption</td>\n",
       "      <td>Yes</td>\n",
       "    </tr>\n",
       "    <tr>\n",
       "      <th>7266</th>\n",
       "      <td>Speedy_adoption</td>\n",
       "      <td>Slow_adoption</td>\n",
       "      <td>Yes</td>\n",
       "    </tr>\n",
       "    <tr>\n",
       "      <th>7162</th>\n",
       "      <td>Slow_adoption</td>\n",
       "      <td>Speedy_adoption</td>\n",
       "      <td>Yes</td>\n",
       "    </tr>\n",
       "    <tr>\n",
       "      <th>10195</th>\n",
       "      <td>Speedy_adoption</td>\n",
       "      <td>Slow_adoption</td>\n",
       "      <td>Yes</td>\n",
       "    </tr>\n",
       "    <tr>\n",
       "      <th>5684</th>\n",
       "      <td>Slow_adoption</td>\n",
       "      <td>Speedy_adoption</td>\n",
       "      <td>Yes</td>\n",
       "    </tr>\n",
       "  </tbody>\n",
       "</table>\n",
       "</div>"
      ],
      "text/plain": [
       "                actual        predicted misclassified\n",
       "7889   Speedy_adoption    Slow_adoption           Yes\n",
       "7266   Speedy_adoption    Slow_adoption           Yes\n",
       "7162     Slow_adoption  Speedy_adoption           Yes\n",
       "10195  Speedy_adoption    Slow_adoption           Yes\n",
       "5684     Slow_adoption  Speedy_adoption           Yes"
      ]
     },
     "execution_count": 36,
     "metadata": {},
     "output_type": "execute_result"
    }
   ],
   "source": [
    "misclass_listings.head()"
   ]
  },
  {
   "cell_type": "code",
   "execution_count": 45,
   "metadata": {},
   "outputs": [],
   "source": [
    "result = pd.merge(misclass_listings, dawg, left_index=True, right_index=True)"
   ]
  },
  {
   "cell_type": "code",
   "execution_count": 47,
   "metadata": {},
   "outputs": [],
   "source": [
    "#result.to_csv('./petfinder_data/misclassified_listings.csv', index = False)"
   ]
  }
 ],
 "metadata": {
  "kernelspec": {
   "display_name": "Python 3",
   "language": "python",
   "name": "python3"
  },
  "language_info": {
   "codemirror_mode": {
    "name": "ipython",
    "version": 3
   },
   "file_extension": ".py",
   "mimetype": "text/x-python",
   "name": "python",
   "nbconvert_exporter": "python",
   "pygments_lexer": "ipython3",
   "version": "3.8.5"
  }
 },
 "nbformat": 4,
 "nbformat_minor": 4
}

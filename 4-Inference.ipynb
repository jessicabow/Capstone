{
 "cells": [
  {
   "cell_type": "markdown",
   "metadata": {},
   "source": [
    " # Petfinder: Bay Area Dog Adoption\n",
    " ![Icon](images/pets.jpg)"
   ]
  },
  {
   "cell_type": "markdown",
   "metadata": {},
   "source": [
    "### Notebook Contents"
   ]
  },
  {
   "cell_type": "markdown",
   "metadata": {},
   "source": []
  },
  {
   "cell_type": "markdown",
   "metadata": {},
   "source": [
    "--------"
   ]
  },
  {
   "cell_type": "code",
   "execution_count": 1,
   "metadata": {},
   "outputs": [],
   "source": [
    "import pandas as pd"
   ]
  },
  {
   "cell_type": "code",
   "execution_count": 2,
   "metadata": {},
   "outputs": [],
   "source": [
    "pd.set_option('display.max_columns', 500)"
   ]
  },
  {
   "cell_type": "code",
   "execution_count": 3,
   "metadata": {},
   "outputs": [],
   "source": [
    "pd.set_option('display.max_rows', 500)"
   ]
  },
  {
   "cell_type": "code",
   "execution_count": 4,
   "metadata": {},
   "outputs": [],
   "source": [
    "dogs = pd.read_csv('./petfinder_data/edadogs.csv')"
   ]
  },
  {
   "cell_type": "code",
   "execution_count": 5,
   "metadata": {},
   "outputs": [],
   "source": [
    "result = pd.read_csv('./petfinder_data/misclassified_listings.csv')"
   ]
  },
  {
   "cell_type": "code",
   "execution_count": 6,
   "metadata": {},
   "outputs": [],
   "source": [
    "good = result[result['predicted'] == 'Slow_adoption']\n",
    "bad = result[result['predicted'] == 'Speedy_adoption']"
   ]
  },
  {
   "cell_type": "markdown",
   "metadata": {},
   "source": [
    "#### Investigating misclassifications by shelter"
   ]
  },
  {
   "cell_type": "code",
   "execution_count": 7,
   "metadata": {},
   "outputs": [
    {
     "data": {
      "text/plain": [
       "CA1973    52\n",
       "CA2490    44\n",
       "CA86      41\n",
       "CA2452    37\n",
       "CA1727    27\n",
       "CA2646    25\n",
       "CA1005    23\n",
       "CA2614    22\n",
       "CA2324    18\n",
       "CA2280    18\n",
       "CA2420    15\n",
       "CA781     14\n",
       "CA1775    14\n",
       "CA2159    14\n",
       "CA1901    13\n",
       "CA2599    13\n",
       "CA2265    12\n",
       "CA464     11\n",
       "CA2618    11\n",
       "CA2285    11\n",
       "CA534     10\n",
       "CA162     10\n",
       "CA2003    10\n",
       "CA2467    10\n",
       "CA2436     9\n",
       "CA2164     9\n",
       "CA2113     9\n",
       "CA2710     9\n",
       "CA1698     8\n",
       "CA412      8\n",
       "CA474      8\n",
       "CA2373     8\n",
       "CA2463     7\n",
       "CA1496     7\n",
       "CA666      7\n",
       "CA1331     6\n",
       "CA2611     6\n",
       "CA1606     6\n",
       "CA957      6\n",
       "CA2037     6\n",
       "CA2437     6\n",
       "CA2538     6\n",
       "CA180      6\n",
       "CA2709     5\n",
       "CA2318     5\n",
       "CA2117     5\n",
       "CA2045     5\n",
       "CA717      5\n",
       "CA2572     5\n",
       "CA1601     4\n",
       "CA2512     4\n",
       "CA1184     4\n",
       "CA2396     4\n",
       "CA2584     4\n",
       "CA571      4\n",
       "CA1057     4\n",
       "CA362      4\n",
       "CA995      4\n",
       "CA1669     4\n",
       "CA2507     4\n",
       "CA2220     4\n",
       "CA1968     3\n",
       "CA840      3\n",
       "CA2585     3\n",
       "CA2192     3\n",
       "CA634      3\n",
       "CA2558     3\n",
       "CA283      3\n",
       "CA2656     3\n",
       "CA1131     3\n",
       "CA2261     3\n",
       "CA2692     3\n",
       "CA2678     3\n",
       "CA2492     2\n",
       "CA2806     2\n",
       "CA2442     2\n",
       "CA2846     2\n",
       "CA1762     2\n",
       "CA1328     2\n",
       "CA2766     2\n",
       "CA2428     2\n",
       "CA2796     2\n",
       "CA2054     2\n",
       "CA1509     2\n",
       "CA1060     2\n",
       "CA444      2\n",
       "CA2403     2\n",
       "CA2434     2\n",
       "CA2521     2\n",
       "CA285      2\n",
       "CA290      2\n",
       "CA2485     2\n",
       "WA526      2\n",
       "CA2517     1\n",
       "CA1781     1\n",
       "CA1584     1\n",
       "CA958      1\n",
       "CA2716     1\n",
       "CA271      1\n",
       "CA2340     1\n",
       "CA1003     1\n",
       "CA2809     1\n",
       "CA874      1\n",
       "CA1676     1\n",
       "CA161      1\n",
       "CA2810     1\n",
       "CA2619     1\n",
       "CA2397     1\n",
       "CA2326     1\n",
       "CA2143     1\n",
       "CA1852     1\n",
       "CA657      1\n",
       "CA1743     1\n",
       "CA1298     1\n",
       "CA2374     1\n",
       "CA2175     1\n",
       "NV160      1\n",
       "CA1826     1\n",
       "CA1437     1\n",
       "CA1877     1\n",
       "CA1528     1\n",
       "Name: organization_id, dtype: int64"
      ]
     },
     "execution_count": 7,
     "metadata": {},
     "output_type": "execute_result"
    }
   ],
   "source": [
    "good.organization_id.value_counts()   #positive misclass"
   ]
  },
  {
   "cell_type": "code",
   "execution_count": 8,
   "metadata": {},
   "outputs": [
    {
     "data": {
      "text/plain": [
       "CA2285    64\n",
       "CA162     55\n",
       "CA2324    42\n",
       "CA1973    40\n",
       "CA1727    36\n",
       "CA2436    36\n",
       "CA1005    33\n",
       "CA2490    31\n",
       "CA271     24\n",
       "CA1968    20\n",
       "CA1826    19\n",
       "CA2452    18\n",
       "CA2143    16\n",
       "CA2646    16\n",
       "CA2045    15\n",
       "CA86      14\n",
       "CA290     14\n",
       "CA781     13\n",
       "CA2614    13\n",
       "CA2159    12\n",
       "CA1698    12\n",
       "CA2572    11\n",
       "CA1775    10\n",
       "CA1496    10\n",
       "CA1123    10\n",
       "CA180     10\n",
       "CA2611    10\n",
       "CA840      9\n",
       "CA2717     9\n",
       "CA2108     9\n",
       "CA39       9\n",
       "CA2434     8\n",
       "CA2437     8\n",
       "CA1726     7\n",
       "CA1437     7\n",
       "CA1509     7\n",
       "CA2619     6\n",
       "CA2164     6\n",
       "CA1598     5\n",
       "CA2265     5\n",
       "CA995      4\n",
       "CA2585     4\n",
       "CA2710     4\n",
       "CA2037     4\n",
       "CA2251     3\n",
       "CA2806     3\n",
       "CA534      3\n",
       "CA2442     3\n",
       "CA2716     3\n",
       "CA1669     3\n",
       "CA2373     3\n",
       "CA2692     3\n",
       "MT59       3\n",
       "CA731      3\n",
       "CA2054     3\n",
       "CA2175     2\n",
       "CA1328     2\n",
       "CA2024     2\n",
       "CA1225     2\n",
       "CA412      2\n",
       "NV160      2\n",
       "CA522      2\n",
       "CA129      2\n",
       "CA444      2\n",
       "CA226      2\n",
       "CA786      2\n",
       "CA2599     2\n",
       "CA714      2\n",
       "CA2403     2\n",
       "CA2678     2\n",
       "CA1309     2\n",
       "CA1298     2\n",
       "CA1601     2\n",
       "CA2766     2\n",
       "CA2113     2\n",
       "CA992      2\n",
       "CA2160     1\n",
       "CA2618     1\n",
       "CA2521     1\n",
       "CA2003     1\n",
       "CA1781     1\n",
       "CA1938     1\n",
       "CA1979     1\n",
       "CA2220     1\n",
       "CA1331     1\n",
       "CA874      1\n",
       "CA474      1\n",
       "CA2280     1\n",
       "CA1676     1\n",
       "CA285      1\n",
       "CA2420     1\n",
       "CA2261     1\n",
       "CA339      1\n",
       "CA1852     1\n",
       "CA2689     1\n",
       "CA957      1\n",
       "CA634      1\n",
       "CA161      1\n",
       "CA2823     1\n",
       "CA2805     1\n",
       "CA1060     1\n",
       "CA1184     1\n",
       "CA1762     1\n",
       "CA2428     1\n",
       "CA2507     1\n",
       "CA1003     1\n",
       "Name: organization_id, dtype: int64"
      ]
     },
     "execution_count": 8,
     "metadata": {},
     "output_type": "execute_result"
    }
   ],
   "source": [
    "bad.organization_id.value_counts()  #bad misclass"
   ]
  },
  {
   "cell_type": "code",
   "execution_count": 32,
   "metadata": {},
   "outputs": [
    {
     "data": {
      "text/plain": [
       "CA1973    909\n",
       "CA2285    861\n",
       "CA162     804\n",
       "CA1726    716\n",
       "CA2324    623\n",
       "CA1005    617\n",
       "CA2490    612\n",
       "CA1727    583\n",
       "CA2452    516\n",
       "CA86      425\n",
       "CA2436    400\n",
       "CA1437    386\n",
       "CA2614    331\n",
       "CA271     322\n",
       "CA2251    274\n",
       "CA2646    261\n",
       "CA1698    242\n",
       "CA2599    228\n",
       "CA2003    228\n",
       "CA1968    223\n",
       "CA1826    222\n",
       "CA534     222\n",
       "CA2143    213\n",
       "CA2265    207\n",
       "CA2159    204\n",
       "CA2280    202\n",
       "CA781     199\n",
       "CA2164    199\n",
       "CA2045    198\n",
       "CA2611    195\n",
       "CA731     190\n",
       "CA2467    181\n",
       "CA2572    170\n",
       "CA714     166\n",
       "CA2716    164\n",
       "CA2618    162\n",
       "CA2717    148\n",
       "CA1496    148\n",
       "CA1775    147\n",
       "CA840     144\n",
       "CA2437    142\n",
       "CA2485    139\n",
       "CA2420    138\n",
       "CA39      138\n",
       "CA2037    133\n",
       "CA1313    128\n",
       "CA2538    127\n",
       "CA474     115\n",
       "CA2373    114\n",
       "CA412     114\n",
       "CA1184    113\n",
       "CA1901    112\n",
       "CA1509    111\n",
       "CA180     107\n",
       "CA2584    107\n",
       "CA717     104\n",
       "CA1123    102\n",
       "CA290     100\n",
       "CA2512     95\n",
       "CA1060     94\n",
       "CA1331     92\n",
       "CA2442     90\n",
       "CA487      87\n",
       "CA2434     86\n",
       "CA2113     86\n",
       "CA666      85\n",
       "CA2024     83\n",
       "CA2678     83\n",
       "CA2558     81\n",
       "CA2220     80\n",
       "CA2507     80\n",
       "CA1606     78\n",
       "CA464      66\n",
       "CA995      65\n",
       "CA957      64\n",
       "CA792      62\n",
       "CA1584     62\n",
       "CA2428     61\n",
       "CA2619     60\n",
       "CA2710     60\n",
       "CA2667     59\n",
       "CA2117     59\n",
       "CA2805     56\n",
       "CA2318     55\n",
       "CA283      53\n",
       "CA2692     52\n",
       "CA1598     52\n",
       "CA1052     50\n",
       "CA1669     49\n",
       "CA362      46\n",
       "CA2175     44\n",
       "CA2492     44\n",
       "CA2326     40\n",
       "CA571      40\n",
       "CA2641     40\n",
       "CA2508     38\n",
       "CA1440     38\n",
       "CA129      37\n",
       "CA2403     36\n",
       "CA1225     36\n",
       "CA2709     35\n",
       "CA2809     34\n",
       "CA2725     34\n",
       "CA2585     34\n",
       "CA1057     34\n",
       "CA2396     33\n",
       "CA2192     33\n",
       "CA2108     32\n",
       "CA586      31\n",
       "CA1745     30\n",
       "CA2656     28\n",
       "CA786      28\n",
       "NV160      28\n",
       "CA1601     28\n",
       "CA2312     27\n",
       "CA2766     27\n",
       "CA634      27\n",
       "CA2743     27\n",
       "CA745      26\n",
       "CA2806     26\n",
       "CA1852     25\n",
       "CA2689     25\n",
       "CA1328     25\n",
       "CA2463     25\n",
       "CA2340     24\n",
       "CA161      24\n",
       "CA2521     24\n",
       "CA444      23\n",
       "CA1877     22\n",
       "WA526      21\n",
       "CA1743     21\n",
       "CA173      21\n",
       "CA1676     20\n",
       "CA147      20\n",
       "CA2261     19\n",
       "CA2765     18\n",
       "CA2311     18\n",
       "CA1309     18\n",
       "CA339      17\n",
       "CA522      17\n",
       "CA657      17\n",
       "CA2796     16\n",
       "CA2054     16\n",
       "CA2810     15\n",
       "CA226      15\n",
       "CA1528     14\n",
       "CA2123     14\n",
       "CA2823     14\n",
       "CA2393     13\n",
       "CA2087     13\n",
       "AZ41       11\n",
       "CA1618     11\n",
       "CA2846     11\n",
       "CA992      11\n",
       "CA1332      9\n",
       "CA2798      9\n",
       "CA2374      9\n",
       "CA1003      9\n",
       "CA1781      9\n",
       "CA1298      9\n",
       "CA2784      8\n",
       "CA1832      8\n",
       "CA1938      8\n",
       "CA2160      8\n",
       "CA639       8\n",
       "CA2000      7\n",
       "CA874       7\n",
       "CA1644      7\n",
       "CA472       7\n",
       "CA2675      7\n",
       "CA958       7\n",
       "CA1725      6\n",
       "CA1979      6\n",
       "CA1370      6\n",
       "CA1762      6\n",
       "CA2517      5\n",
       "CA2698      5\n",
       "CA1131      5\n",
       "CA2764      5\n",
       "NY1298      5\n",
       "CA220       4\n",
       "CA755       4\n",
       "CA2495      4\n",
       "CA1965      4\n",
       "NC1005      4\n",
       "CA285       4\n",
       "MT59        3\n",
       "CA2785      3\n",
       "CA1171      3\n",
       "CA383       3\n",
       "CA471       3\n",
       "CA2554      3\n",
       "CA338       3\n",
       "CA2236      3\n",
       "CA593       2\n",
       "CA1932      2\n",
       "CA2732      2\n",
       "CA2203      2\n",
       "CA2177      2\n",
       "CA632       2\n",
       "CA1421      2\n",
       "CA1100      2\n",
       "OR170       2\n",
       "WA350       2\n",
       "CA03        2\n",
       "CA2834      2\n",
       "NJ592       1\n",
       "CA899       1\n",
       "FL929       1\n",
       "CA2795      1\n",
       "OH875       1\n",
       "CA1911      1\n",
       "OR243       1\n",
       "CA834       1\n",
       "CA347       1\n",
       "CA130       1\n",
       "CA1510      1\n",
       "CA932       1\n",
       "CA2788      1\n",
       "CA2714      1\n",
       "CA324       1\n",
       "CA2397      1\n",
       "CA1549      1\n",
       "TX1224      1\n",
       "AZ685       1\n",
       "CA1209      1\n",
       "CA2488      1\n",
       "CA2576      1\n",
       "WA690       1\n",
       "CA2652      1\n",
       "Name: organization_id, dtype: int64"
      ]
     },
     "execution_count": 32,
     "metadata": {},
     "output_type": "execute_result"
    }
   ],
   "source": [
    "dogs.organization_id.value_counts()   #total"
   ]
  },
  {
   "cell_type": "markdown",
   "metadata": {},
   "source": [
    "#### Overall"
   ]
  },
  {
   "cell_type": "code",
   "execution_count": 10,
   "metadata": {},
   "outputs": [
    {
     "data": {
      "text/plain": [
       "0.44494547691046427"
      ]
     },
     "execution_count": 10,
     "metadata": {},
     "output_type": "execute_result"
    }
   ],
   "source": [
    "dogs['polarity'].mean()"
   ]
  },
  {
   "cell_type": "code",
   "execution_count": 11,
   "metadata": {},
   "outputs": [
    {
     "data": {
      "text/plain": [
       "113.06299010814412"
      ]
     },
     "execution_count": 11,
     "metadata": {},
     "output_type": "execute_result"
    }
   ],
   "source": [
    "dogs['desc_len'].mean()"
   ]
  },
  {
   "cell_type": "code",
   "execution_count": 12,
   "metadata": {},
   "outputs": [
    {
     "data": {
      "text/plain": [
       "0    19101\n",
       "1      410\n",
       "Name: special_needs, dtype: int64"
      ]
     },
     "execution_count": 12,
     "metadata": {},
     "output_type": "execute_result"
    }
   ],
   "source": [
    "dogs['special_needs'].value_counts()"
   ]
  },
  {
   "cell_type": "markdown",
   "metadata": {},
   "source": [
    "#### Top performing shelter - Animal Friends Connection Humane Society in Lodi"
   ]
  },
  {
   "cell_type": "code",
   "execution_count": 13,
   "metadata": {},
   "outputs": [
    {
     "data": {
      "text/plain": [
       "(41, 40)"
      ]
     },
     "execution_count": 13,
     "metadata": {},
     "output_type": "execute_result"
    }
   ],
   "source": [
    "animal_friends_connection = good[good['organization_id'] == 'CA86']\n",
    "animal_friends_connection.shape"
   ]
  },
  {
   "cell_type": "code",
   "execution_count": 14,
   "metadata": {},
   "outputs": [
    {
     "data": {
      "text/plain": [
       "0.6614414634146342"
      ]
     },
     "execution_count": 14,
     "metadata": {},
     "output_type": "execute_result"
    }
   ],
   "source": [
    "animal_friends_connection['polarity'].mean()"
   ]
  },
  {
   "cell_type": "code",
   "execution_count": 15,
   "metadata": {},
   "outputs": [
    {
     "data": {
      "text/plain": [
       "106.07317073170732"
      ]
     },
     "execution_count": 15,
     "metadata": {},
     "output_type": "execute_result"
    }
   ],
   "source": [
    "animal_friends_connection['desc_len'].mean()"
   ]
  },
  {
   "cell_type": "code",
   "execution_count": 29,
   "metadata": {},
   "outputs": [
    {
     "data": {
      "text/plain": [
       "Young    20\n",
       "Baby     14\n",
       "Adult     7\n",
       "Name: age, dtype: int64"
      ]
     },
     "execution_count": 29,
     "metadata": {},
     "output_type": "execute_result"
    }
   ],
   "source": [
    "animal_friends_connection['age'].value_counts()"
   ]
  },
  {
   "cell_type": "code",
   "execution_count": 17,
   "metadata": {},
   "outputs": [
    {
     "data": {
      "text/plain": [
       "0    40\n",
       "1     1\n",
       "Name: special_needs, dtype: int64"
      ]
     },
     "execution_count": 17,
     "metadata": {},
     "output_type": "execute_result"
    }
   ],
   "source": [
    "animal_friends_connection['special_needs'].value_counts()"
   ]
  },
  {
   "cell_type": "code",
   "execution_count": 18,
   "metadata": {},
   "outputs": [
    {
     "data": {
      "text/plain": [
       "1    34\n",
       "2     7\n",
       "Name: good_with_kids, dtype: int64"
      ]
     },
     "execution_count": 18,
     "metadata": {},
     "output_type": "execute_result"
    }
   ],
   "source": [
    "animal_friends_connection['good_with_kids'].value_counts()"
   ]
  },
  {
   "cell_type": "code",
   "execution_count": 19,
   "metadata": {},
   "outputs": [
    {
     "data": {
      "text/plain": [
       "2    33\n",
       "1     5\n",
       "0     3\n",
       "Name: good_with_cats, dtype: int64"
      ]
     },
     "execution_count": 19,
     "metadata": {},
     "output_type": "execute_result"
    }
   ],
   "source": [
    "animal_friends_connection['good_with_cats'].value_counts()"
   ]
  },
  {
   "cell_type": "code",
   "execution_count": 20,
   "metadata": {},
   "outputs": [
    {
     "data": {
      "text/plain": [
       "1    32\n",
       "0     9\n",
       "Name: house_trained, dtype: int64"
      ]
     },
     "execution_count": 20,
     "metadata": {},
     "output_type": "execute_result"
    }
   ],
   "source": [
    "animal_friends_connection['house_trained'].value_counts()"
   ]
  },
  {
   "cell_type": "markdown",
   "metadata": {},
   "source": [
    "#### Worst Performing Shelter - Underdog Animal Rescue in Lafayette"
   ]
  },
  {
   "cell_type": "code",
   "execution_count": 33,
   "metadata": {},
   "outputs": [
    {
     "data": {
      "text/plain": [
       "(55, 40)"
      ]
     },
     "execution_count": 33,
     "metadata": {},
     "output_type": "execute_result"
    }
   ],
   "source": [
    "underdog = bad[bad['organization_id'] == 'CA162']\n",
    "underdog.shape"
   ]
  },
  {
   "cell_type": "code",
   "execution_count": 34,
   "metadata": {},
   "outputs": [
    {
     "data": {
      "text/plain": [
       "0.3095818181818182"
      ]
     },
     "execution_count": 34,
     "metadata": {},
     "output_type": "execute_result"
    }
   ],
   "source": [
    "underdog['polarity'].mean()"
   ]
  },
  {
   "cell_type": "code",
   "execution_count": 35,
   "metadata": {},
   "outputs": [
    {
     "data": {
      "text/plain": [
       "105.52727272727273"
      ]
     },
     "execution_count": 35,
     "metadata": {},
     "output_type": "execute_result"
    }
   ],
   "source": [
    "underdog['desc_len'].mean()"
   ]
  },
  {
   "cell_type": "code",
   "execution_count": 36,
   "metadata": {},
   "outputs": [
    {
     "data": {
      "text/plain": [
       "Adult     25\n",
       "Young     16\n",
       "Baby      10\n",
       "Senior     4\n",
       "Name: age, dtype: int64"
      ]
     },
     "execution_count": 36,
     "metadata": {},
     "output_type": "execute_result"
    }
   ],
   "source": [
    "underdog['age'].value_counts()"
   ]
  },
  {
   "cell_type": "code",
   "execution_count": 37,
   "metadata": {},
   "outputs": [
    {
     "data": {
      "text/plain": [
       "0    53\n",
       "1     2\n",
       "Name: special_needs, dtype: int64"
      ]
     },
     "execution_count": 37,
     "metadata": {},
     "output_type": "execute_result"
    }
   ],
   "source": [
    "underdog['special_needs'].value_counts()"
   ]
  },
  {
   "cell_type": "code",
   "execution_count": 38,
   "metadata": {},
   "outputs": [
    {
     "data": {
      "text/plain": [
       "2    49\n",
       "0     5\n",
       "1     1\n",
       "Name: good_with_kids, dtype: int64"
      ]
     },
     "execution_count": 38,
     "metadata": {},
     "output_type": "execute_result"
    }
   ],
   "source": [
    "underdog['good_with_kids'].value_counts()"
   ]
  },
  {
   "cell_type": "code",
   "execution_count": 39,
   "metadata": {},
   "outputs": [
    {
     "data": {
      "text/plain": [
       "2    52\n",
       "0     2\n",
       "1     1\n",
       "Name: good_with_cats, dtype: int64"
      ]
     },
     "execution_count": 39,
     "metadata": {},
     "output_type": "execute_result"
    }
   ],
   "source": [
    "underdog['good_with_cats'].value_counts()"
   ]
  },
  {
   "cell_type": "code",
   "execution_count": null,
   "metadata": {},
   "outputs": [],
   "source": []
  }
 ],
 "metadata": {
  "kernelspec": {
   "display_name": "Python 3",
   "language": "python",
   "name": "python3"
  },
  "language_info": {
   "codemirror_mode": {
    "name": "ipython",
    "version": 3
   },
   "file_extension": ".py",
   "mimetype": "text/x-python",
   "name": "python",
   "nbconvert_exporter": "python",
   "pygments_lexer": "ipython3",
   "version": "3.8.5"
  }
 },
 "nbformat": 4,
 "nbformat_minor": 4
}

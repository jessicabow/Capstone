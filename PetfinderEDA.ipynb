{
 "cells": [
  {
   "cell_type": "markdown",
   "metadata": {},
   "source": [
    " # Petfinder: Northern California Adoption Rate EDA\n",
    " ![ImdbIcon](images/pets.jpg)"
   ]
  },
  {
   "cell_type": "code",
   "execution_count": 1,
   "metadata": {},
   "outputs": [],
   "source": [
    "import pandas as pd\n",
    "import numpy as np\n",
    "import matplotlib.pyplot as plt\n",
    "import seaborn as sns\n",
    "\n",
    "from sklearn.feature_extraction.text import CountVectorizer, TfidfVectorizer\n",
    "from sklearn.feature_extraction import text\n",
    "from nltk.sentiment.vader import SentimentIntensityAnalyzer"
   ]
  },
  {
   "cell_type": "code",
   "execution_count": 2,
   "metadata": {},
   "outputs": [],
   "source": [
    "dogs = pd.read_csv('./petfinder_data/dogs_eda.csv')"
   ]
  },
  {
   "cell_type": "code",
   "execution_count": 3,
   "metadata": {},
   "outputs": [
    {
     "data": {
      "text/html": [
       "<div>\n",
       "<style scoped>\n",
       "    .dataframe tbody tr th:only-of-type {\n",
       "        vertical-align: middle;\n",
       "    }\n",
       "\n",
       "    .dataframe tbody tr th {\n",
       "        vertical-align: top;\n",
       "    }\n",
       "\n",
       "    .dataframe thead th {\n",
       "        text-align: right;\n",
       "    }\n",
       "</style>\n",
       "<table border=\"1\" class=\"dataframe\">\n",
       "  <thead>\n",
       "    <tr style=\"text-align: right;\">\n",
       "      <th></th>\n",
       "      <th>organization_id</th>\n",
       "      <th>age</th>\n",
       "      <th>gender</th>\n",
       "      <th>size</th>\n",
       "      <th>coat</th>\n",
       "      <th>name</th>\n",
       "      <th>description</th>\n",
       "      <th>status_changed_at</th>\n",
       "      <th>published_at</th>\n",
       "      <th>distance</th>\n",
       "      <th>...</th>\n",
       "      <th>good_with_dogs</th>\n",
       "      <th>good_with_cats</th>\n",
       "      <th>city</th>\n",
       "      <th>contact.address.state</th>\n",
       "      <th>zipcode</th>\n",
       "      <th>has_photo</th>\n",
       "      <th>days_on_petfinder</th>\n",
       "      <th>year</th>\n",
       "      <th>year_adopted</th>\n",
       "      <th>month_adopted</th>\n",
       "    </tr>\n",
       "  </thead>\n",
       "  <tbody>\n",
       "    <tr>\n",
       "      <th>0</th>\n",
       "      <td>CA1005</td>\n",
       "      <td>Baby</td>\n",
       "      <td>Male</td>\n",
       "      <td>Medium</td>\n",
       "      <td>Medium</td>\n",
       "      <td>Spirit (S Litter)</td>\n",
       "      <td>EMAIL:  stonecliffeadoption@gmail.com for an a...</td>\n",
       "      <td>2019-02-10 03:03:57+00:00</td>\n",
       "      <td>2019-01-02 03:49:40+00:00</td>\n",
       "      <td>16.3248</td>\n",
       "      <td>...</td>\n",
       "      <td>1</td>\n",
       "      <td>2</td>\n",
       "      <td>Dublin</td>\n",
       "      <td>CA</td>\n",
       "      <td>94568.0</td>\n",
       "      <td>1</td>\n",
       "      <td>39.0</td>\n",
       "      <td>2019</td>\n",
       "      <td>2019</td>\n",
       "      <td>2</td>\n",
       "    </tr>\n",
       "    <tr>\n",
       "      <th>1</th>\n",
       "      <td>CA1005</td>\n",
       "      <td>Young</td>\n",
       "      <td>Female</td>\n",
       "      <td>Small</td>\n",
       "      <td>Wire</td>\n",
       "      <td>Tachi</td>\n",
       "      <td>EMAIL:  stonecliffeadoption@gmail.com for an a...</td>\n",
       "      <td>2019-03-10 05:20:18+00:00</td>\n",
       "      <td>2019-01-02 03:57:32+00:00</td>\n",
       "      <td>16.3248</td>\n",
       "      <td>...</td>\n",
       "      <td>1</td>\n",
       "      <td>2</td>\n",
       "      <td>Dublin</td>\n",
       "      <td>CA</td>\n",
       "      <td>94568.0</td>\n",
       "      <td>1</td>\n",
       "      <td>67.0</td>\n",
       "      <td>2019</td>\n",
       "      <td>2019</td>\n",
       "      <td>3</td>\n",
       "    </tr>\n",
       "    <tr>\n",
       "      <th>2</th>\n",
       "      <td>CA1005</td>\n",
       "      <td>Baby</td>\n",
       "      <td>Male</td>\n",
       "      <td>Small</td>\n",
       "      <td>Wire</td>\n",
       "      <td>Walley ( W Litter pup )</td>\n",
       "      <td>EMAIL:  stonecliffeadoption@gmail.com for an a...</td>\n",
       "      <td>2019-02-10 03:04:27+00:00</td>\n",
       "      <td>2019-01-02 04:02:15+00:00</td>\n",
       "      <td>16.3248</td>\n",
       "      <td>...</td>\n",
       "      <td>1</td>\n",
       "      <td>2</td>\n",
       "      <td>Dublin</td>\n",
       "      <td>CA</td>\n",
       "      <td>94568.0</td>\n",
       "      <td>1</td>\n",
       "      <td>39.0</td>\n",
       "      <td>2019</td>\n",
       "      <td>2019</td>\n",
       "      <td>2</td>\n",
       "    </tr>\n",
       "    <tr>\n",
       "      <th>3</th>\n",
       "      <td>CA1005</td>\n",
       "      <td>Baby</td>\n",
       "      <td>Male</td>\n",
       "      <td>Small</td>\n",
       "      <td>Wire</td>\n",
       "      <td>Wesley ( W litter pup )</td>\n",
       "      <td>EMAIL:  stonecliffeadoption@gmail.com for an a...</td>\n",
       "      <td>2019-01-20 00:45:54+00:00</td>\n",
       "      <td>2019-01-02 04:06:50+00:00</td>\n",
       "      <td>16.3248</td>\n",
       "      <td>...</td>\n",
       "      <td>1</td>\n",
       "      <td>2</td>\n",
       "      <td>Dublin</td>\n",
       "      <td>CA</td>\n",
       "      <td>94568.0</td>\n",
       "      <td>1</td>\n",
       "      <td>18.0</td>\n",
       "      <td>2019</td>\n",
       "      <td>2019</td>\n",
       "      <td>1</td>\n",
       "    </tr>\n",
       "    <tr>\n",
       "      <th>4</th>\n",
       "      <td>CA1005</td>\n",
       "      <td>Baby</td>\n",
       "      <td>Male</td>\n",
       "      <td>Small</td>\n",
       "      <td>Wire</td>\n",
       "      <td>Wilbur *Adoption in process JL\"</td>\n",
       "      <td>EMAIL:  stonecliffeadoption@gmail.com for an a...</td>\n",
       "      <td>2019-03-24 03:42:52+00:00</td>\n",
       "      <td>2019-01-02 04:11:05+00:00</td>\n",
       "      <td>16.3248</td>\n",
       "      <td>...</td>\n",
       "      <td>1</td>\n",
       "      <td>2</td>\n",
       "      <td>Dublin</td>\n",
       "      <td>CA</td>\n",
       "      <td>94568.0</td>\n",
       "      <td>1</td>\n",
       "      <td>81.0</td>\n",
       "      <td>2019</td>\n",
       "      <td>2019</td>\n",
       "      <td>3</td>\n",
       "    </tr>\n",
       "  </tbody>\n",
       "</table>\n",
       "<p>5 rows × 31 columns</p>\n",
       "</div>"
      ],
      "text/plain": [
       "  organization_id    age  gender    size    coat  \\\n",
       "0          CA1005   Baby    Male  Medium  Medium   \n",
       "1          CA1005  Young  Female   Small    Wire   \n",
       "2          CA1005   Baby    Male   Small    Wire   \n",
       "3          CA1005   Baby    Male   Small    Wire   \n",
       "4          CA1005   Baby    Male   Small    Wire   \n",
       "\n",
       "                              name  \\\n",
       "0                Spirit (S Litter)   \n",
       "1                            Tachi   \n",
       "2          Walley ( W Litter pup )   \n",
       "3          Wesley ( W litter pup )   \n",
       "4  Wilbur *Adoption in process JL\"   \n",
       "\n",
       "                                         description  \\\n",
       "0  EMAIL:  stonecliffeadoption@gmail.com for an a...   \n",
       "1  EMAIL:  stonecliffeadoption@gmail.com for an a...   \n",
       "2  EMAIL:  stonecliffeadoption@gmail.com for an a...   \n",
       "3  EMAIL:  stonecliffeadoption@gmail.com for an a...   \n",
       "4  EMAIL:  stonecliffeadoption@gmail.com for an a...   \n",
       "\n",
       "           status_changed_at               published_at  distance  ...  \\\n",
       "0  2019-02-10 03:03:57+00:00  2019-01-02 03:49:40+00:00   16.3248  ...   \n",
       "1  2019-03-10 05:20:18+00:00  2019-01-02 03:57:32+00:00   16.3248  ...   \n",
       "2  2019-02-10 03:04:27+00:00  2019-01-02 04:02:15+00:00   16.3248  ...   \n",
       "3  2019-01-20 00:45:54+00:00  2019-01-02 04:06:50+00:00   16.3248  ...   \n",
       "4  2019-03-24 03:42:52+00:00  2019-01-02 04:11:05+00:00   16.3248  ...   \n",
       "\n",
       "  good_with_dogs good_with_cats    city contact.address.state  zipcode  \\\n",
       "0              1              2  Dublin                    CA  94568.0   \n",
       "1              1              2  Dublin                    CA  94568.0   \n",
       "2              1              2  Dublin                    CA  94568.0   \n",
       "3              1              2  Dublin                    CA  94568.0   \n",
       "4              1              2  Dublin                    CA  94568.0   \n",
       "\n",
       "  has_photo  days_on_petfinder  year  year_adopted  month_adopted  \n",
       "0         1               39.0  2019          2019              2  \n",
       "1         1               67.0  2019          2019              3  \n",
       "2         1               39.0  2019          2019              2  \n",
       "3         1               18.0  2019          2019              1  \n",
       "4         1               81.0  2019          2019              3  \n",
       "\n",
       "[5 rows x 31 columns]"
      ]
     },
     "execution_count": 3,
     "metadata": {},
     "output_type": "execute_result"
    }
   ],
   "source": [
    "dogs.head()"
   ]
  },
  {
   "cell_type": "markdown",
   "metadata": {},
   "source": [
    "### TFIDF"
   ]
  },
  {
   "cell_type": "code",
   "execution_count": 4,
   "metadata": {},
   "outputs": [],
   "source": [
    "#dog_list = "
   ]
  },
  {
   "cell_type": "code",
   "execution_count": 5,
   "metadata": {},
   "outputs": [],
   "source": [
    "#stop_words = text.ENGLISH_STOP_WORDS.union(dog_list)"
   ]
  },
  {
   "cell_type": "code",
   "execution_count": 6,
   "metadata": {},
   "outputs": [
    {
     "data": {
      "image/png": "[encoded data removed]",
      "text/plain": [
       "<Figure size 936x648 with 1 Axes>"
      ]
     },
     "metadata": {
      "needs_background": "light"
     },
     "output_type": "display_data"
    }
   ],
   "source": [
    "dogs = dogs[dogs['description'].notna()]\n",
    "\n",
    "dog_cvec= CountVectorizer(stop_words='english')\n",
    "X = dogs['description']\n",
    "dog_cvec.fit(X)\n",
    "X_trans = dog_cvec.transform(X)\n",
    "\n",
    "X_trans = pd.DataFrame(X_trans.todense(), \n",
    "                 columns=dog_cvec.get_feature_names())\n",
    "\n",
    "plt.figure(figsize = [13, 9])\n",
    "plt.title('Most Common Words in Dog Descriptions')\n",
    "plt.xlabel('Word Count')\n",
    "plt.ylabel('Word')\n",
    "X_trans.sum().sort_values(ascending = False).head(20).plot(kind='barh');"
   ]
  },
  {
   "cell_type": "code",
   "execution_count": 7,
   "metadata": {},
   "outputs": [],
   "source": [
    "dogs['desc_len'] = [len(x) for x in dogs['description']]"
   ]
  },
  {
   "cell_type": "code",
   "execution_count": 8,
   "metadata": {},
   "outputs": [],
   "source": [
    "# Adding a compound polarity score column\n",
    "dogs = dogs[dogs['description'].notna()]\n",
    "\n",
    "desc_list = dogs['description'].tolist()\n",
    "\n",
    "analyzer = SentimentIntensityAnalyzer()\n",
    "\n",
    "def get_polarity(desc_list):\n",
    "    polarity = []\n",
    "    for post in desc_list:\n",
    "        vs = analyzer.polarity_scores(post)\n",
    "        polarity.append(vs['compound']) \n",
    "    return polarity\n",
    "\n",
    "polarity = get_polarity(desc_list)\n",
    "\n",
    "dogs['polarity'] = polarity"
   ]
  },
  {
   "cell_type": "markdown",
   "metadata": {},
   "source": [
    "### EDA"
   ]
  },
  {
   "cell_type": "code",
   "execution_count": 9,
   "metadata": {},
   "outputs": [
    {
     "data": {
      "image/png": "[encoded data removed]",
      "text/plain": [
       "<Figure size 360x360 with 1 Axes>"
      ]
     },
     "metadata": {
      "needs_background": "light"
     },
     "output_type": "display_data"
    }
   ],
   "source": [
    "sns.catplot(x='age', kind='count', palette='ch:.25', data=dogs, legend_out=True)\n",
    "plt.title('Dog Age Distribution');"
   ]
  },
  {
   "cell_type": "code",
   "execution_count": 11,
   "metadata": {},
   "outputs": [
    {
     "data": {
      "image/png": "[encoded data removed]",
      "text/plain": [
       "<Figure size 720x576 with 2 Axes>"
      ]
     },
     "metadata": {
      "needs_background": "light"
     },
     "output_type": "display_data"
    }
   ],
   "source": [
    "plt.figure(figsize=(10, 8))\n",
    "sns.heatmap(dogs.corr()[['days_on_petfinder']].sort_values(by='days_on_petfinder', ascending=True),\n",
    "            vmin = -1, vmax=1,\n",
    "            cmap ='winter',\n",
    "            annot = True,);\n",
    "plt.title(\"Correlation With Adoption Speed\", size = 20);"
   ]
  },
  {
   "cell_type": "code",
   "execution_count": null,
   "metadata": {},
   "outputs": [],
   "source": []
  }
 ],
 "metadata": {
  "kernelspec": {
   "display_name": "Python 3",
   "language": "python",
   "name": "python3"
  },
  "language_info": {
   "codemirror_mode": {
    "name": "ipython",
    "version": 3
   },
   "file_extension": ".py",
   "mimetype": "text/x-python",
   "name": "python",
   "nbconvert_exporter": "python",
   "pygments_lexer": "ipython3",
   "version": "3.8.5"
  }
 },
 "nbformat": 4,
 "nbformat_minor": 4
}

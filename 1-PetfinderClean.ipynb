{
 "cells": [
  {
   "cell_type": "markdown",
   "metadata": {},
   "source": [
    " # Petfinder: Bay Area Dog Adoption\n",
    " ![Icon](images/pets.jpg)"
   ]
  },
  {
   "cell_type": "markdown",
   "metadata": {},
   "source": [
    "### Notebook Contents"
   ]
  },
  {
   "cell_type": "markdown",
   "metadata": {},
   "source": []
  },
  {
   "cell_type": "markdown",
   "metadata": {},
   "source": [
    "------"
   ]
  },
  {
   "cell_type": "markdown",
   "metadata": {},
   "source": [
    "### Imports"
   ]
  },
  {
   "cell_type": "code",
   "execution_count": 1,
   "metadata": {},
   "outputs": [],
   "source": [
    "import petpy\n",
    "import pandas as pd\n",
    "import numpy as np\n",
    "import matplotlib.pyplot as plt\n",
    "import seaborn as sns\n",
    "\n",
    "from sklearn.feature_extraction.text import CountVectorizer, TfidfVectorizer\n",
    "from sklearn.feature_extraction import text\n",
    "from nltk.sentiment.vader import SentimentIntensityAnalyzer\n",
    "\n",
    "from sklearn.model_selection import train_test_split, GridSearchCV, cross_val_score\n",
    "from sklearn.pipeline import Pipeline\n",
    "from sklearn.metrics import confusion_matrix, plot_confusion_matrix\n",
    "from sklearn.preprocessing import StandardScaler\n",
    "from sklearn.linear_model import LogisticRegression\n",
    "from sklearn import metrics\n",
    "import scipy.stats as stats\n",
    "from sklearn.metrics import accuracy_score, precision_score, recall_score, f1_score\n",
    "from sklearn.metrics import classification_report\n",
    "from sklearn.preprocessing import LabelEncoder\n",
    "\n",
    "from sklearn.model_selection import GridSearchCV, train_test_split\n",
    "from sklearn.feature_extraction.text import CountVectorizer, TfidfVectorizer, TfidfTransformer\n",
    "from sklearn.pipeline import Pipeline\n",
    "from sklearn.base import TransformerMixin"
   ]
  },
  {
   "cell_type": "code",
   "execution_count": 2,
   "metadata": {},
   "outputs": [],
   "source": [
    "pd.set_option('display.max_columns', 500)"
   ]
  },
  {
   "cell_type": "code",
   "execution_count": 3,
   "metadata": {},
   "outputs": [],
   "source": [
    "dogs = pd.read_csv('./petfinder_data/uncleandogs.csv')"
   ]
  },
  {
   "cell_type": "markdown",
   "metadata": {},
   "source": [
    " ______"
   ]
  },
  {
   "cell_type": "markdown",
   "metadata": {},
   "source": [
    "### Petfinder API + Petpy Wrapper"
   ]
  },
  {
   "cell_type": "code",
   "execution_count": 4,
   "metadata": {},
   "outputs": [],
   "source": [
    "# Using petpy wrapper with petfinder API keys (removed my personal key + secret)\n",
    "#pf = petpy.Petfinder(key='your key here', secret='your secret key here')\n"
   ]
  },
  {
   "cell_type": "code",
   "execution_count": 5,
   "metadata": {},
   "outputs": [],
   "source": [
    "#dogs = pf.animals(animal_type='dog', status='adopted', results_per_page=100, pages=200, location=94602, \n",
    "                   #before_date = '2021-01-01', after_date='2018-12-31', return_df=True)\n"
   ]
  },
  {
   "cell_type": "markdown",
   "metadata": {},
   "source": [
    "- petfinder would not allow me to pull two years worth of data at once, so this required pulling the maximum, finding the end date down to the minute, re-inputting that into my pull request before date and running again as dogs2 and finally concatenating those df's as shown below"
   ]
  },
  {
   "cell_type": "code",
   "execution_count": 6,
   "metadata": {},
   "outputs": [],
   "source": [
    "#dogs.sort_values(by=['published_at'], inplace=True)"
   ]
  },
  {
   "cell_type": "code",
   "execution_count": 7,
   "metadata": {},
   "outputs": [
    {
     "data": {
      "text/plain": [
       "(20000, 49)"
      ]
     },
     "execution_count": 7,
     "metadata": {},
     "output_type": "execute_result"
    }
   ],
   "source": [
    "dogs.shape"
   ]
  },
  {
   "cell_type": "code",
   "execution_count": 8,
   "metadata": {},
   "outputs": [
    {
     "data": {
      "text/html": [
       "<div>\n",
       "<style scoped>\n",
       "    .dataframe tbody tr th:only-of-type {\n",
       "        vertical-align: middle;\n",
       "    }\n",
       "\n",
       "    .dataframe tbody tr th {\n",
       "        vertical-align: top;\n",
       "    }\n",
       "\n",
       "    .dataframe thead th {\n",
       "        text-align: right;\n",
       "    }\n",
       "</style>\n",
       "<table border=\"1\" class=\"dataframe\">\n",
       "  <thead>\n",
       "    <tr style=\"text-align: right;\">\n",
       "      <th></th>\n",
       "      <th>id</th>\n",
       "      <th>organization_id</th>\n",
       "      <th>type</th>\n",
       "      <th>species</th>\n",
       "      <th>age</th>\n",
       "      <th>gender</th>\n",
       "      <th>size</th>\n",
       "      <th>coat</th>\n",
       "      <th>tags</th>\n",
       "      <th>name</th>\n",
       "      <th>description</th>\n",
       "      <th>status</th>\n",
       "      <th>status_changed_at</th>\n",
       "      <th>published_at</th>\n",
       "      <th>distance</th>\n",
       "      <th>breeds.primary</th>\n",
       "      <th>breeds.secondary</th>\n",
       "      <th>breeds.mixed</th>\n",
       "      <th>breeds.unknown</th>\n",
       "      <th>colors.primary</th>\n",
       "      <th>colors.secondary</th>\n",
       "      <th>colors.tertiary</th>\n",
       "      <th>attributes.spayed_neutered</th>\n",
       "      <th>attributes.house_trained</th>\n",
       "      <th>attributes.declawed</th>\n",
       "      <th>attributes.special_needs</th>\n",
       "      <th>attributes.shots_current</th>\n",
       "      <th>environment.children</th>\n",
       "      <th>environment.dogs</th>\n",
       "      <th>environment.cats</th>\n",
       "      <th>primary_photo_cropped.small</th>\n",
       "      <th>primary_photo_cropped.medium</th>\n",
       "      <th>primary_photo_cropped.large</th>\n",
       "      <th>primary_photo_cropped.full</th>\n",
       "      <th>contact.email</th>\n",
       "      <th>contact.phone</th>\n",
       "      <th>contact.address.address1</th>\n",
       "      <th>contact.address.address2</th>\n",
       "      <th>contact.address.city</th>\n",
       "      <th>contact.address.state</th>\n",
       "      <th>contact.address.postcode</th>\n",
       "      <th>contact.address.country</th>\n",
       "      <th>animal_id</th>\n",
       "      <th>animal_type</th>\n",
       "      <th>organization_id.1</th>\n",
       "    </tr>\n",
       "  </thead>\n",
       "  <tbody>\n",
       "    <tr>\n",
       "      <th>0</th>\n",
       "      <td>43675837</td>\n",
       "      <td>CA162</td>\n",
       "      <td>Dog</td>\n",
       "      <td>Dog</td>\n",
       "      <td>Baby</td>\n",
       "      <td>Male</td>\n",
       "      <td>Large</td>\n",
       "      <td>Medium</td>\n",
       "      <td>[]</td>\n",
       "      <td>Tahoe</td>\n",
       "      <td>Tahoe is a GSD and Bernese Mountain Dog mix. H...</td>\n",
       "      <td>adopted</td>\n",
       "      <td>2019-01-06T04:24:04+0000</td>\n",
       "      <td>2019-01-02T19:56:29+0000</td>\n",
       "      <td>40.1912</td>\n",
       "      <td>German Shepherd Dog</td>\n",
       "      <td>Bernese Mountain Dog</td>\n",
       "      <td>True</td>\n",
       "      <td>False</td>\n",
       "      <td>Black</td>\n",
       "      <td>Sable</td>\n",
       "      <td>White / Cream</td>\n",
       "      <td>True</td>\n",
       "      <td>False</td>\n",
       "      <td>NaN</td>\n",
       "      <td>False</td>\n",
       "      <td>True</td>\n",
       "      <td>NaN</td>\n",
       "      <td>NaN</td>\n",
       "      <td>NaN</td>\n",
       "      <td>https://dl5zpyw5k3jeb.cloudfront.net/photos/pe...</td>\n",
       "      <td>https://dl5zpyw5k3jeb.cloudfront.net/photos/pe...</td>\n",
       "      <td>https://dl5zpyw5k3jeb.cloudfront.net/photos/pe...</td>\n",
       "      <td>https://dl5zpyw5k3jeb.cloudfront.net/photos/pe...</td>\n",
       "      <td>solanospca@gmail.com</td>\n",
       "      <td>(707) 448-7722</td>\n",
       "      <td>2200 Peabody Rd</td>\n",
       "      <td>PO Box 356</td>\n",
       "      <td>Vacaville</td>\n",
       "      <td>CA</td>\n",
       "      <td>95696.0</td>\n",
       "      <td>US</td>\n",
       "      <td>43675837</td>\n",
       "      <td>dog</td>\n",
       "      <td>ca162</td>\n",
       "    </tr>\n",
       "    <tr>\n",
       "      <th>1</th>\n",
       "      <td>43675879</td>\n",
       "      <td>CA162</td>\n",
       "      <td>Dog</td>\n",
       "      <td>Dog</td>\n",
       "      <td>Baby</td>\n",
       "      <td>Male</td>\n",
       "      <td>Small</td>\n",
       "      <td>Short</td>\n",
       "      <td>[]</td>\n",
       "      <td>Natomas</td>\n",
       "      <td>Natomas is a 16 week old Chihuahua mix and he&amp;...</td>\n",
       "      <td>adopted</td>\n",
       "      <td>2019-01-16T23:13:41+0000</td>\n",
       "      <td>2019-01-02T20:03:38+0000</td>\n",
       "      <td>40.1912</td>\n",
       "      <td>Chihuahua</td>\n",
       "      <td>NaN</td>\n",
       "      <td>True</td>\n",
       "      <td>False</td>\n",
       "      <td>Sable</td>\n",
       "      <td>White / Cream</td>\n",
       "      <td>NaN</td>\n",
       "      <td>True</td>\n",
       "      <td>False</td>\n",
       "      <td>NaN</td>\n",
       "      <td>False</td>\n",
       "      <td>True</td>\n",
       "      <td>NaN</td>\n",
       "      <td>NaN</td>\n",
       "      <td>NaN</td>\n",
       "      <td>https://dl5zpyw5k3jeb.cloudfront.net/photos/pe...</td>\n",
       "      <td>https://dl5zpyw5k3jeb.cloudfront.net/photos/pe...</td>\n",
       "      <td>https://dl5zpyw5k3jeb.cloudfront.net/photos/pe...</td>\n",
       "      <td>https://dl5zpyw5k3jeb.cloudfront.net/photos/pe...</td>\n",
       "      <td>solanospca@gmail.com</td>\n",
       "      <td>(707) 448-7722</td>\n",
       "      <td>2200 Peabody Rd</td>\n",
       "      <td>PO Box 356</td>\n",
       "      <td>Vacaville</td>\n",
       "      <td>CA</td>\n",
       "      <td>95696.0</td>\n",
       "      <td>US</td>\n",
       "      <td>43675879</td>\n",
       "      <td>dog</td>\n",
       "      <td>ca162</td>\n",
       "    </tr>\n",
       "    <tr>\n",
       "      <th>2</th>\n",
       "      <td>43675911</td>\n",
       "      <td>CA162</td>\n",
       "      <td>Dog</td>\n",
       "      <td>Dog</td>\n",
       "      <td>Baby</td>\n",
       "      <td>Male</td>\n",
       "      <td>Small</td>\n",
       "      <td>Medium</td>\n",
       "      <td>[]</td>\n",
       "      <td>Folsom</td>\n",
       "      <td>Folsom is a male 16 week old Terrier mix (Chih...</td>\n",
       "      <td>adopted</td>\n",
       "      <td>2019-01-12T01:53:52+0000</td>\n",
       "      <td>2019-01-02T20:10:02+0000</td>\n",
       "      <td>40.1912</td>\n",
       "      <td>Terrier</td>\n",
       "      <td>NaN</td>\n",
       "      <td>True</td>\n",
       "      <td>False</td>\n",
       "      <td>Black</td>\n",
       "      <td>Sable</td>\n",
       "      <td>White / Cream</td>\n",
       "      <td>True</td>\n",
       "      <td>False</td>\n",
       "      <td>NaN</td>\n",
       "      <td>False</td>\n",
       "      <td>True</td>\n",
       "      <td>NaN</td>\n",
       "      <td>NaN</td>\n",
       "      <td>NaN</td>\n",
       "      <td>https://dl5zpyw5k3jeb.cloudfront.net/photos/pe...</td>\n",
       "      <td>https://dl5zpyw5k3jeb.cloudfront.net/photos/pe...</td>\n",
       "      <td>https://dl5zpyw5k3jeb.cloudfront.net/photos/pe...</td>\n",
       "      <td>https://dl5zpyw5k3jeb.cloudfront.net/photos/pe...</td>\n",
       "      <td>solanospca@gmail.com</td>\n",
       "      <td>(707) 448-7722</td>\n",
       "      <td>2200 Peabody Rd</td>\n",
       "      <td>PO Box 356</td>\n",
       "      <td>Vacaville</td>\n",
       "      <td>CA</td>\n",
       "      <td>95696.0</td>\n",
       "      <td>US</td>\n",
       "      <td>43675911</td>\n",
       "      <td>dog</td>\n",
       "      <td>ca162</td>\n",
       "    </tr>\n",
       "    <tr>\n",
       "      <th>3</th>\n",
       "      <td>43675933</td>\n",
       "      <td>CA162</td>\n",
       "      <td>Dog</td>\n",
       "      <td>Dog</td>\n",
       "      <td>Baby</td>\n",
       "      <td>Female</td>\n",
       "      <td>Small</td>\n",
       "      <td>Short</td>\n",
       "      <td>[]</td>\n",
       "      <td>Moraine</td>\n",
       "      <td>Moraine is a female Black/Brown/White Terrier ...</td>\n",
       "      <td>adopted</td>\n",
       "      <td>2019-01-06T04:24:04+0000</td>\n",
       "      <td>2019-01-02T20:15:37+0000</td>\n",
       "      <td>40.1912</td>\n",
       "      <td>Terrier</td>\n",
       "      <td>NaN</td>\n",
       "      <td>True</td>\n",
       "      <td>False</td>\n",
       "      <td>Black</td>\n",
       "      <td>Brown / Chocolate</td>\n",
       "      <td>White / Cream</td>\n",
       "      <td>True</td>\n",
       "      <td>False</td>\n",
       "      <td>NaN</td>\n",
       "      <td>False</td>\n",
       "      <td>True</td>\n",
       "      <td>NaN</td>\n",
       "      <td>NaN</td>\n",
       "      <td>NaN</td>\n",
       "      <td>https://dl5zpyw5k3jeb.cloudfront.net/photos/pe...</td>\n",
       "      <td>https://dl5zpyw5k3jeb.cloudfront.net/photos/pe...</td>\n",
       "      <td>https://dl5zpyw5k3jeb.cloudfront.net/photos/pe...</td>\n",
       "      <td>https://dl5zpyw5k3jeb.cloudfront.net/photos/pe...</td>\n",
       "      <td>solanospca@gmail.com</td>\n",
       "      <td>(707) 448-7722</td>\n",
       "      <td>2200 Peabody Rd</td>\n",
       "      <td>PO Box 356</td>\n",
       "      <td>Vacaville</td>\n",
       "      <td>CA</td>\n",
       "      <td>95696.0</td>\n",
       "      <td>US</td>\n",
       "      <td>43675933</td>\n",
       "      <td>dog</td>\n",
       "      <td>ca162</td>\n",
       "    </tr>\n",
       "    <tr>\n",
       "      <th>4</th>\n",
       "      <td>43675957</td>\n",
       "      <td>CA1826</td>\n",
       "      <td>Dog</td>\n",
       "      <td>Dog</td>\n",
       "      <td>Young</td>\n",
       "      <td>Female</td>\n",
       "      <td>Small</td>\n",
       "      <td>Short</td>\n",
       "      <td>['TINY', 'DARLING', 'FRIENDLY']</td>\n",
       "      <td>WYNNI</td>\n",
       "      <td>WYNNI is a darling and tiny Chi girl who is on...</td>\n",
       "      <td>adopted</td>\n",
       "      <td>2019-01-17T18:18:39+0000</td>\n",
       "      <td>2019-01-02T20:20:36+0000</td>\n",
       "      <td>60.1221</td>\n",
       "      <td>Chihuahua</td>\n",
       "      <td>NaN</td>\n",
       "      <td>False</td>\n",
       "      <td>False</td>\n",
       "      <td>Tricolor (Brown, Black, &amp; White)</td>\n",
       "      <td>NaN</td>\n",
       "      <td>NaN</td>\n",
       "      <td>True</td>\n",
       "      <td>False</td>\n",
       "      <td>NaN</td>\n",
       "      <td>False</td>\n",
       "      <td>True</td>\n",
       "      <td>NaN</td>\n",
       "      <td>True</td>\n",
       "      <td>NaN</td>\n",
       "      <td>https://dl5zpyw5k3jeb.cloudfront.net/photos/pe...</td>\n",
       "      <td>https://dl5zpyw5k3jeb.cloudfront.net/photos/pe...</td>\n",
       "      <td>https://dl5zpyw5k3jeb.cloudfront.net/photos/pe...</td>\n",
       "      <td>https://dl5zpyw5k3jeb.cloudfront.net/photos/pe...</td>\n",
       "      <td>kritter.kamp@yahoo.com</td>\n",
       "      <td>916-691-1364</td>\n",
       "      <td>NaN</td>\n",
       "      <td>NaN</td>\n",
       "      <td>Elk Grove</td>\n",
       "      <td>CA</td>\n",
       "      <td>95758.0</td>\n",
       "      <td>US</td>\n",
       "      <td>43675957</td>\n",
       "      <td>dog</td>\n",
       "      <td>ca1826</td>\n",
       "    </tr>\n",
       "    <tr>\n",
       "      <th>...</th>\n",
       "      <td>...</td>\n",
       "      <td>...</td>\n",
       "      <td>...</td>\n",
       "      <td>...</td>\n",
       "      <td>...</td>\n",
       "      <td>...</td>\n",
       "      <td>...</td>\n",
       "      <td>...</td>\n",
       "      <td>...</td>\n",
       "      <td>...</td>\n",
       "      <td>...</td>\n",
       "      <td>...</td>\n",
       "      <td>...</td>\n",
       "      <td>...</td>\n",
       "      <td>...</td>\n",
       "      <td>...</td>\n",
       "      <td>...</td>\n",
       "      <td>...</td>\n",
       "      <td>...</td>\n",
       "      <td>...</td>\n",
       "      <td>...</td>\n",
       "      <td>...</td>\n",
       "      <td>...</td>\n",
       "      <td>...</td>\n",
       "      <td>...</td>\n",
       "      <td>...</td>\n",
       "      <td>...</td>\n",
       "      <td>...</td>\n",
       "      <td>...</td>\n",
       "      <td>...</td>\n",
       "      <td>...</td>\n",
       "      <td>...</td>\n",
       "      <td>...</td>\n",
       "      <td>...</td>\n",
       "      <td>...</td>\n",
       "      <td>...</td>\n",
       "      <td>...</td>\n",
       "      <td>...</td>\n",
       "      <td>...</td>\n",
       "      <td>...</td>\n",
       "      <td>...</td>\n",
       "      <td>...</td>\n",
       "      <td>...</td>\n",
       "      <td>...</td>\n",
       "      <td>...</td>\n",
       "    </tr>\n",
       "    <tr>\n",
       "      <th>19995</th>\n",
       "      <td>50176128</td>\n",
       "      <td>CA2692</td>\n",
       "      <td>Dog</td>\n",
       "      <td>Dog</td>\n",
       "      <td>Baby</td>\n",
       "      <td>Male</td>\n",
       "      <td>Medium</td>\n",
       "      <td>Short</td>\n",
       "      <td>[]</td>\n",
       "      <td>Zuko</td>\n",
       "      <td>Zuko is a 6 month old lab/Aussie mix puppy. He...</td>\n",
       "      <td>adopted</td>\n",
       "      <td>2021-01-07T14:53:31+0000</td>\n",
       "      <td>2021-01-01T00:47:56+0000</td>\n",
       "      <td>71.1234</td>\n",
       "      <td>Labrador Retriever</td>\n",
       "      <td>Australian Shepherd</td>\n",
       "      <td>True</td>\n",
       "      <td>False</td>\n",
       "      <td>Black</td>\n",
       "      <td>NaN</td>\n",
       "      <td>NaN</td>\n",
       "      <td>True</td>\n",
       "      <td>True</td>\n",
       "      <td>NaN</td>\n",
       "      <td>False</td>\n",
       "      <td>True</td>\n",
       "      <td>True</td>\n",
       "      <td>True</td>\n",
       "      <td>NaN</td>\n",
       "      <td>https://dl5zpyw5k3jeb.cloudfront.net/photos/pe...</td>\n",
       "      <td>https://dl5zpyw5k3jeb.cloudfront.net/photos/pe...</td>\n",
       "      <td>https://dl5zpyw5k3jeb.cloudfront.net/photos/pe...</td>\n",
       "      <td>https://dl5zpyw5k3jeb.cloudfront.net/photos/pe...</td>\n",
       "      <td>sugarmommasrescue@gmail.com</td>\n",
       "      <td>(916) 915-3613</td>\n",
       "      <td>NaN</td>\n",
       "      <td>NaN</td>\n",
       "      <td>Sacramento</td>\n",
       "      <td>CA</td>\n",
       "      <td>95838.0</td>\n",
       "      <td>US</td>\n",
       "      <td>50176128</td>\n",
       "      <td>dog</td>\n",
       "      <td>ca2692</td>\n",
       "    </tr>\n",
       "    <tr>\n",
       "      <th>19996</th>\n",
       "      <td>50176185</td>\n",
       "      <td>CA2324</td>\n",
       "      <td>Dog</td>\n",
       "      <td>Dog</td>\n",
       "      <td>Adult</td>\n",
       "      <td>Female</td>\n",
       "      <td>Medium</td>\n",
       "      <td>Short</td>\n",
       "      <td>[]</td>\n",
       "      <td>Pancha</td>\n",
       "      <td>We found Pancha in dire condition under a bush...</td>\n",
       "      <td>adopted</td>\n",
       "      <td>2021-01-18T21:38:41+0000</td>\n",
       "      <td>2021-01-01T01:18:08+0000</td>\n",
       "      <td>54.5143</td>\n",
       "      <td>Terrier</td>\n",
       "      <td>Basenji</td>\n",
       "      <td>True</td>\n",
       "      <td>False</td>\n",
       "      <td>Apricot / Beige</td>\n",
       "      <td>White / Cream</td>\n",
       "      <td>NaN</td>\n",
       "      <td>True</td>\n",
       "      <td>True</td>\n",
       "      <td>NaN</td>\n",
       "      <td>False</td>\n",
       "      <td>True</td>\n",
       "      <td>True</td>\n",
       "      <td>True</td>\n",
       "      <td>NaN</td>\n",
       "      <td>https://dl5zpyw5k3jeb.cloudfront.net/photos/pe...</td>\n",
       "      <td>https://dl5zpyw5k3jeb.cloudfront.net/photos/pe...</td>\n",
       "      <td>https://dl5zpyw5k3jeb.cloudfront.net/photos/pe...</td>\n",
       "      <td>https://dl5zpyw5k3jeb.cloudfront.net/photos/pe...</td>\n",
       "      <td>adopt@cwob.org</td>\n",
       "      <td>(707) 703-4129</td>\n",
       "      <td>NaN</td>\n",
       "      <td>NaN</td>\n",
       "      <td>Santa Rosa</td>\n",
       "      <td>CA</td>\n",
       "      <td>95401.0</td>\n",
       "      <td>US</td>\n",
       "      <td>50176185</td>\n",
       "      <td>dog</td>\n",
       "      <td>ca2324</td>\n",
       "    </tr>\n",
       "    <tr>\n",
       "      <th>19997</th>\n",
       "      <td>50176368</td>\n",
       "      <td>CA283</td>\n",
       "      <td>Dog</td>\n",
       "      <td>Dog</td>\n",
       "      <td>Adult</td>\n",
       "      <td>Male</td>\n",
       "      <td>Large</td>\n",
       "      <td>NaN</td>\n",
       "      <td>[]</td>\n",
       "      <td>Winston</td>\n",
       "      <td>Winston (A184836) is a sweet ~2 year old mix l...</td>\n",
       "      <td>adopted</td>\n",
       "      <td>2021-01-13T02:23:50+0000</td>\n",
       "      <td>2021-01-01T01:19:21+0000</td>\n",
       "      <td>64.9117</td>\n",
       "      <td>Pit Bull Terrier</td>\n",
       "      <td>NaN</td>\n",
       "      <td>True</td>\n",
       "      <td>False</td>\n",
       "      <td>NaN</td>\n",
       "      <td>NaN</td>\n",
       "      <td>NaN</td>\n",
       "      <td>True</td>\n",
       "      <td>False</td>\n",
       "      <td>NaN</td>\n",
       "      <td>False</td>\n",
       "      <td>True</td>\n",
       "      <td>NaN</td>\n",
       "      <td>NaN</td>\n",
       "      <td>NaN</td>\n",
       "      <td>https://dl5zpyw5k3jeb.cloudfront.net/photos/pe...</td>\n",
       "      <td>https://dl5zpyw5k3jeb.cloudfront.net/photos/pe...</td>\n",
       "      <td>https://dl5zpyw5k3jeb.cloudfront.net/photos/pe...</td>\n",
       "      <td>https://dl5zpyw5k3jeb.cloudfront.net/photos/pe...</td>\n",
       "      <td>ycasshelterrescue@gmail.com</td>\n",
       "      <td>(530) 668-5287</td>\n",
       "      <td>140-C Tony Diaz Dr.</td>\n",
       "      <td>NaN</td>\n",
       "      <td>Woodland</td>\n",
       "      <td>CA</td>\n",
       "      <td>95776.0</td>\n",
       "      <td>US</td>\n",
       "      <td>50176368</td>\n",
       "      <td>dog</td>\n",
       "      <td>ca283</td>\n",
       "    </tr>\n",
       "    <tr>\n",
       "      <th>19998</th>\n",
       "      <td>50176819</td>\n",
       "      <td>CA2805</td>\n",
       "      <td>Dog</td>\n",
       "      <td>Dog</td>\n",
       "      <td>Baby</td>\n",
       "      <td>Female</td>\n",
       "      <td>Medium</td>\n",
       "      <td>NaN</td>\n",
       "      <td>[]</td>\n",
       "      <td>Pixie</td>\n",
       "      <td>Hi!! My name is Pixie and I am a 8 week old St...</td>\n",
       "      <td>adopted</td>\n",
       "      <td>2021-01-07T14:20:06+0000</td>\n",
       "      <td>2021-01-01T03:42:32+0000</td>\n",
       "      <td>90.5861</td>\n",
       "      <td>Staffordshire Bull Terrier</td>\n",
       "      <td>German Shepherd Dog</td>\n",
       "      <td>True</td>\n",
       "      <td>False</td>\n",
       "      <td>Brindle</td>\n",
       "      <td>NaN</td>\n",
       "      <td>NaN</td>\n",
       "      <td>False</td>\n",
       "      <td>False</td>\n",
       "      <td>NaN</td>\n",
       "      <td>False</td>\n",
       "      <td>True</td>\n",
       "      <td>True</td>\n",
       "      <td>True</td>\n",
       "      <td>True</td>\n",
       "      <td>https://dl5zpyw5k3jeb.cloudfront.net/photos/pe...</td>\n",
       "      <td>https://dl5zpyw5k3jeb.cloudfront.net/photos/pe...</td>\n",
       "      <td>https://dl5zpyw5k3jeb.cloudfront.net/photos/pe...</td>\n",
       "      <td>https://dl5zpyw5k3jeb.cloudfront.net/photos/pe...</td>\n",
       "      <td>furbabies@hispawsandtails.com</td>\n",
       "      <td>(408) 849-1080</td>\n",
       "      <td>NaN</td>\n",
       "      <td>NaN</td>\n",
       "      <td>Los Banos</td>\n",
       "      <td>CA</td>\n",
       "      <td>93635.0</td>\n",
       "      <td>US</td>\n",
       "      <td>50176819</td>\n",
       "      <td>dog</td>\n",
       "      <td>ca2805</td>\n",
       "    </tr>\n",
       "    <tr>\n",
       "      <th>19999</th>\n",
       "      <td>50176894</td>\n",
       "      <td>CA2766</td>\n",
       "      <td>Dog</td>\n",
       "      <td>Dog</td>\n",
       "      <td>Young</td>\n",
       "      <td>Male</td>\n",
       "      <td>Small</td>\n",
       "      <td>Short</td>\n",
       "      <td>['sweet', 'gentle']</td>\n",
       "      <td>Ralphie FFPR</td>\n",
       "      <td>Ralphie is about 1 year old about 10lbs and is...</td>\n",
       "      <td>adopted</td>\n",
       "      <td>2021-01-08T06:50:23+0000</td>\n",
       "      <td>2021-01-01T05:25:22+0000</td>\n",
       "      <td>26.5963</td>\n",
       "      <td>Beagle</td>\n",
       "      <td>Chiweenie</td>\n",
       "      <td>True</td>\n",
       "      <td>False</td>\n",
       "      <td>Black</td>\n",
       "      <td>Yellow / Tan / Blond / Fawn</td>\n",
       "      <td>NaN</td>\n",
       "      <td>True</td>\n",
       "      <td>True</td>\n",
       "      <td>NaN</td>\n",
       "      <td>False</td>\n",
       "      <td>True</td>\n",
       "      <td>NaN</td>\n",
       "      <td>True</td>\n",
       "      <td>True</td>\n",
       "      <td>https://dl5zpyw5k3jeb.cloudfront.net/photos/pe...</td>\n",
       "      <td>https://dl5zpyw5k3jeb.cloudfront.net/photos/pe...</td>\n",
       "      <td>https://dl5zpyw5k3jeb.cloudfront.net/photos/pe...</td>\n",
       "      <td>https://dl5zpyw5k3jeb.cloudfront.net/photos/pe...</td>\n",
       "      <td>fffradopt@gmail.com</td>\n",
       "      <td>(925) 481-2294</td>\n",
       "      <td>NaN</td>\n",
       "      <td>NaN</td>\n",
       "      <td>Antioch</td>\n",
       "      <td>CA</td>\n",
       "      <td>94509.0</td>\n",
       "      <td>US</td>\n",
       "      <td>50176894</td>\n",
       "      <td>dog</td>\n",
       "      <td>ca2766</td>\n",
       "    </tr>\n",
       "  </tbody>\n",
       "</table>\n",
       "<p>20000 rows × 45 columns</p>\n",
       "</div>"
      ],
      "text/plain": [
       "             id organization_id type species    age  gender    size    coat  \\\n",
       "0      43675837           CA162  Dog     Dog   Baby    Male   Large  Medium   \n",
       "1      43675879           CA162  Dog     Dog   Baby    Male   Small   Short   \n",
       "2      43675911           CA162  Dog     Dog   Baby    Male   Small  Medium   \n",
       "3      43675933           CA162  Dog     Dog   Baby  Female   Small   Short   \n",
       "4      43675957          CA1826  Dog     Dog  Young  Female   Small   Short   \n",
       "...         ...             ...  ...     ...    ...     ...     ...     ...   \n",
       "19995  50176128          CA2692  Dog     Dog   Baby    Male  Medium   Short   \n",
       "19996  50176185          CA2324  Dog     Dog  Adult  Female  Medium   Short   \n",
       "19997  50176368           CA283  Dog     Dog  Adult    Male   Large     NaN   \n",
       "19998  50176819          CA2805  Dog     Dog   Baby  Female  Medium     NaN   \n",
       "19999  50176894          CA2766  Dog     Dog  Young    Male   Small   Short   \n",
       "\n",
       "                                  tags          name  \\\n",
       "0                                   []         Tahoe   \n",
       "1                                   []       Natomas   \n",
       "2                                   []        Folsom   \n",
       "3                                   []       Moraine   \n",
       "4      ['TINY', 'DARLING', 'FRIENDLY']         WYNNI   \n",
       "...                                ...           ...   \n",
       "19995                               []          Zuko   \n",
       "19996                               []        Pancha   \n",
       "19997                               []       Winston   \n",
       "19998                               []         Pixie   \n",
       "19999              ['sweet', 'gentle']  Ralphie FFPR   \n",
       "\n",
       "                                             description   status  \\\n",
       "0      Tahoe is a GSD and Bernese Mountain Dog mix. H...  adopted   \n",
       "1      Natomas is a 16 week old Chihuahua mix and he&...  adopted   \n",
       "2      Folsom is a male 16 week old Terrier mix (Chih...  adopted   \n",
       "3      Moraine is a female Black/Brown/White Terrier ...  adopted   \n",
       "4      WYNNI is a darling and tiny Chi girl who is on...  adopted   \n",
       "...                                                  ...      ...   \n",
       "19995  Zuko is a 6 month old lab/Aussie mix puppy. He...  adopted   \n",
       "19996  We found Pancha in dire condition under a bush...  adopted   \n",
       "19997  Winston (A184836) is a sweet ~2 year old mix l...  adopted   \n",
       "19998  Hi!! My name is Pixie and I am a 8 week old St...  adopted   \n",
       "19999  Ralphie is about 1 year old about 10lbs and is...  adopted   \n",
       "\n",
       "              status_changed_at              published_at  distance  \\\n",
       "0      2019-01-06T04:24:04+0000  2019-01-02T19:56:29+0000   40.1912   \n",
       "1      2019-01-16T23:13:41+0000  2019-01-02T20:03:38+0000   40.1912   \n",
       "2      2019-01-12T01:53:52+0000  2019-01-02T20:10:02+0000   40.1912   \n",
       "3      2019-01-06T04:24:04+0000  2019-01-02T20:15:37+0000   40.1912   \n",
       "4      2019-01-17T18:18:39+0000  2019-01-02T20:20:36+0000   60.1221   \n",
       "...                         ...                       ...       ...   \n",
       "19995  2021-01-07T14:53:31+0000  2021-01-01T00:47:56+0000   71.1234   \n",
       "19996  2021-01-18T21:38:41+0000  2021-01-01T01:18:08+0000   54.5143   \n",
       "19997  2021-01-13T02:23:50+0000  2021-01-01T01:19:21+0000   64.9117   \n",
       "19998  2021-01-07T14:20:06+0000  2021-01-01T03:42:32+0000   90.5861   \n",
       "19999  2021-01-08T06:50:23+0000  2021-01-01T05:25:22+0000   26.5963   \n",
       "\n",
       "                   breeds.primary      breeds.secondary  breeds.mixed  \\\n",
       "0             German Shepherd Dog  Bernese Mountain Dog          True   \n",
       "1                       Chihuahua                   NaN          True   \n",
       "2                         Terrier                   NaN          True   \n",
       "3                         Terrier                   NaN          True   \n",
       "4                       Chihuahua                   NaN         False   \n",
       "...                           ...                   ...           ...   \n",
       "19995          Labrador Retriever   Australian Shepherd          True   \n",
       "19996                     Terrier               Basenji          True   \n",
       "19997            Pit Bull Terrier                   NaN          True   \n",
       "19998  Staffordshire Bull Terrier   German Shepherd Dog          True   \n",
       "19999                      Beagle             Chiweenie          True   \n",
       "\n",
       "       breeds.unknown                    colors.primary  \\\n",
       "0               False                             Black   \n",
       "1               False                             Sable   \n",
       "2               False                             Black   \n",
       "3               False                             Black   \n",
       "4               False  Tricolor (Brown, Black, & White)   \n",
       "...               ...                               ...   \n",
       "19995           False                             Black   \n",
       "19996           False                   Apricot / Beige   \n",
       "19997           False                               NaN   \n",
       "19998           False                           Brindle   \n",
       "19999           False                             Black   \n",
       "\n",
       "                  colors.secondary colors.tertiary  \\\n",
       "0                            Sable   White / Cream   \n",
       "1                    White / Cream             NaN   \n",
       "2                            Sable   White / Cream   \n",
       "3                Brown / Chocolate   White / Cream   \n",
       "4                              NaN             NaN   \n",
       "...                            ...             ...   \n",
       "19995                          NaN             NaN   \n",
       "19996                White / Cream             NaN   \n",
       "19997                          NaN             NaN   \n",
       "19998                          NaN             NaN   \n",
       "19999  Yellow / Tan / Blond / Fawn             NaN   \n",
       "\n",
       "       attributes.spayed_neutered  attributes.house_trained  \\\n",
       "0                            True                     False   \n",
       "1                            True                     False   \n",
       "2                            True                     False   \n",
       "3                            True                     False   \n",
       "4                            True                     False   \n",
       "...                           ...                       ...   \n",
       "19995                        True                      True   \n",
       "19996                        True                      True   \n",
       "19997                        True                     False   \n",
       "19998                       False                     False   \n",
       "19999                        True                      True   \n",
       "\n",
       "       attributes.declawed  attributes.special_needs  \\\n",
       "0                      NaN                     False   \n",
       "1                      NaN                     False   \n",
       "2                      NaN                     False   \n",
       "3                      NaN                     False   \n",
       "4                      NaN                     False   \n",
       "...                    ...                       ...   \n",
       "19995                  NaN                     False   \n",
       "19996                  NaN                     False   \n",
       "19997                  NaN                     False   \n",
       "19998                  NaN                     False   \n",
       "19999                  NaN                     False   \n",
       "\n",
       "       attributes.shots_current environment.children environment.dogs  \\\n",
       "0                          True                  NaN              NaN   \n",
       "1                          True                  NaN              NaN   \n",
       "2                          True                  NaN              NaN   \n",
       "3                          True                  NaN              NaN   \n",
       "4                          True                  NaN             True   \n",
       "...                         ...                  ...              ...   \n",
       "19995                      True                 True             True   \n",
       "19996                      True                 True             True   \n",
       "19997                      True                  NaN              NaN   \n",
       "19998                      True                 True             True   \n",
       "19999                      True                  NaN             True   \n",
       "\n",
       "      environment.cats                        primary_photo_cropped.small  \\\n",
       "0                  NaN  https://dl5zpyw5k3jeb.cloudfront.net/photos/pe...   \n",
       "1                  NaN  https://dl5zpyw5k3jeb.cloudfront.net/photos/pe...   \n",
       "2                  NaN  https://dl5zpyw5k3jeb.cloudfront.net/photos/pe...   \n",
       "3                  NaN  https://dl5zpyw5k3jeb.cloudfront.net/photos/pe...   \n",
       "4                  NaN  https://dl5zpyw5k3jeb.cloudfront.net/photos/pe...   \n",
       "...                ...                                                ...   \n",
       "19995              NaN  https://dl5zpyw5k3jeb.cloudfront.net/photos/pe...   \n",
       "19996              NaN  https://dl5zpyw5k3jeb.cloudfront.net/photos/pe...   \n",
       "19997              NaN  https://dl5zpyw5k3jeb.cloudfront.net/photos/pe...   \n",
       "19998             True  https://dl5zpyw5k3jeb.cloudfront.net/photos/pe...   \n",
       "19999             True  https://dl5zpyw5k3jeb.cloudfront.net/photos/pe...   \n",
       "\n",
       "                            primary_photo_cropped.medium  \\\n",
       "0      https://dl5zpyw5k3jeb.cloudfront.net/photos/pe...   \n",
       "1      https://dl5zpyw5k3jeb.cloudfront.net/photos/pe...   \n",
       "2      https://dl5zpyw5k3jeb.cloudfront.net/photos/pe...   \n",
       "3      https://dl5zpyw5k3jeb.cloudfront.net/photos/pe...   \n",
       "4      https://dl5zpyw5k3jeb.cloudfront.net/photos/pe...   \n",
       "...                                                  ...   \n",
       "19995  https://dl5zpyw5k3jeb.cloudfront.net/photos/pe...   \n",
       "19996  https://dl5zpyw5k3jeb.cloudfront.net/photos/pe...   \n",
       "19997  https://dl5zpyw5k3jeb.cloudfront.net/photos/pe...   \n",
       "19998  https://dl5zpyw5k3jeb.cloudfront.net/photos/pe...   \n",
       "19999  https://dl5zpyw5k3jeb.cloudfront.net/photos/pe...   \n",
       "\n",
       "                             primary_photo_cropped.large  \\\n",
       "0      https://dl5zpyw5k3jeb.cloudfront.net/photos/pe...   \n",
       "1      https://dl5zpyw5k3jeb.cloudfront.net/photos/pe...   \n",
       "2      https://dl5zpyw5k3jeb.cloudfront.net/photos/pe...   \n",
       "3      https://dl5zpyw5k3jeb.cloudfront.net/photos/pe...   \n",
       "4      https://dl5zpyw5k3jeb.cloudfront.net/photos/pe...   \n",
       "...                                                  ...   \n",
       "19995  https://dl5zpyw5k3jeb.cloudfront.net/photos/pe...   \n",
       "19996  https://dl5zpyw5k3jeb.cloudfront.net/photos/pe...   \n",
       "19997  https://dl5zpyw5k3jeb.cloudfront.net/photos/pe...   \n",
       "19998  https://dl5zpyw5k3jeb.cloudfront.net/photos/pe...   \n",
       "19999  https://dl5zpyw5k3jeb.cloudfront.net/photos/pe...   \n",
       "\n",
       "                              primary_photo_cropped.full  \\\n",
       "0      https://dl5zpyw5k3jeb.cloudfront.net/photos/pe...   \n",
       "1      https://dl5zpyw5k3jeb.cloudfront.net/photos/pe...   \n",
       "2      https://dl5zpyw5k3jeb.cloudfront.net/photos/pe...   \n",
       "3      https://dl5zpyw5k3jeb.cloudfront.net/photos/pe...   \n",
       "4      https://dl5zpyw5k3jeb.cloudfront.net/photos/pe...   \n",
       "...                                                  ...   \n",
       "19995  https://dl5zpyw5k3jeb.cloudfront.net/photos/pe...   \n",
       "19996  https://dl5zpyw5k3jeb.cloudfront.net/photos/pe...   \n",
       "19997  https://dl5zpyw5k3jeb.cloudfront.net/photos/pe...   \n",
       "19998  https://dl5zpyw5k3jeb.cloudfront.net/photos/pe...   \n",
       "19999  https://dl5zpyw5k3jeb.cloudfront.net/photos/pe...   \n",
       "\n",
       "                       contact.email   contact.phone contact.address.address1  \\\n",
       "0               solanospca@gmail.com  (707) 448-7722          2200 Peabody Rd   \n",
       "1               solanospca@gmail.com  (707) 448-7722          2200 Peabody Rd   \n",
       "2               solanospca@gmail.com  (707) 448-7722          2200 Peabody Rd   \n",
       "3               solanospca@gmail.com  (707) 448-7722          2200 Peabody Rd   \n",
       "4             kritter.kamp@yahoo.com    916-691-1364                      NaN   \n",
       "...                              ...             ...                      ...   \n",
       "19995    sugarmommasrescue@gmail.com  (916) 915-3613                      NaN   \n",
       "19996                 adopt@cwob.org  (707) 703-4129                      NaN   \n",
       "19997    ycasshelterrescue@gmail.com  (530) 668-5287      140-C Tony Diaz Dr.   \n",
       "19998  furbabies@hispawsandtails.com  (408) 849-1080                      NaN   \n",
       "19999            fffradopt@gmail.com  (925) 481-2294                      NaN   \n",
       "\n",
       "      contact.address.address2 contact.address.city contact.address.state  \\\n",
       "0                   PO Box 356            Vacaville                    CA   \n",
       "1                   PO Box 356            Vacaville                    CA   \n",
       "2                   PO Box 356            Vacaville                    CA   \n",
       "3                   PO Box 356            Vacaville                    CA   \n",
       "4                          NaN            Elk Grove                    CA   \n",
       "...                        ...                  ...                   ...   \n",
       "19995                      NaN          Sacramento                     CA   \n",
       "19996                      NaN           Santa Rosa                    CA   \n",
       "19997                      NaN             Woodland                    CA   \n",
       "19998                      NaN            Los Banos                    CA   \n",
       "19999                      NaN              Antioch                    CA   \n",
       "\n",
       "       contact.address.postcode contact.address.country  animal_id  \\\n",
       "0                       95696.0                      US   43675837   \n",
       "1                       95696.0                      US   43675879   \n",
       "2                       95696.0                      US   43675911   \n",
       "3                       95696.0                      US   43675933   \n",
       "4                       95758.0                      US   43675957   \n",
       "...                         ...                     ...        ...   \n",
       "19995                   95838.0                      US   50176128   \n",
       "19996                   95401.0                      US   50176185   \n",
       "19997                   95776.0                      US   50176368   \n",
       "19998                   93635.0                      US   50176819   \n",
       "19999                   94509.0                      US   50176894   \n",
       "\n",
       "      animal_type organization_id.1  \n",
       "0             dog             ca162  \n",
       "1             dog             ca162  \n",
       "2             dog             ca162  \n",
       "3             dog             ca162  \n",
       "4             dog            ca1826  \n",
       "...           ...               ...  \n",
       "19995         dog            ca2692  \n",
       "19996         dog            ca2324  \n",
       "19997         dog             ca283  \n",
       "19998         dog            ca2805  \n",
       "19999         dog            ca2766  \n",
       "\n",
       "[20000 rows x 45 columns]"
      ]
     },
     "execution_count": 8,
     "metadata": {},
     "output_type": "execute_result"
    }
   ],
   "source": [
    "dogs.drop(columns=['url', 'photos', 'videos', 'organization_animal_id'])"
   ]
  },
  {
   "cell_type": "code",
   "execution_count": 9,
   "metadata": {},
   "outputs": [],
   "source": [
    "#dogs.drop(columns=['primary_photo_cropped'], inplace=True)"
   ]
  },
  {
   "cell_type": "code",
   "execution_count": 10,
   "metadata": {},
   "outputs": [],
   "source": [
    "#dogs.to_csv('./petfinder_data/uncleandogs.csv', index = False)"
   ]
  },
  {
   "cell_type": "code",
   "execution_count": 11,
   "metadata": {},
   "outputs": [],
   "source": [
    "# Had to make multiple requests, so concatenating them\n",
    "#dogs = pd.concat((dogs1, dogs2))"
   ]
  },
  {
   "cell_type": "markdown",
   "metadata": {},
   "source": [
    "## Feature Engineering"
   ]
  },
  {
   "cell_type": "code",
   "execution_count": 12,
   "metadata": {},
   "outputs": [],
   "source": [
    "# Renaming some columns for easier readability/coding\n",
    "dogs.rename(columns={\"attributes.spayed_neutered\": \"fixed\", \n",
    "                     \"attributes.house_trained\": \"house_trained\", \n",
    "                     'attributes.special_needs': 'special_needs', \n",
    "                      'attributes.shots_current': 'shots_current',\n",
    "                     'environment.children': 'good_with_kids', \n",
    "                     'environment.dogs': 'good_with_dogs', \n",
    "                      'environment.cats': 'good_with_cats', \n",
    "                     'contact.address.city': 'city', \n",
    "                     'contact.address.postcode': 'zipcode' }, inplace=True)"
   ]
  },
  {
   "cell_type": "code",
   "execution_count": 13,
   "metadata": {},
   "outputs": [],
   "source": [
    "# Making sure all cities match up and no duplicates - combining modesto which appeared in two cases\n",
    "dogs['city']=dogs['city'].replace('modesto','Modesto')"
   ]
  },
  {
   "cell_type": "code",
   "execution_count": 14,
   "metadata": {},
   "outputs": [],
   "source": [
    "# Converting videos column to 1 if post has a video, else 0\n",
    "dogs['videos'] = np.where(dogs['videos']!= '[]', 1, 0)"
   ]
  },
  {
   "cell_type": "code",
   "execution_count": 15,
   "metadata": {},
   "outputs": [],
   "source": [
    "# Adding a column, 1 if post has photos, else 0\n",
    "dogs['has_photo'] = np.where(dogs['photos']!= '[]', 1, 0)"
   ]
  },
  {
   "cell_type": "code",
   "execution_count": 16,
   "metadata": {},
   "outputs": [],
   "source": [
    "# Replacing NA with 2 if the following features are unknown\n",
    "dogs['good_with_kids'] = dogs['good_with_kids'].fillna(2)\n",
    "dogs['good_with_dogs'] = dogs['good_with_dogs'].fillna(2)\n",
    "dogs['good_with_cats'] = dogs['good_with_cats'].fillna(2)\n",
    "\n",
    "# Converting from boolean to integers\n",
    "dogs['fixed'] = (dogs['fixed'] * 1).astype(int)\n",
    "dogs['house_trained'] = (dogs['house_trained'] * 1).astype(int)\n",
    "dogs['shots_current'] = (dogs['shots_current'] * 1).astype(int)\n",
    "dogs['good_with_kids'] = (dogs['good_with_kids'] * 1).astype(int)\n",
    "dogs['good_with_dogs'] = (dogs['good_with_dogs'] * 1).astype(int)\n",
    "dogs['good_with_cats'] = (dogs['good_with_cats'] * 1).astype(int)\n",
    "dogs['special_needs'] = (dogs['special_needs'] * 1).astype(int)\n",
    "dogs['breeds.mixed'] = (dogs['breeds.mixed'] *1).astype(int)"
   ]
  },
  {
   "cell_type": "markdown",
   "metadata": {},
   "source": [
    "______"
   ]
  },
  {
   "cell_type": "markdown",
   "metadata": {},
   "source": [
    "### Heatmap"
   ]
  },
  {
   "cell_type": "code",
   "execution_count": 17,
   "metadata": {},
   "outputs": [],
   "source": [
    "# plt.figure(figsize=(10, 8))\n",
    "# sns.heatmap(dogs.corr()[['days_on_petfinder']].sort_values(by='days_on_petfinder', ascending=True),\n",
    "#             vmin = -1, vmax=1,\n",
    "#             cmap ='winter',\n",
    "#             annot = True,);\n",
    "# plt.title(\"Correlation With Adoption Speed\", size = 20);\n",
    "\n",
    "# # only run when you create target column first - before dummies"
   ]
  },
  {
   "cell_type": "markdown",
   "metadata": {},
   "source": [
    "### Dummies"
   ]
  },
  {
   "cell_type": "code",
   "execution_count": 18,
   "metadata": {},
   "outputs": [],
   "source": [
    "# Function to dummify and combine multiclass columns (ie. primary.breed, secondary.breed)\n",
    "def dummy(df, label):\n",
    "    cols = [col for col in df if label in col]\n",
    "    dummy_dict = {}\n",
    "    main_df = pd.get_dummies(df[cols[0]],prefix = label)\n",
    "    for col in cols[1:]:\n",
    "        dummy_dict[col] = pd.get_dummies(df[col],prefix = label)\n",
    "    for col in dummy_dict:\n",
    "        main_df = main_df.add(dummy_dict[col], fill_value = 0).gt(0)*1\n",
    "    return main_df"
   ]
  },
  {
   "cell_type": "code",
   "execution_count": 19,
   "metadata": {},
   "outputs": [
    {
     "data": {
      "text/plain": [
       "(20000, 50)"
      ]
     },
     "execution_count": 19,
     "metadata": {},
     "output_type": "execute_result"
    }
   ],
   "source": [
    "dogs.shape"
   ]
  },
  {
   "cell_type": "code",
   "execution_count": 20,
   "metadata": {},
   "outputs": [],
   "source": [
    "# Running function for color columns and merging dummified df back to original df\n",
    "\n",
    "dummy_color_dog = dummy(dogs, 'color') \n",
    "dogs = pd.merge(dogs, dummy_color_dog, left_index=True, right_index=True)"
   ]
  },
  {
   "cell_type": "code",
   "execution_count": 21,
   "metadata": {},
   "outputs": [],
   "source": [
    "# Running function for breed columns and merging dummified df back to original df\n",
    "\n",
    "dogs.drop(columns=['breeds.unknown'], inplace=True) # All breeds are known or guessed at so dropping this column\n",
    "dummy_color_dog = dummy(dogs, 'breeds') \n",
    "dogs = pd.merge(dogs, dummy_color_dog, left_index=True, right_index=True)"
   ]
  },
  {
   "cell_type": "code",
   "execution_count": 22,
   "metadata": {},
   "outputs": [],
   "source": [
    "# Dummifying some categorical columns\n",
    "dogs = pd.get_dummies(dogs, columns=['age', 'gender', 'size', 'coat', 'city', 'zipcode', \n",
    "                                     'good_with_kids', 'good_with_dogs', 'good_with_cats'])"
   ]
  },
  {
   "cell_type": "code",
   "execution_count": 23,
   "metadata": {},
   "outputs": [],
   "source": [
    "# Dropping columns deemed by me to be irrelevant\n",
    "dogs.drop(columns=['type', 'species', 'url', 'tags', 'organization_animal_id', 'status', 'breeds.primary', 'breeds.secondary', \n",
    "                   'colors.primary', 'colors.secondary', 'colors.tertiary', 'attributes.declawed', 'primary_photo_cropped.small', 'primary_photo_cropped.medium',\n",
    "                   'primary_photo_cropped.large', 'primary_photo_cropped.full', 'contact.email', 'contact.phone', 'contact.address.address1',\n",
    "                   'contact.address.address2', 'contact.address.country', 'contact.address.state', 'animal_id', 'animal_type', 'organization_id.1']\n",
    "          , inplace=True)"
   ]
  },
  {
   "cell_type": "markdown",
   "metadata": {},
   "source": [
    "### Target Column Creation"
   ]
  },
  {
   "cell_type": "code",
   "execution_count": 24,
   "metadata": {},
   "outputs": [],
   "source": [
    "# Converting columns to datetime\n",
    "dogs['published_at']= pd.to_datetime(dogs['published_at'])\n",
    "dogs['status_changed_at']= pd.to_datetime(dogs['status_changed_at'])"
   ]
  },
  {
   "cell_type": "code",
   "execution_count": 25,
   "metadata": {},
   "outputs": [],
   "source": [
    "# Consructing target from datetime columns\n",
    "dogs['days_on_petfinder'] = dogs['status_changed_at'] - dogs['published_at']\n",
    "dogs['days_on_petfinder'] = dogs['days_on_petfinder'] / np.timedelta64(1, 'D')\n",
    "dogs['days_on_petfinder'] = dogs['days_on_petfinder'].round()"
   ]
  },
  {
   "cell_type": "markdown",
   "metadata": {},
   "source": [
    "**Dog adopted in under two weeks: 1, over two weeks: 0**"
   ]
  },
  {
   "cell_type": "code",
   "execution_count": 26,
   "metadata": {},
   "outputs": [],
   "source": [
    "dogs.loc[dogs['days_on_petfinder'] < 14, 'days_on_petfinder'] = 1"
   ]
  },
  {
   "cell_type": "code",
   "execution_count": 27,
   "metadata": {},
   "outputs": [],
   "source": [
    "dogs.loc[dogs['days_on_petfinder'] >= 14, 'days_on_petfinder'] = 0"
   ]
  },
  {
   "cell_type": "code",
   "execution_count": 28,
   "metadata": {},
   "outputs": [
    {
     "data": {
      "text/plain": [
       "1.0    10634\n",
       "0.0     9366\n",
       "Name: days_on_petfinder, dtype: int64"
      ]
     },
     "execution_count": 28,
     "metadata": {},
     "output_type": "execute_result"
    }
   ],
   "source": [
    "# classes decently balanced\n",
    "dogs.days_on_petfinder.value_counts()"
   ]
  },
  {
   "cell_type": "markdown",
   "metadata": {},
   "source": [
    "### Sentiment Analysis"
   ]
  },
  {
   "cell_type": "code",
   "execution_count": 29,
   "metadata": {},
   "outputs": [],
   "source": [
    "# Adding a compound polarity score column\n",
    "dogs = dogs[dogs['description'].notna()]\n",
    "\n",
    "desc_list = dogs['description'].tolist()\n",
    "\n",
    "analyzer = SentimentIntensityAnalyzer()\n",
    "\n",
    "def get_polarity(desc_list):\n",
    "    polarity = []\n",
    "    for post in desc_list:\n",
    "        vs = analyzer.polarity_scores(post)\n",
    "        polarity.append(vs['compound']) \n",
    "    return polarity\n",
    "\n",
    "polarity = get_polarity(desc_list)\n",
    "\n",
    "dogs['polarity'] = polarity"
   ]
  },
  {
   "cell_type": "code",
   "execution_count": 30,
   "metadata": {},
   "outputs": [],
   "source": [
    "# Adding description length column\n",
    "dogs['desc_len'] = [len(x) for x in dogs['description']]"
   ]
  },
  {
   "cell_type": "markdown",
   "metadata": {},
   "source": [
    "### -Finalizing DataFrame"
   ]
  },
  {
   "cell_type": "code",
   "execution_count": 31,
   "metadata": {},
   "outputs": [],
   "source": [
    "# Creating a list of my categorical columns for later use in modeling\n",
    "categorical = ['id', 'organization_id', 'name', 'description', 'photos', 'status_changed_at', 'published_at', 'days_on_petfinder']"
   ]
  },
  {
   "cell_type": "code",
   "execution_count": 32,
   "metadata": {},
   "outputs": [],
   "source": [
    "# Creating a df of numerical columns for later use in modeling\n",
    "numerical = dogs.drop(categorical, axis=1)"
   ]
  },
  {
   "cell_type": "code",
   "execution_count": 33,
   "metadata": {},
   "outputs": [],
   "source": [
    "#dogs.to_csv('./petfinder_data/cleandogs.csv', index = False)"
   ]
  },
  {
   "cell_type": "markdown",
   "metadata": {},
   "source": [
    "----------"
   ]
  },
  {
   "cell_type": "markdown",
   "metadata": {},
   "source": [
    "### Most Common Words"
   ]
  },
  {
   "cell_type": "code",
   "execution_count": 34,
   "metadata": {},
   "outputs": [],
   "source": [
    "#dog_list = "
   ]
  },
  {
   "cell_type": "code",
   "execution_count": 35,
   "metadata": {},
   "outputs": [],
   "source": [
    "#stop_words = text.ENGLISH_STOP_WORDS.union(dog_list)"
   ]
  },
  {
   "cell_type": "code",
   "execution_count": 36,
   "metadata": {},
   "outputs": [
    {
     "data": {
      "image/png": "[encoded data removed]",
      "text/plain": [
       "<Figure size 936x648 with 1 Axes>"
      ]
     },
     "metadata": {
      "needs_background": "light"
     },
     "output_type": "display_data"
    }
   ],
   "source": [
    "dogs = dogs[dogs['description'].notna()]\n",
    "\n",
    "dog_cvec= CountVectorizer(stop_words='english')\n",
    "X = dogs['description']\n",
    "dog_cvec.fit(X)\n",
    "X_trans = dog_cvec.transform(X)\n",
    "\n",
    "X_trans = pd.DataFrame(X_trans.todense(), \n",
    "                 columns=dog_cvec.get_feature_names())\n",
    "\n",
    "plt.figure(figsize = [13, 9])\n",
    "plt.title('Most Common Words in Dog Descriptions')\n",
    "plt.xlabel('Word Count')\n",
    "plt.ylabel('Word')\n",
    "X_trans.sum().sort_values(ascending = False).head(20).plot(kind='barh');"
   ]
  },
  {
   "cell_type": "markdown",
   "metadata": {},
   "source": [
    "-------"
   ]
  },
  {
   "cell_type": "markdown",
   "metadata": {},
   "source": [
    "## Logreg"
   ]
  },
  {
   "cell_type": "code",
   "execution_count": 37,
   "metadata": {},
   "outputs": [],
   "source": [
    "# Dropping columns from data frame and dummifying categorical columns\n",
    "X = dogs.drop(columns=categorical)\n",
    "y = dogs['days_on_petfinder']\n",
    "\n",
    "X_train, X_test, y_train, y_test = train_test_split(\n",
    "    X,\n",
    "    y,\n",
    "    test_size=0.30,\n",
    "    stratify=y,\n",
    "    random_state=42)"
   ]
  },
  {
   "cell_type": "code",
   "execution_count": 38,
   "metadata": {},
   "outputs": [
    {
     "name": "stdout",
     "output_type": "stream",
     "text": [
      "CPU times: user 1min 28s, sys: 1.36 s, total: 1min 30s\n",
      "Wall time: 15.6 s\n"
     ]
    }
   ],
   "source": [
    "%%time\n",
    "lr = LogisticRegression(max_iter=5000)\n",
    "lr.fit(X_train, y_train)\n",
    "lr_train = lr.score(X_train, y_train)\n",
    "lr_test = lr.score(X_test, y_test)"
   ]
  },
  {
   "cell_type": "code",
   "execution_count": 39,
   "metadata": {},
   "outputs": [
    {
     "name": "stdout",
     "output_type": "stream",
     "text": [
      "train score: 0.7256352053891777\n",
      "test score: 0.7176289716433208\n"
     ]
    }
   ],
   "source": [
    "print(f'train score: {lr_train}')\n",
    "print(f'test score: {lr_test}')"
   ]
  },
  {
   "cell_type": "code",
   "execution_count": 40,
   "metadata": {},
   "outputs": [
    {
     "data": {
      "text/plain": [
       "1.0    0.529394\n",
       "0.0    0.470606\n",
       "Name: days_on_petfinder, dtype: float64"
      ]
     },
     "execution_count": 40,
     "metadata": {},
     "output_type": "execute_result"
    }
   ],
   "source": [
    "# Baseline\n",
    "dogs['days_on_petfinder'].value_counts(normalize=True)"
   ]
  },
  {
   "cell_type": "code",
   "execution_count": 41,
   "metadata": {},
   "outputs": [
    {
     "data": {
      "text/plain": [
       "array([0., 0., 0., 1., 1., 0., 0., 0., 1., 0., 1., 1., 1., 0., 0., 0., 0.,\n",
       "       0., 1., 1.])"
      ]
     },
     "execution_count": 41,
     "metadata": {},
     "output_type": "execute_result"
    }
   ],
   "source": [
    "y_pred=lr.predict(X_test)\n",
    "y_pred[0:20]"
   ]
  },
  {
   "cell_type": "code",
   "execution_count": 42,
   "metadata": {},
   "outputs": [
    {
     "data": {
      "image/png": "[encoded data removed]",
      "text/plain": [
       "<Figure size 432x288 with 2 Axes>"
      ]
     },
     "metadata": {
      "needs_background": "light"
     },
     "output_type": "display_data"
    }
   ],
   "source": [
    "plot_confusion_matrix(lr, X_test, y_test, cmap='Blues', values_format='d');"
   ]
  },
  {
   "cell_type": "code",
   "execution_count": 43,
   "metadata": {},
   "outputs": [],
   "source": [
    "tn, fp, fn, tp = confusion_matrix(y_test, y_pred).ravel()"
   ]
  },
  {
   "cell_type": "code",
   "execution_count": 44,
   "metadata": {},
   "outputs": [
    {
     "name": "stdout",
     "output_type": "stream",
     "text": [
      "True Negatives: 1871\n",
      "\n",
      "False Positives: 884\n",
      "\n",
      "False Negatives: 769\n",
      "\n",
      "True Positives: 2330\n"
     ]
    }
   ],
   "source": [
    "print(\"True Negatives: \" + str(tn))\n",
    "print()\n",
    "print(\"False Positives: \" + str(fp))\n",
    "print()\n",
    "print(\"False Negatives: \" + str(fn))\n",
    "print()\n",
    "print(\"True Positives: \" + str(tp))"
   ]
  },
  {
   "cell_type": "code",
   "execution_count": 45,
   "metadata": {},
   "outputs": [
    {
     "data": {
      "text/html": [
       "<div>\n",
       "<style scoped>\n",
       "    .dataframe tbody tr th:only-of-type {\n",
       "        vertical-align: middle;\n",
       "    }\n",
       "\n",
       "    .dataframe tbody tr th {\n",
       "        vertical-align: top;\n",
       "    }\n",
       "\n",
       "    .dataframe thead th {\n",
       "        text-align: right;\n",
       "    }\n",
       "</style>\n",
       "<table border=\"1\" class=\"dataframe\">\n",
       "  <thead>\n",
       "    <tr style=\"text-align: right;\">\n",
       "      <th></th>\n",
       "      <th>features</th>\n",
       "      <th>coef</th>\n",
       "    </tr>\n",
       "  </thead>\n",
       "  <tbody>\n",
       "    <tr>\n",
       "      <th>506</th>\n",
       "      <td>zipcode_95150.0</td>\n",
       "      <td>16.417346</td>\n",
       "    </tr>\n",
       "    <tr>\n",
       "      <th>411</th>\n",
       "      <td>zipcode_94141.0</td>\n",
       "      <td>16.298981</td>\n",
       "    </tr>\n",
       "    <tr>\n",
       "      <th>509</th>\n",
       "      <td>zipcode_95155.0</td>\n",
       "      <td>10.122096</td>\n",
       "    </tr>\n",
       "    <tr>\n",
       "      <th>449</th>\n",
       "      <td>zipcode_94601.0</td>\n",
       "      <td>9.073319</td>\n",
       "    </tr>\n",
       "    <tr>\n",
       "      <th>474</th>\n",
       "      <td>zipcode_94955.0</td>\n",
       "      <td>6.622077</td>\n",
       "    </tr>\n",
       "  </tbody>\n",
       "</table>\n",
       "</div>"
      ],
      "text/plain": [
       "            features       coef\n",
       "506  zipcode_95150.0  16.417346\n",
       "411  zipcode_94141.0  16.298981\n",
       "509  zipcode_95155.0  10.122096\n",
       "449  zipcode_94601.0   9.073319\n",
       "474  zipcode_94955.0   6.622077"
      ]
     },
     "execution_count": 45,
     "metadata": {},
     "output_type": "execute_result"
    }
   ],
   "source": [
    "coef_df = pd.DataFrame({\n",
    "    'features': X.columns,\n",
    "    'coef': np.exp(lr.coef_[0]),\n",
    "})\n",
    "\n",
    "coef_df.sort_values(by='coef', ascending=False).head()\n",
    "# As coefficients approach 1 they are more likely to be positive class, as approach 0 more likely to be negative class"
   ]
  },
  {
   "cell_type": "markdown",
   "metadata": {},
   "source": [
    "-------"
   ]
  },
  {
   "cell_type": "markdown",
   "metadata": {},
   "source": [
    "## TFIDF"
   ]
  },
  {
   "cell_type": "markdown",
   "metadata": {},
   "source": [
    "**Feature Engineering**"
   ]
  },
  {
   "cell_type": "code",
   "execution_count": 46,
   "metadata": {},
   "outputs": [],
   "source": [
    "# Dropping 489 columns with no description - may replace with none?\n",
    "#dogs = dogs[dogs['description'].notna()]"
   ]
  },
  {
   "cell_type": "code",
   "execution_count": 47,
   "metadata": {},
   "outputs": [],
   "source": [
    "dogs['description'].fillna('None', inplace=True)"
   ]
  },
  {
   "cell_type": "code",
   "execution_count": 48,
   "metadata": {},
   "outputs": [],
   "source": [
    "X = dogs['description']\n",
    "y = dogs['days_on_petfinder']"
   ]
  },
  {
   "cell_type": "code",
   "execution_count": 49,
   "metadata": {},
   "outputs": [],
   "source": [
    "X_train, X_test, y_train, y_test = train_test_split(X,\n",
    "                                                    y,\n",
    "                                                    test_size=0.30,\n",
    "                                                    stratify=y,\n",
    "                                                    random_state=42)"
   ]
  },
  {
   "cell_type": "code",
   "execution_count": 50,
   "metadata": {},
   "outputs": [],
   "source": [
    "tvec = TfidfVectorizer()"
   ]
  },
  {
   "cell_type": "code",
   "execution_count": 51,
   "metadata": {},
   "outputs": [
    {
     "name": "stdout",
     "output_type": "stream",
     "text": [
      "Cross-Val Score   = 0.6402585305207334\n",
      "Training Accuracy = 0.7814307681042689\n",
      "Testing Accuracy  = 0.6481038606081312\n"
     ]
    }
   ],
   "source": [
    "# Instantiating a pipeline, and specifying Multinomial Naive Bayes as the estimator, and CountVectorizer as the transformer.\n",
    "pipe = Pipeline([\n",
    "    ('tvec', TfidfVectorizer()),\n",
    "    ('lr', LogisticRegression())])\n",
    "\n",
    "# Evaluating how my model will perform on unseen data.\n",
    "print(f'Cross-Val Score   = {cross_val_score(pipe, X_train, y_train, cv = 5).mean()}') \n",
    "\n",
    "# Fitting my model.\n",
    "pipe.fit(X_train, y_train)\n",
    "\n",
    "# Looking at training and testing scores for my pipeline.\n",
    "print(f'Training Accuracy = {pipe.score(X_train, y_train)}')\n",
    "print(f'Testing Accuracy  = {pipe.score(X_test, y_test)}')\n",
    "\n",
    "# Defining my list of cvec hyperparameters to test in my gridsearch.\n",
    "pipe_params = {\n",
    "    # Defining max numbers of features to be fit.\n",
    "    'tvec__max_features': [5_000, 10_000, 15_000, 20_000, 25_000],\n",
    "    # Specifying that a token must occur a minumum of 2, 3, or 5 times to be factored into the model.\n",
    "    'tvec__min_df': [2, 3, 5],\n",
    "    # Specifying no stop words, English stop words, and my own stop words (defined above).\n",
    "    'tvec__stop_words': [None, 'english'],\n",
    "    # Checking individual tokens, and individual tokens and 2-grams.\n",
    "    'tvec__ngram_range': [(1,1), (1,2), (2,2)]\n",
    "}\n",
    "\n",
    "# Instantiating GridSearchCV on my cvec-transformed data.\n",
    "gs = GridSearchCV(pipe, \n",
    "                  param_grid = pipe_params,\n",
    "                  # 5-fold cross-validation.\n",
    "                  cv = 5,                   \n",
    "                  n_jobs = 6) "
   ]
  },
  {
   "cell_type": "code",
   "execution_count": 52,
   "metadata": {},
   "outputs": [
    {
     "data": {
      "text/plain": [
       "GridSearchCV(cv=5,\n",
       "             estimator=Pipeline(steps=[('tvec', TfidfVectorizer()),\n",
       "                                       ('lr', LogisticRegression())]),\n",
       "             n_jobs=6,\n",
       "             param_grid={'tvec__max_features': [5000, 10000, 15000, 20000,\n",
       "                                                25000],\n",
       "                         'tvec__min_df': [2, 3, 5],\n",
       "                         'tvec__ngram_range': [(1, 1), (1, 2), (2, 2)],\n",
       "                         'tvec__stop_words': [None, 'english']})"
      ]
     },
     "execution_count": 52,
     "metadata": {},
     "output_type": "execute_result"
    }
   ],
   "source": [
    "gs.fit(X_train, y_train)"
   ]
  },
  {
   "cell_type": "code",
   "execution_count": 53,
   "metadata": {},
   "outputs": [
    {
     "data": {
      "text/plain": [
       "{'tvec__max_features': 25000,\n",
       " 'tvec__min_df': 2,\n",
       " 'tvec__ngram_range': (1, 2),\n",
       " 'tvec__stop_words': None}"
      ]
     },
     "execution_count": 53,
     "metadata": {},
     "output_type": "execute_result"
    }
   ],
   "source": [
    "# Looking at the best parameters my gridsearch chose for this model.\n",
    "gs.best_params_"
   ]
  },
  {
   "cell_type": "code",
   "execution_count": 54,
   "metadata": {},
   "outputs": [
    {
     "data": {
      "text/plain": [
       "0.6532918505762962"
      ]
     },
     "execution_count": 54,
     "metadata": {},
     "output_type": "execute_result"
    }
   ],
   "source": [
    "gs.best_score_"
   ]
  },
  {
   "cell_type": "code",
   "execution_count": null,
   "metadata": {},
   "outputs": [],
   "source": []
  }
 ],
 "metadata": {
  "kernelspec": {
   "display_name": "Python 3",
   "language": "python",
   "name": "python3"
  },
  "language_info": {
   "codemirror_mode": {
    "name": "ipython",
    "version": 3
   },
   "file_extension": ".py",
   "mimetype": "text/x-python",
   "name": "python",
   "nbconvert_exporter": "python",
   "pygments_lexer": "ipython3",
   "version": "3.8.5"
  }
 },
 "nbformat": 4,
 "nbformat_minor": 4
}

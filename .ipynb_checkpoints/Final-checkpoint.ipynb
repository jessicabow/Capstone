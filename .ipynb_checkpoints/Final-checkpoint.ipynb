{
 "cells": [
  {
   "cell_type": "markdown",
   "metadata": {},
   "source": [
    "  ![ImdbIcon](images/pets.jpg)\n",
    "# Petfinder: Predicting Adoption Speed "
   ]
  },
  {
   "cell_type": "markdown",
   "metadata": {},
   "source": [
    "## 1. Imports and Data Cleaning"
   ]
  },
  {
   "cell_type": "code",
   "execution_count": 91,
   "metadata": {},
   "outputs": [],
   "source": [
    "import petpy\n",
    "import pandas as pd\n",
    "import numpy as np\n",
    "import matplotlib.pyplot as plt\n",
    "import seaborn as sns\n",
    "\n",
    "from sklearn.feature_extraction.text import CountVectorizer, TfidfVectorizer\n",
    "from sklearn.feature_extraction import text\n",
    "\n",
    "from nltk.sentiment.vader import SentimentIntensityAnalyzer\n",
    "from sklearn.naive_bayes import MultinomialNB\n",
    "\n",
    "from sklearn.model_selection import train_test_split, GridSearchCV, cross_val_score\n",
    "from sklearn.pipeline import Pipeline\n",
    "from sklearn.metrics import confusion_matrix\n",
    "from sklearn.preprocessing import StandardScaler\n",
    "from sklearn.linear_model import LogisticRegression\n",
    "from sklearn import metrics\n",
    "import scipy.stats as stats\n",
    "from sklearn.metrics import accuracy_score, precision_score, recall_score, f1_score\n",
    "from sklearn.metrics import classification_report\n",
    "from sklearn.preprocessing import LabelEncoder\n",
    "\n",
    "from sklearn.model_selection import GridSearchCV, train_test_split\n",
    "from sklearn.feature_extraction.text import CountVectorizer, TfidfVectorizer, TfidfTransformer\n",
    "from sklearn.pipeline import Pipeline\n",
    "from sklearn.base import TransformerMixin"
   ]
  },
  {
   "cell_type": "code",
   "execution_count": 2,
   "metadata": {},
   "outputs": [],
   "source": [
    "pd.set_option('display.max_columns', 500)"
   ]
  },
  {
   "cell_type": "code",
   "execution_count": 3,
   "metadata": {},
   "outputs": [],
   "source": [
    "#dogs1 = pd.read_csv('./petfinder_data/last.csv')"
   ]
  },
  {
   "cell_type": "code",
   "execution_count": 4,
   "metadata": {},
   "outputs": [],
   "source": [
    "#dawg = pd.read_csv('./petfinder_data/last1.csv')"
   ]
  },
  {
   "cell_type": "code",
   "execution_count": 5,
   "metadata": {},
   "outputs": [],
   "source": [
    "#lastdog = pd.read_csv('./petfinder_data/last2.csv')"
   ]
  },
  {
   "cell_type": "code",
   "execution_count": 6,
   "metadata": {},
   "outputs": [],
   "source": [
    "#lastdog.shape"
   ]
  },
  {
   "cell_type": "code",
   "execution_count": 7,
   "metadata": {},
   "outputs": [],
   "source": [
    "#dogs1.shape"
   ]
  },
  {
   "cell_type": "code",
   "execution_count": 8,
   "metadata": {},
   "outputs": [],
   "source": [
    "#dogs.shape"
   ]
  },
  {
   "cell_type": "code",
   "execution_count": 9,
   "metadata": {},
   "outputs": [],
   "source": [
    "#dogs1 = pd.concat((dogs1, dawg))"
   ]
  },
  {
   "cell_type": "code",
   "execution_count": 10,
   "metadata": {},
   "outputs": [],
   "source": [
    "#dogs = pd.concat((dogs1, lastdog))"
   ]
  },
  {
   "cell_type": "code",
   "execution_count": 11,
   "metadata": {},
   "outputs": [],
   "source": [
    "#dogs.sort_values(by=['published_at'], inplace=True)"
   ]
  },
  {
   "cell_type": "code",
   "execution_count": 12,
   "metadata": {},
   "outputs": [],
   "source": [
    "#dogs.drop_duplicates(subset=['id'], inplace=True)"
   ]
  },
  {
   "cell_type": "code",
   "execution_count": 13,
   "metadata": {},
   "outputs": [],
   "source": [
    "#dogs.to_csv('./petfinder_data/dogs.csv', index = False)"
   ]
  },
  {
   "cell_type": "code",
   "execution_count": 14,
   "metadata": {},
   "outputs": [],
   "source": [
    "dogs = pd.read_csv('./petfinder_data/dogs.csv')"
   ]
  },
  {
   "cell_type": "markdown",
   "metadata": {},
   "source": [
    " ______"
   ]
  },
  {
   "cell_type": "markdown",
   "metadata": {},
   "source": [
    "## Feature Engineering"
   ]
  },
  {
   "cell_type": "code",
   "execution_count": 16,
   "metadata": {},
   "outputs": [
    {
     "data": {
      "text/html": [
       "<div>\n",
       "<style scoped>\n",
       "    .dataframe tbody tr th:only-of-type {\n",
       "        vertical-align: middle;\n",
       "    }\n",
       "\n",
       "    .dataframe tbody tr th {\n",
       "        vertical-align: top;\n",
       "    }\n",
       "\n",
       "    .dataframe thead th {\n",
       "        text-align: right;\n",
       "    }\n",
       "</style>\n",
       "<table border=\"1\" class=\"dataframe\">\n",
       "  <thead>\n",
       "    <tr style=\"text-align: right;\">\n",
       "      <th></th>\n",
       "      <th>id</th>\n",
       "      <th>organization_id</th>\n",
       "      <th>url</th>\n",
       "      <th>type</th>\n",
       "      <th>species</th>\n",
       "      <th>age</th>\n",
       "      <th>gender</th>\n",
       "      <th>size</th>\n",
       "      <th>coat</th>\n",
       "      <th>tags</th>\n",
       "      <th>name</th>\n",
       "      <th>description</th>\n",
       "      <th>organization_animal_id</th>\n",
       "      <th>photos</th>\n",
       "      <th>videos</th>\n",
       "      <th>status</th>\n",
       "      <th>status_changed_at</th>\n",
       "      <th>published_at</th>\n",
       "      <th>distance</th>\n",
       "      <th>breeds.primary</th>\n",
       "      <th>breeds.secondary</th>\n",
       "      <th>breeds.mixed</th>\n",
       "      <th>breeds.unknown</th>\n",
       "      <th>colors.primary</th>\n",
       "      <th>colors.secondary</th>\n",
       "      <th>colors.tertiary</th>\n",
       "      <th>fixed</th>\n",
       "      <th>house_trained</th>\n",
       "      <th>attributes.declawed</th>\n",
       "      <th>special_needs</th>\n",
       "      <th>shots_current</th>\n",
       "      <th>good_with_kids</th>\n",
       "      <th>good_with_dogs</th>\n",
       "      <th>good_with_cats</th>\n",
       "      <th>primary_photo_cropped.small</th>\n",
       "      <th>primary_photo_cropped.medium</th>\n",
       "      <th>primary_photo_cropped.large</th>\n",
       "      <th>primary_photo_cropped.full</th>\n",
       "      <th>contact.email</th>\n",
       "      <th>contact.phone</th>\n",
       "      <th>contact.address.address1</th>\n",
       "      <th>contact.address.address2</th>\n",
       "      <th>city</th>\n",
       "      <th>contact.address.state</th>\n",
       "      <th>zipcode</th>\n",
       "      <th>contact.address.country</th>\n",
       "      <th>animal_id</th>\n",
       "      <th>animal_type</th>\n",
       "      <th>organization_id.1</th>\n",
       "      <th>primary_photo_cropped</th>\n",
       "    </tr>\n",
       "  </thead>\n",
       "  <tbody>\n",
       "    <tr>\n",
       "      <th>0</th>\n",
       "      <td>43672066</td>\n",
       "      <td>CA1005</td>\n",
       "      <td>https://www.petfinder.com/dog/spirit-s-litter-...</td>\n",
       "      <td>Dog</td>\n",
       "      <td>Dog</td>\n",
       "      <td>Baby</td>\n",
       "      <td>Male</td>\n",
       "      <td>Medium</td>\n",
       "      <td>Medium</td>\n",
       "      <td>[]</td>\n",
       "      <td>Spirit (S Litter)</td>\n",
       "      <td>EMAIL:  stonecliffeadoption@gmail.com for an a...</td>\n",
       "      <td>NaN</td>\n",
       "      <td>[{'small': 'https://dl5zpyw5k3jeb.cloudfront.n...</td>\n",
       "      <td>[]</td>\n",
       "      <td>adopted</td>\n",
       "      <td>2019-02-10T03:03:57+0000</td>\n",
       "      <td>2019-01-02T03:49:40+0000</td>\n",
       "      <td>16.3248</td>\n",
       "      <td>Labrador Retriever</td>\n",
       "      <td>NaN</td>\n",
       "      <td>True</td>\n",
       "      <td>False</td>\n",
       "      <td>Black</td>\n",
       "      <td>NaN</td>\n",
       "      <td>NaN</td>\n",
       "      <td>True</td>\n",
       "      <td>False</td>\n",
       "      <td>NaN</td>\n",
       "      <td>False</td>\n",
       "      <td>True</td>\n",
       "      <td>NaN</td>\n",
       "      <td>True</td>\n",
       "      <td>NaN</td>\n",
       "      <td>https://dl5zpyw5k3jeb.cloudfront.net/photos/pe...</td>\n",
       "      <td>https://dl5zpyw5k3jeb.cloudfront.net/photos/pe...</td>\n",
       "      <td>https://dl5zpyw5k3jeb.cloudfront.net/photos/pe...</td>\n",
       "      <td>https://dl5zpyw5k3jeb.cloudfront.net/photos/pe...</td>\n",
       "      <td>contact@stoneclifferescue.org</td>\n",
       "      <td>NaN</td>\n",
       "      <td>NaN</td>\n",
       "      <td>NaN</td>\n",
       "      <td>Dublin</td>\n",
       "      <td>CA</td>\n",
       "      <td>94568.0</td>\n",
       "      <td>US</td>\n",
       "      <td>43672066</td>\n",
       "      <td>dog</td>\n",
       "      <td>ca1005</td>\n",
       "      <td>NaN</td>\n",
       "    </tr>\n",
       "  </tbody>\n",
       "</table>\n",
       "</div>"
      ],
      "text/plain": [
       "         id organization_id  \\\n",
       "0  43672066          CA1005   \n",
       "\n",
       "                                                 url type species   age  \\\n",
       "0  https://www.petfinder.com/dog/spirit-s-litter-...  Dog     Dog  Baby   \n",
       "\n",
       "  gender    size    coat tags               name  \\\n",
       "0   Male  Medium  Medium   []  Spirit (S Litter)   \n",
       "\n",
       "                                         description organization_animal_id  \\\n",
       "0  EMAIL:  stonecliffeadoption@gmail.com for an a...                    NaN   \n",
       "\n",
       "                                              photos videos   status  \\\n",
       "0  [{'small': 'https://dl5zpyw5k3jeb.cloudfront.n...     []  adopted   \n",
       "\n",
       "          status_changed_at              published_at  distance  \\\n",
       "0  2019-02-10T03:03:57+0000  2019-01-02T03:49:40+0000   16.3248   \n",
       "\n",
       "       breeds.primary breeds.secondary  breeds.mixed  breeds.unknown  \\\n",
       "0  Labrador Retriever              NaN          True           False   \n",
       "\n",
       "  colors.primary colors.secondary colors.tertiary  fixed  house_trained  \\\n",
       "0          Black              NaN             NaN   True          False   \n",
       "\n",
       "   attributes.declawed  special_needs  shots_current good_with_kids  \\\n",
       "0                  NaN          False           True            NaN   \n",
       "\n",
       "  good_with_dogs good_with_cats  \\\n",
       "0           True            NaN   \n",
       "\n",
       "                         primary_photo_cropped.small  \\\n",
       "0  https://dl5zpyw5k3jeb.cloudfront.net/photos/pe...   \n",
       "\n",
       "                        primary_photo_cropped.medium  \\\n",
       "0  https://dl5zpyw5k3jeb.cloudfront.net/photos/pe...   \n",
       "\n",
       "                         primary_photo_cropped.large  \\\n",
       "0  https://dl5zpyw5k3jeb.cloudfront.net/photos/pe...   \n",
       "\n",
       "                          primary_photo_cropped.full  \\\n",
       "0  https://dl5zpyw5k3jeb.cloudfront.net/photos/pe...   \n",
       "\n",
       "                   contact.email contact.phone contact.address.address1  \\\n",
       "0  contact@stoneclifferescue.org           NaN                      NaN   \n",
       "\n",
       "  contact.address.address2    city contact.address.state  zipcode  \\\n",
       "0                      NaN  Dublin                    CA  94568.0   \n",
       "\n",
       "  contact.address.country  animal_id animal_type organization_id.1  \\\n",
       "0                      US   43672066         dog            ca1005   \n",
       "\n",
       "   primary_photo_cropped  \n",
       "0                    NaN  "
      ]
     },
     "execution_count": 16,
     "metadata": {},
     "output_type": "execute_result"
    }
   ],
   "source": [
    "# Renaming some columns for easier readability/coding\n",
    "\n",
    "dogs.rename(columns={\"attributes.spayed_neutered\": \"fixed\", \"attributes.house_trained\": \"house_trained\", 'attributes.special_needs': 'special_needs', \n",
    "                      'attributes.shots_current': 'shots_current','environment.children': 'good_with_kids', 'environment.dogs': 'good_with_dogs', \n",
    "                      'environment.cats': 'good_with_cats', 'contact.address.city': 'city', 'contact.address.postcode': 'zipcode' }, inplace=True)\n",
    "dogs.head(1)"
   ]
  },
  {
   "cell_type": "code",
   "execution_count": 17,
   "metadata": {},
   "outputs": [],
   "source": [
    "# Making sure all cities match up and no duplicates - combining modesto which appeared in two cases\n",
    "dogs['city']=dogs['city'].replace('modesto','Modesto')"
   ]
  },
  {
   "cell_type": "code",
   "execution_count": 18,
   "metadata": {},
   "outputs": [],
   "source": [
    "# Converting videos column to 1 if post has a video, 0 if not\n",
    "\n",
    "dogs['videos'] = np.where(dogs['videos']!= '[]', 1, 0)"
   ]
  },
  {
   "cell_type": "code",
   "execution_count": 19,
   "metadata": {},
   "outputs": [],
   "source": [
    "# Adding a column, 1 if post has photos, 0 if not\n",
    "\n",
    "dogs['has_photo'] = np.where(dogs['photos']!= '[]', 1, 0)"
   ]
  },
  {
   "cell_type": "code",
   "execution_count": 20,
   "metadata": {},
   "outputs": [],
   "source": [
    "# Dummifying some categorical columns\n",
    "\n",
    "dogs = pd.get_dummies(dogs, columns=['age', 'gender', 'size', 'coat', 'city'])"
   ]
  },
  {
   "cell_type": "code",
   "execution_count": 21,
   "metadata": {},
   "outputs": [],
   "source": [
    "dogs['good_with_kids'] = dogs['good_with_kids'].fillna(2)\n",
    "dogs['good_with_dogs'] = dogs['good_with_dogs'].fillna(2)\n",
    "dogs['good_with_cats'] = dogs['good_with_cats'].fillna(2)\n",
    "\n",
    "dogs['fixed'] = (dogs['fixed'] * 1).astype(int)\n",
    "dogs['house_trained'] = (dogs['house_trained'] * 1).astype(int)\n",
    "dogs['shots_current'] = (dogs['shots_current'] * 1).astype(int)\n",
    "dogs['good_with_kids'] = (dogs['good_with_kids'] * 1).astype(int)\n",
    "dogs['good_with_dogs'] = (dogs['good_with_dogs'] * 1).astype(int)\n",
    "dogs['good_with_cats'] = (dogs['good_with_cats'] * 1).astype(int)\n",
    "dogs['special_needs'] = (dogs['special_needs'] * 1).astype(int)"
   ]
  },
  {
   "cell_type": "code",
   "execution_count": 22,
   "metadata": {},
   "outputs": [],
   "source": [
    "# Function to dummify and combine multiclass columns (ie. primary.breed, secondary.breed)\n",
    "\n",
    "def dummy(df, label):\n",
    "    cols = [col for col in df if label in col]\n",
    "    dummy_dict = {}\n",
    "    main_df = pd.get_dummies(df[cols[0]],prefix = label)\n",
    "    for col in cols[1:]:\n",
    "        dummy_dict[col] = pd.get_dummies(df[col],prefix = label)\n",
    "    for col in dummy_dict:\n",
    "        main_df = main_df.add(dummy_dict[col], fill_value = 0).gt(0)*1\n",
    "    return main_df"
   ]
  },
  {
   "cell_type": "code",
   "execution_count": 23,
   "metadata": {},
   "outputs": [],
   "source": [
    "# Running function for color columns and merging dummified df back to original df\n",
    "\n",
    "dummy_color_dog = dummy(dogs, 'color') \n",
    "dogs = pd.merge(dogs, dummy_color_dog, left_index=True, right_index=True)"
   ]
  },
  {
   "cell_type": "code",
   "execution_count": 24,
   "metadata": {},
   "outputs": [],
   "source": [
    "# Running function for breed columns and merging dummified df back to original df\n",
    "\n",
    "dogs.drop(columns=['breeds.unknown'], inplace=True) # All breeds are known or guessed at so dropping this column\n",
    "dummy_color_dog = dummy(dogs, 'breeds') \n",
    "dogs = pd.merge(dogs, dummy_color_dog, left_index=True, right_index=True)"
   ]
  },
  {
   "cell_type": "code",
   "execution_count": 25,
   "metadata": {},
   "outputs": [],
   "source": [
    "# Dropping columns deemed by me to be irrelevant\n",
    "\n",
    "dogs.drop(columns=['type', 'species', 'url', 'tags', 'organization_animal_id', 'status', 'breeds.primary', 'breeds.secondary', 'breeds.mixed', \n",
    "                   'colors.primary', 'colors.secondary', 'colors.tertiary', 'attributes.declawed', 'primary_photo_cropped.small', 'primary_photo_cropped.medium',\n",
    "                   'primary_photo_cropped.large', 'primary_photo_cropped.full', 'contact.email', 'contact.phone', 'contact.address.address1',\n",
    "                   'contact.address.address2', 'contact.address.country', 'contact.address.state', 'animal_id', 'animal_type', 'organization_id.1', \n",
    "                   'primary_photo_cropped'], inplace=True)"
   ]
  },
  {
   "cell_type": "code",
   "execution_count": 26,
   "metadata": {},
   "outputs": [],
   "source": [
    "# Converting columns to datetime\n",
    "\n",
    "dogs['published_at']= pd.to_datetime(dogs['published_at'])\n",
    "dogs['status_changed_at']= pd.to_datetime(dogs['status_changed_at'])"
   ]
  },
  {
   "cell_type": "code",
   "execution_count": 27,
   "metadata": {},
   "outputs": [],
   "source": [
    "# Consructing target column\n",
    "\n",
    "dogs['days_on_petfinder'] = dogs['status_changed_at'] - dogs['published_at']\n",
    "dogs['days_on_petfinder'] = dogs['days_on_petfinder'] / np.timedelta64(1, 'D')\n",
    "dogs['days_on_petfinder'] = dogs['days_on_petfinder'].round()"
   ]
  },
  {
   "cell_type": "code",
   "execution_count": 67,
   "metadata": {},
   "outputs": [
    {
     "data": {
      "text/plain": [
       "id                                            int64\n",
       "organization_id                              object\n",
       "name                                         object\n",
       "description                                  object\n",
       "photos                                       object\n",
       "                                             ...   \n",
       "breeds_Wirehaired Terrier                     int64\n",
       "breeds_Xoloitzcuintli / Mexican Hairless      int64\n",
       "breeds_Yellow Labrador Retriever              int64\n",
       "breeds_Yorkshire Terrier                      int64\n",
       "days_on_petfinder                           float64\n",
       "Length: 390, dtype: object"
      ]
     },
     "execution_count": 67,
     "metadata": {},
     "output_type": "execute_result"
    }
   ],
   "source": [
    "dogs.dtypes"
   ]
  },
  {
   "cell_type": "markdown",
   "metadata": {},
   "source": [
    "**For initial model I am choosing to predict if a dog is adopted within 2 weeks or not**"
   ]
  },
  {
   "cell_type": "code",
   "execution_count": 45,
   "metadata": {},
   "outputs": [],
   "source": [
    "dogs.loc[dogs['days_on_petfinder'] < 14, 'days_on_petfinder'] = 1"
   ]
  },
  {
   "cell_type": "code",
   "execution_count": 46,
   "metadata": {},
   "outputs": [],
   "source": [
    "dogs.loc[dogs['days_on_petfinder'] >= 14, 'days_on_petfinder'] = 0"
   ]
  },
  {
   "cell_type": "code",
   "execution_count": 48,
   "metadata": {},
   "outputs": [
    {
     "data": {
      "text/plain": [
       "1.0    10646\n",
       "0.0     9348\n",
       "Name: days_on_petfinder, dtype: int64"
      ]
     },
     "execution_count": 48,
     "metadata": {},
     "output_type": "execute_result"
    }
   ],
   "source": [
    "# classes decently balanced\n",
    "\n",
    "dogs.days_on_petfinder.value_counts()"
   ]
  },
  {
   "cell_type": "code",
   "execution_count": 55,
   "metadata": {},
   "outputs": [],
   "source": [
    "# Creating a list of my categorical columns for later use in modeling\n",
    "categorical = ['id', 'organization_id', 'name', 'description', 'photos', 'status_changed_at', 'published_at', 'zipcode', 'days_on_petfinder']"
   ]
  },
  {
   "cell_type": "code",
   "execution_count": 50,
   "metadata": {},
   "outputs": [],
   "source": [
    "# Creating a df of numerical columns for later use in modeling\n",
    "numerical = dogs.drop(categorical, axis=1)"
   ]
  },
  {
   "cell_type": "code",
   "execution_count": 107,
   "metadata": {},
   "outputs": [],
   "source": [
    "#plt.figure(figsize=(15,30))\n",
    "#sns.heatmap(numerical.corr()[['days_on_petfinder']].sort_values(by='days_on_petfinder', ascending=True),\n",
    "           # vmin = -1, vmax=1,\n",
    "           # cmap ='winter',\n",
    "           # annot = True,);\n",
    "#plt.title(\"Correlation With Adoption Speed - Cats\", size = 20);"
   ]
  },
  {
   "cell_type": "markdown",
   "metadata": {},
   "source": [
    "### Sentiment Analysis"
   ]
  },
  {
   "cell_type": "code",
   "execution_count": 100,
   "metadata": {},
   "outputs": [],
   "source": [
    "# Converting the body of my comments to a list in order to feed it into my function below\n",
    "\n",
    "desc_list = dogs['description'].tolist()"
   ]
  },
  {
   "cell_type": "code",
   "execution_count": 101,
   "metadata": {},
   "outputs": [],
   "source": [
    "# Instantiating sentiment intensity analyzer\n",
    "\n",
    "analyzer = SentimentIntensityAnalyzer()"
   ]
  },
  {
   "cell_type": "code",
   "execution_count": 102,
   "metadata": {},
   "outputs": [],
   "source": [
    "def get_polarity(desc_list):\n",
    "    polarity = []\n",
    "    for post in desc_list:\n",
    "        vs = analyzer.polarity_scores(post) # Analyzing polarity scores by individual description\n",
    "        polarity.append(vs['compound']) # Appending polarity scores to my list- polarity\n",
    "    return polarity"
   ]
  },
  {
   "cell_type": "code",
   "execution_count": 103,
   "metadata": {},
   "outputs": [],
   "source": [
    "polarity = get_polarity(desc_list)"
   ]
  },
  {
   "cell_type": "code",
   "execution_count": 104,
   "metadata": {},
   "outputs": [],
   "source": [
    "# Adding polarity column\n",
    "dogs['polarity'] = polarity"
   ]
  },
  {
   "cell_type": "code",
   "execution_count": 108,
   "metadata": {},
   "outputs": [],
   "source": [
    "# Adding description length column\n",
    "dogs['desc_len'] = [len(x) for x in dogs['description']]"
   ]
  },
  {
   "cell_type": "code",
   "execution_count": null,
   "metadata": {},
   "outputs": [],
   "source": []
  },
  {
   "cell_type": "markdown",
   "metadata": {},
   "source": [
    "-------"
   ]
  },
  {
   "cell_type": "markdown",
   "metadata": {},
   "source": [
    "## Logreg"
   ]
  },
  {
   "cell_type": "code",
   "execution_count": 109,
   "metadata": {},
   "outputs": [],
   "source": [
    "# Dropping columns from data frame and dummifying categorical columns\n",
    "X = dogs.drop(columns=categorical)\n",
    "y = dogs['days_on_petfinder']\n",
    "\n",
    "X_train, X_test, y_train, y_test = train_test_split(\n",
    "    X,\n",
    "    y,\n",
    "    test_size=0.30,\n",
    "    stratify=y,\n",
    "    random_state=42)"
   ]
  },
  {
   "cell_type": "code",
   "execution_count": 110,
   "metadata": {},
   "outputs": [
    {
     "name": "stdout",
     "output_type": "stream",
     "text": [
      "CPU times: user 56.2 s, sys: 407 ms, total: 56.6 s\n",
      "Wall time: 9.53 s\n"
     ]
    }
   ],
   "source": [
    "%%time\n",
    "lr = LogisticRegression(max_iter=5000)\n",
    "lr.fit(X_train, y_train)\n",
    "lr_train = lr.score(X_train, y_train)\n",
    "lr_test = lr.score(X_test, y_test)"
   ]
  },
  {
   "cell_type": "code",
   "execution_count": 111,
   "metadata": {},
   "outputs": [
    {
     "name": "stdout",
     "output_type": "stream",
     "text": [
      "train score: 0.7005053834322127\n",
      "test score: 0.6830143540669856\n"
     ]
    }
   ],
   "source": [
    "print(f'train score: {lr_train}')\n",
    "print(f'test score: {lr_test}')"
   ]
  },
  {
   "cell_type": "code",
   "execution_count": 112,
   "metadata": {},
   "outputs": [
    {
     "data": {
      "text/plain": [
       "1.0    0.530172\n",
       "0.0    0.469828\n",
       "Name: days_on_petfinder, dtype: float64"
      ]
     },
     "execution_count": 112,
     "metadata": {},
     "output_type": "execute_result"
    }
   ],
   "source": [
    "# Baseline\n",
    "dogs['days_on_petfinder'].value_counts(normalize=True)"
   ]
  },
  {
   "cell_type": "code",
   "execution_count": 113,
   "metadata": {},
   "outputs": [
    {
     "data": {
      "text/plain": [
       "array([1., 1., 1., 1., 1., 1., 1., 1., 1., 1., 0., 0., 0., 1., 1., 0., 0.,\n",
       "       1., 0., 1.])"
      ]
     },
     "execution_count": 113,
     "metadata": {},
     "output_type": "execute_result"
    }
   ],
   "source": [
    "y_pred=lr.predict(X_test)\n",
    "y_pred[0:20]"
   ]
  },
  {
   "cell_type": "code",
   "execution_count": 114,
   "metadata": {},
   "outputs": [
    {
     "name": "stdout",
     "output_type": "stream",
     "text": [
      "Confusion Matrix\n",
      "\n",
      "[[1740 1009]\n",
      " [ 846 2257]]\n"
     ]
    }
   ],
   "source": [
    "confusion = confusion_matrix(y_test, y_pred)\n",
    "print('Confusion Matrix\\n')\n",
    "print(confusion)"
   ]
  },
  {
   "cell_type": "markdown",
   "metadata": {},
   "source": [
    "-------"
   ]
  },
  {
   "cell_type": "markdown",
   "metadata": {},
   "source": [
    "## TFIDF"
   ]
  },
  {
   "cell_type": "markdown",
   "metadata": {},
   "source": [
    "**Feature Engineering**"
   ]
  },
  {
   "cell_type": "code",
   "execution_count": 92,
   "metadata": {},
   "outputs": [],
   "source": [
    "# Dropping 489 columns with no description - may replace with none?\n",
    "dogs = dogs[dogs['description'].notna()]"
   ]
  },
  {
   "cell_type": "code",
   "execution_count": 93,
   "metadata": {},
   "outputs": [],
   "source": [
    "X = dogs['description']\n",
    "y = dogs['days_on_petfinder']"
   ]
  },
  {
   "cell_type": "code",
   "execution_count": 94,
   "metadata": {},
   "outputs": [],
   "source": [
    "X_train, X_test, y_train, y_test = train_test_split(X,\n",
    "                                                    y,\n",
    "                                                    test_size=0.30,\n",
    "                                                    stratify=y,\n",
    "                                                    random_state=42)"
   ]
  },
  {
   "cell_type": "code",
   "execution_count": 95,
   "metadata": {},
   "outputs": [],
   "source": [
    "tvec = TfidfVectorizer()"
   ]
  },
  {
   "cell_type": "code",
   "execution_count": 96,
   "metadata": {},
   "outputs": [
    {
     "name": "stdout",
     "output_type": "stream",
     "text": [
      "Cross-Val Score   = 0.6350989520670955\n",
      "Training Accuracy = 0.7640079103493738\n",
      "Testing Accuracy  = 0.6273069036226931\n"
     ]
    }
   ],
   "source": [
    "# Instantiating a pipeline, and specifying Multinomial Naive Bayes as the estimator, and CountVectorizer as the transformer.\n",
    "pipe = Pipeline([\n",
    "    ('cvec', CountVectorizer()),\n",
    "    ('nb', MultinomialNB())\n",
    "])\n",
    "\n",
    "# Evaluating how my model will perform on unseen data.\n",
    "print(f'Cross-Val Score   = {cross_val_score(pipe, X_train, y_train, cv = 5).mean()}') \n",
    "\n",
    "# Fitting my model.\n",
    "pipe.fit(X_train, y_train)\n",
    "\n",
    "# Looking at training and testing scores for my pipeline.\n",
    "print(f'Training Accuracy = {pipe.score(X_train, y_train)}')\n",
    "print(f'Testing Accuracy  = {pipe.score(X_test, y_test)}')\n",
    "\n",
    "# Defining my list of cvec hyperparameters to test in my gridsearch.\n",
    "pipe_params = {\n",
    "    # Defining max numbers of features to be fit.\n",
    "    'cvec__max_features': [5_000, 10_000, 15_000, 20_000, 25_000],\n",
    "    # Specifying that a token must occur a minumum of 2, 3, or 5 times to be factored into the model.\n",
    "    'cvec__min_df': [2, 3, 5],\n",
    "    # Specifying no stop words, English stop words, and my own stop words (defined above).\n",
    "    'cvec__stop_words': [None, 'english'],\n",
    "    # Checking individual tokens, and individual tokens and 2-grams.\n",
    "    'cvec__ngram_range': [(1,1), (1,2)]\n",
    "}\n",
    "\n",
    "# Instantiating GridSearchCV on my cvec-transformed data.\n",
    "gs = GridSearchCV(pipe, \n",
    "                  param_grid = pipe_params,\n",
    "                  # 5-fold cross-validation.\n",
    "                  cv = 5,                   \n",
    "                  # Defining n_jobs to be 12 so my gridsearch runs faster! I have 8 cores, so I can safely run up to 16 threads, but\n",
    "                  # because there are dimishing returns as I increase the number, I'm setting it at a slightly more modest 12.\n",
    "                  n_jobs = 6) "
   ]
  },
  {
   "cell_type": "code",
   "execution_count": 97,
   "metadata": {},
   "outputs": [
    {
     "data": {
      "text/plain": [
       "GridSearchCV(cv=5,\n",
       "             estimator=Pipeline(steps=[('cvec', CountVectorizer()),\n",
       "                                       ('nb', MultinomialNB())]),\n",
       "             n_jobs=6,\n",
       "             param_grid={'cvec__max_features': [5000, 10000, 15000, 20000,\n",
       "                                                25000],\n",
       "                         'cvec__min_df': [2, 3, 5],\n",
       "                         'cvec__ngram_range': [(1, 1), (1, 2)],\n",
       "                         'cvec__stop_words': [None, 'english']})"
      ]
     },
     "execution_count": 97,
     "metadata": {},
     "output_type": "execute_result"
    }
   ],
   "source": [
    "gs.fit(X_train, y_train)"
   ]
  },
  {
   "cell_type": "code",
   "execution_count": 98,
   "metadata": {},
   "outputs": [
    {
     "data": {
      "text/plain": [
       "{'cvec__max_features': 25000,\n",
       " 'cvec__min_df': 2,\n",
       " 'cvec__ngram_range': (1, 2),\n",
       " 'cvec__stop_words': None}"
      ]
     },
     "execution_count": 98,
     "metadata": {},
     "output_type": "execute_result"
    }
   ],
   "source": [
    "# Looking at the best parameters my gridsearch chose for this model.\n",
    "gs.best_params_"
   ]
  },
  {
   "cell_type": "code",
   "execution_count": 99,
   "metadata": {},
   "outputs": [
    {
     "data": {
      "text/plain": [
       "0.6518726385295407"
      ]
     },
     "execution_count": 99,
     "metadata": {},
     "output_type": "execute_result"
    }
   ],
   "source": [
    "# Looking at my best score - really good! This suggests my model will perform well on unseen data.\n",
    "gs.best_score_"
   ]
  },
  {
   "cell_type": "code",
   "execution_count": null,
   "metadata": {},
   "outputs": [],
   "source": []
  }
 ],
 "metadata": {
  "kernelspec": {
   "display_name": "Python 3",
   "language": "python",
   "name": "python3"
  },
  "language_info": {
   "codemirror_mode": {
    "name": "ipython",
    "version": 3
   },
   "file_extension": ".py",
   "mimetype": "text/x-python",
   "name": "python",
   "nbconvert_exporter": "python",
   "pygments_lexer": "ipython3",
   "version": "3.8.5"
  }
 },
 "nbformat": 4,
 "nbformat_minor": 4
}

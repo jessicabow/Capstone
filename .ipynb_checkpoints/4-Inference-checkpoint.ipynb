{
 "cells": [
  {
   "cell_type": "markdown",
   "metadata": {},
   "source": [
    " # Petfinder: Bay Area Dog Adoption\n",
    " ![Icon](images/pets.jpg)"
   ]
  },
  {
   "cell_type": "markdown",
   "metadata": {},
   "source": [
    "### Notebook Contents"
   ]
  },
  {
   "cell_type": "markdown",
   "metadata": {},
   "source": []
  },
  {
   "cell_type": "markdown",
   "metadata": {},
   "source": [
    "--------"
   ]
  },
  {
   "cell_type": "code",
   "execution_count": 1,
   "metadata": {},
   "outputs": [],
   "source": [
    "import pandas as pd"
   ]
  },
  {
   "cell_type": "code",
   "execution_count": 2,
   "metadata": {},
   "outputs": [],
   "source": [
    "pd.set_option('display.max_columns', 500)"
   ]
  },
  {
   "cell_type": "code",
   "execution_count": 3,
   "metadata": {},
   "outputs": [],
   "source": [
    "pd.set_option('display.max_rows', 500)"
   ]
  },
  {
   "cell_type": "code",
   "execution_count": 4,
   "metadata": {},
   "outputs": [],
   "source": [
    "dogs = pd.read_csv('./petfinder_data/edadogs.csv')"
   ]
  },
  {
   "cell_type": "code",
   "execution_count": 5,
   "metadata": {},
   "outputs": [],
   "source": [
    "result = pd.read_csv('./petfinder_data/misclassified_listings.csv')"
   ]
  },
  {
   "cell_type": "code",
   "execution_count": 6,
   "metadata": {},
   "outputs": [],
   "source": [
    "good = result[result['predicted'] == 'Slow_adoption']\n",
    "bad = result[result['predicted'] == 'Speedy_adoption']"
   ]
  },
  {
   "cell_type": "markdown",
   "metadata": {},
   "source": [
    "#### Investigating misclassifications by shelter"
   ]
  },
  {
   "cell_type": "code",
   "execution_count": 7,
   "metadata": {},
   "outputs": [
    {
     "data": {
      "text/plain": [
       "CA1973    52\n",
       "CA2490    44\n",
       "CA86      41\n",
       "CA2452    37\n",
       "CA1727    27\n",
       "CA2646    25\n",
       "CA1005    23\n",
       "CA2614    22\n",
       "CA2324    18\n",
       "CA2280    18\n",
       "CA2420    15\n",
       "CA781     14\n",
       "CA1775    14\n",
       "CA2159    14\n",
       "CA1901    13\n",
       "CA2599    13\n",
       "CA2265    12\n",
       "CA464     11\n",
       "CA2618    11\n",
       "CA2285    11\n",
       "CA534     10\n",
       "CA162     10\n",
       "CA2003    10\n",
       "CA2467    10\n",
       "CA2436     9\n",
       "CA2164     9\n",
       "CA2113     9\n",
       "CA2710     9\n",
       "CA1698     8\n",
       "CA412      8\n",
       "CA474      8\n",
       "CA2373     8\n",
       "CA2463     7\n",
       "CA1496     7\n",
       "CA666      7\n",
       "CA1331     6\n",
       "CA2611     6\n",
       "CA1606     6\n",
       "CA957      6\n",
       "CA2037     6\n",
       "CA2437     6\n",
       "CA2538     6\n",
       "CA180      6\n",
       "CA2709     5\n",
       "CA2318     5\n",
       "CA2117     5\n",
       "CA2045     5\n",
       "CA717      5\n",
       "CA2572     5\n",
       "CA1601     4\n",
       "CA2512     4\n",
       "CA1184     4\n",
       "CA2396     4\n",
       "CA2584     4\n",
       "CA571      4\n",
       "CA1057     4\n",
       "CA362      4\n",
       "CA995      4\n",
       "CA1669     4\n",
       "CA2507     4\n",
       "CA2220     4\n",
       "CA1968     3\n",
       "CA840      3\n",
       "CA2585     3\n",
       "CA2192     3\n",
       "CA634      3\n",
       "CA2558     3\n",
       "CA283      3\n",
       "CA2656     3\n",
       "CA1131     3\n",
       "CA2261     3\n",
       "CA2692     3\n",
       "CA2678     3\n",
       "CA2492     2\n",
       "CA2806     2\n",
       "CA2442     2\n",
       "CA2846     2\n",
       "CA1762     2\n",
       "CA1328     2\n",
       "CA2766     2\n",
       "CA2428     2\n",
       "CA2796     2\n",
       "CA2054     2\n",
       "CA1509     2\n",
       "CA1060     2\n",
       "CA444      2\n",
       "CA2403     2\n",
       "CA2434     2\n",
       "CA2521     2\n",
       "CA285      2\n",
       "CA290      2\n",
       "CA2485     2\n",
       "WA526      2\n",
       "CA2517     1\n",
       "CA1781     1\n",
       "CA1584     1\n",
       "CA958      1\n",
       "CA2716     1\n",
       "CA271      1\n",
       "CA2340     1\n",
       "CA1003     1\n",
       "CA2809     1\n",
       "CA874      1\n",
       "CA1676     1\n",
       "CA161      1\n",
       "CA2810     1\n",
       "CA2619     1\n",
       "CA2397     1\n",
       "CA2326     1\n",
       "CA2143     1\n",
       "CA1852     1\n",
       "CA657      1\n",
       "CA1743     1\n",
       "CA1298     1\n",
       "CA2374     1\n",
       "CA2175     1\n",
       "NV160      1\n",
       "CA1826     1\n",
       "CA1437     1\n",
       "CA1877     1\n",
       "CA1528     1\n",
       "Name: organization_id, dtype: int64"
      ]
     },
     "execution_count": 7,
     "metadata": {},
     "output_type": "execute_result"
    }
   ],
   "source": [
    "good.organization_id.value_counts()   #positive misclass"
   ]
  },
  {
   "cell_type": "code",
   "execution_count": 8,
   "metadata": {},
   "outputs": [
    {
     "data": {
      "text/plain": [
       "CA2285    64\n",
       "CA162     55\n",
       "CA2324    42\n",
       "CA1973    40\n",
       "CA1727    36\n",
       "CA2436    36\n",
       "CA1005    33\n",
       "CA2490    31\n",
       "CA271     24\n",
       "CA1968    20\n",
       "CA1826    19\n",
       "CA2452    18\n",
       "CA2143    16\n",
       "CA2646    16\n",
       "CA2045    15\n",
       "CA86      14\n",
       "CA290     14\n",
       "CA781     13\n",
       "CA2614    13\n",
       "CA2159    12\n",
       "CA1698    12\n",
       "CA2572    11\n",
       "CA1775    10\n",
       "CA1496    10\n",
       "CA1123    10\n",
       "CA180     10\n",
       "CA2611    10\n",
       "CA840      9\n",
       "CA2717     9\n",
       "CA2108     9\n",
       "CA39       9\n",
       "CA2434     8\n",
       "CA2437     8\n",
       "CA1726     7\n",
       "CA1437     7\n",
       "CA1509     7\n",
       "CA2619     6\n",
       "CA2164     6\n",
       "CA1598     5\n",
       "CA2265     5\n",
       "CA995      4\n",
       "CA2585     4\n",
       "CA2710     4\n",
       "CA2037     4\n",
       "CA2251     3\n",
       "CA2806     3\n",
       "CA534      3\n",
       "CA2442     3\n",
       "CA2716     3\n",
       "CA1669     3\n",
       "CA2373     3\n",
       "CA2692     3\n",
       "MT59       3\n",
       "CA731      3\n",
       "CA2054     3\n",
       "CA2175     2\n",
       "CA1328     2\n",
       "CA2024     2\n",
       "CA1225     2\n",
       "CA412      2\n",
       "NV160      2\n",
       "CA522      2\n",
       "CA129      2\n",
       "CA444      2\n",
       "CA226      2\n",
       "CA786      2\n",
       "CA2599     2\n",
       "CA714      2\n",
       "CA2403     2\n",
       "CA2678     2\n",
       "CA1309     2\n",
       "CA1298     2\n",
       "CA1601     2\n",
       "CA2766     2\n",
       "CA2113     2\n",
       "CA992      2\n",
       "CA2160     1\n",
       "CA2618     1\n",
       "CA2521     1\n",
       "CA2003     1\n",
       "CA1781     1\n",
       "CA1938     1\n",
       "CA1979     1\n",
       "CA2220     1\n",
       "CA1331     1\n",
       "CA874      1\n",
       "CA474      1\n",
       "CA2280     1\n",
       "CA1676     1\n",
       "CA285      1\n",
       "CA2420     1\n",
       "CA2261     1\n",
       "CA339      1\n",
       "CA1852     1\n",
       "CA2689     1\n",
       "CA957      1\n",
       "CA634      1\n",
       "CA161      1\n",
       "CA2823     1\n",
       "CA2805     1\n",
       "CA1060     1\n",
       "CA1184     1\n",
       "CA1762     1\n",
       "CA2428     1\n",
       "CA2507     1\n",
       "CA1003     1\n",
       "Name: organization_id, dtype: int64"
      ]
     },
     "execution_count": 8,
     "metadata": {},
     "output_type": "execute_result"
    }
   ],
   "source": [
    "bad.organization_id.value_counts()  #bad misclass"
   ]
  },
  {
   "cell_type": "code",
   "execution_count": 9,
   "metadata": {},
   "outputs": [],
   "source": [
    "#result.organization_id.value_counts()   #total"
   ]
  },
  {
   "cell_type": "markdown",
   "metadata": {},
   "source": [
    "#### Overall"
   ]
  },
  {
   "cell_type": "code",
   "execution_count": 10,
   "metadata": {},
   "outputs": [
    {
     "data": {
      "text/plain": [
       "0.44494547691046427"
      ]
     },
     "execution_count": 10,
     "metadata": {},
     "output_type": "execute_result"
    }
   ],
   "source": [
    "dogs['polarity'].mean()"
   ]
  },
  {
   "cell_type": "code",
   "execution_count": 11,
   "metadata": {},
   "outputs": [
    {
     "data": {
      "text/plain": [
       "113.06299010814412"
      ]
     },
     "execution_count": 11,
     "metadata": {},
     "output_type": "execute_result"
    }
   ],
   "source": [
    "dogs['desc_len'].mean()"
   ]
  },
  {
   "cell_type": "code",
   "execution_count": 12,
   "metadata": {},
   "outputs": [
    {
     "data": {
      "text/plain": [
       "0    19101\n",
       "1      410\n",
       "Name: special_needs, dtype: int64"
      ]
     },
     "execution_count": 12,
     "metadata": {},
     "output_type": "execute_result"
    }
   ],
   "source": [
    "dogs['special_needs'].value_counts()"
   ]
  },
  {
   "cell_type": "markdown",
   "metadata": {},
   "source": [
    "#### Top performing shelter - Animal Friends Connection Humane Society in Lodi"
   ]
  },
  {
   "cell_type": "code",
   "execution_count": 13,
   "metadata": {},
   "outputs": [
    {
     "data": {
      "text/plain": [
       "(41, 40)"
      ]
     },
     "execution_count": 13,
     "metadata": {},
     "output_type": "execute_result"
    }
   ],
   "source": [
    "animal_friends_connection = good[good['organization_id'] == 'CA86']\n",
    "animal_friends_connection.shape"
   ]
  },
  {
   "cell_type": "code",
   "execution_count": 14,
   "metadata": {},
   "outputs": [
    {
     "data": {
      "text/plain": [
       "0.6614414634146342"
      ]
     },
     "execution_count": 14,
     "metadata": {},
     "output_type": "execute_result"
    }
   ],
   "source": [
    "animal_friends_connection['polarity'].mean()"
   ]
  },
  {
   "cell_type": "code",
   "execution_count": 15,
   "metadata": {},
   "outputs": [
    {
     "data": {
      "text/plain": [
       "106.07317073170732"
      ]
     },
     "execution_count": 15,
     "metadata": {},
     "output_type": "execute_result"
    }
   ],
   "source": [
    "animal_friends_connection['desc_len'].mean()"
   ]
  },
  {
   "cell_type": "code",
   "execution_count": 16,
   "metadata": {},
   "outputs": [],
   "source": [
    "#animal_friends_connection['age'].value_counts()"
   ]
  },
  {
   "cell_type": "code",
   "execution_count": 17,
   "metadata": {},
   "outputs": [
    {
     "data": {
      "text/plain": [
       "0    40\n",
       "1     1\n",
       "Name: special_needs, dtype: int64"
      ]
     },
     "execution_count": 17,
     "metadata": {},
     "output_type": "execute_result"
    }
   ],
   "source": [
    "animal_friends_connection['special_needs'].value_counts()"
   ]
  },
  {
   "cell_type": "code",
   "execution_count": 18,
   "metadata": {},
   "outputs": [
    {
     "data": {
      "text/plain": [
       "1    34\n",
       "2     7\n",
       "Name: good_with_kids, dtype: int64"
      ]
     },
     "execution_count": 18,
     "metadata": {},
     "output_type": "execute_result"
    }
   ],
   "source": [
    "animal_friends_connection['good_with_kids'].value_counts()"
   ]
  },
  {
   "cell_type": "code",
   "execution_count": 19,
   "metadata": {},
   "outputs": [
    {
     "data": {
      "text/plain": [
       "2    33\n",
       "1     5\n",
       "0     3\n",
       "Name: good_with_cats, dtype: int64"
      ]
     },
     "execution_count": 19,
     "metadata": {},
     "output_type": "execute_result"
    }
   ],
   "source": [
    "animal_friends_connection['good_with_cats'].value_counts()"
   ]
  },
  {
   "cell_type": "code",
   "execution_count": 20,
   "metadata": {},
   "outputs": [
    {
     "data": {
      "text/plain": [
       "1    32\n",
       "0     9\n",
       "Name: house_trained, dtype: int64"
      ]
     },
     "execution_count": 20,
     "metadata": {},
     "output_type": "execute_result"
    }
   ],
   "source": [
    "animal_friends_connection['house_trained'].value_counts()"
   ]
  },
  {
   "cell_type": "markdown",
   "metadata": {},
   "source": [
    "#### Worst Performing Shelter - Underdog Animal Rescue in Lafayette"
   ]
  },
  {
   "cell_type": "code",
   "execution_count": 21,
   "metadata": {},
   "outputs": [
    {
     "data": {
      "text/plain": [
       "(64, 40)"
      ]
     },
     "execution_count": 21,
     "metadata": {},
     "output_type": "execute_result"
    }
   ],
   "source": [
    "underdog = bad[bad['organization_id'] == 'CA2285']\n",
    "underdog.shape"
   ]
  },
  {
   "cell_type": "code",
   "execution_count": 22,
   "metadata": {},
   "outputs": [
    {
     "data": {
      "text/plain": [
       "0.2854234375"
      ]
     },
     "execution_count": 22,
     "metadata": {},
     "output_type": "execute_result"
    }
   ],
   "source": [
    "underdog['polarity'].mean()"
   ]
  },
  {
   "cell_type": "code",
   "execution_count": 23,
   "metadata": {},
   "outputs": [
    {
     "data": {
      "text/plain": [
       "106.0625"
      ]
     },
     "execution_count": 23,
     "metadata": {},
     "output_type": "execute_result"
    }
   ],
   "source": [
    "underdog['desc_len'].mean()"
   ]
  },
  {
   "cell_type": "code",
   "execution_count": 24,
   "metadata": {},
   "outputs": [],
   "source": [
    "#underdog['age'].value_counts()"
   ]
  },
  {
   "cell_type": "code",
   "execution_count": 25,
   "metadata": {},
   "outputs": [
    {
     "data": {
      "text/plain": [
       "0    62\n",
       "1     2\n",
       "Name: special_needs, dtype: int64"
      ]
     },
     "execution_count": 25,
     "metadata": {},
     "output_type": "execute_result"
    }
   ],
   "source": [
    "underdog['special_needs'].value_counts()"
   ]
  },
  {
   "cell_type": "code",
   "execution_count": 26,
   "metadata": {},
   "outputs": [
    {
     "data": {
      "text/plain": [
       "1    59\n",
       "2     3\n",
       "0     2\n",
       "Name: good_with_kids, dtype: int64"
      ]
     },
     "execution_count": 26,
     "metadata": {},
     "output_type": "execute_result"
    }
   ],
   "source": [
    "underdog['good_with_kids'].value_counts()"
   ]
  },
  {
   "cell_type": "code",
   "execution_count": 27,
   "metadata": {},
   "outputs": [
    {
     "data": {
      "text/plain": [
       "1    34\n",
       "2    28\n",
       "0     2\n",
       "Name: good_with_cats, dtype: int64"
      ]
     },
     "execution_count": 27,
     "metadata": {},
     "output_type": "execute_result"
    }
   ],
   "source": [
    "underdog['good_with_cats'].value_counts()"
   ]
  },
  {
   "cell_type": "markdown",
   "metadata": {},
   "source": [
    "#### Background info to confirm with Tableau"
   ]
  },
  {
   "cell_type": "code",
   "execution_count": 28,
   "metadata": {},
   "outputs": [
    {
     "ename": "KeyError",
     "evalue": "'County'",
     "output_type": "error",
     "traceback": [
      "\u001b[0;31m---------------------------------------------------------------------------\u001b[0m",
      "\u001b[0;31mKeyError\u001b[0m                                  Traceback (most recent call last)",
      "\u001b[0;32m<ipython-input-28-8982b9252355>\u001b[0m in \u001b[0;36m<module>\u001b[0;34m\u001b[0m\n\u001b[0;32m----> 1\u001b[0;31m \u001b[0mavg_days_on_pf\u001b[0m \u001b[0;34m=\u001b[0m \u001b[0mdogs\u001b[0m\u001b[0;34m.\u001b[0m\u001b[0mgroupby\u001b[0m\u001b[0;34m(\u001b[0m\u001b[0;34m\"County\"\u001b[0m\u001b[0;34m)\u001b[0m\u001b[0;34m[\u001b[0m\u001b[0;34m\"days_on_petfinder\"\u001b[0m\u001b[0;34m]\u001b[0m\u001b[0;34m.\u001b[0m\u001b[0mmean\u001b[0m\u001b[0;34m(\u001b[0m\u001b[0;34m)\u001b[0m\u001b[0;34m\u001b[0m\u001b[0;34m\u001b[0m\u001b[0m\n\u001b[0m\u001b[1;32m      2\u001b[0m \u001b[0mavg_days_on_pf\u001b[0m\u001b[0;34m.\u001b[0m\u001b[0mhead\u001b[0m\u001b[0;34m(\u001b[0m\u001b[0;36m30\u001b[0m\u001b[0;34m)\u001b[0m\u001b[0;34m\u001b[0m\u001b[0;34m\u001b[0m\u001b[0m\n",
      "\u001b[0;32m~/opt/anaconda3/lib/python3.8/site-packages/pandas/core/frame.py\u001b[0m in \u001b[0;36mgroupby\u001b[0;34m(self, by, axis, level, as_index, sort, group_keys, squeeze, observed, dropna)\u001b[0m\n\u001b[1;32m   6513\u001b[0m         \u001b[0maxis\u001b[0m \u001b[0;34m=\u001b[0m \u001b[0mself\u001b[0m\u001b[0;34m.\u001b[0m\u001b[0m_get_axis_number\u001b[0m\u001b[0;34m(\u001b[0m\u001b[0maxis\u001b[0m\u001b[0;34m)\u001b[0m\u001b[0;34m\u001b[0m\u001b[0;34m\u001b[0m\u001b[0m\n\u001b[1;32m   6514\u001b[0m \u001b[0;34m\u001b[0m\u001b[0m\n\u001b[0;32m-> 6515\u001b[0;31m         return DataFrameGroupBy(\n\u001b[0m\u001b[1;32m   6516\u001b[0m             \u001b[0mobj\u001b[0m\u001b[0;34m=\u001b[0m\u001b[0mself\u001b[0m\u001b[0;34m,\u001b[0m\u001b[0;34m\u001b[0m\u001b[0;34m\u001b[0m\u001b[0m\n\u001b[1;32m   6517\u001b[0m             \u001b[0mkeys\u001b[0m\u001b[0;34m=\u001b[0m\u001b[0mby\u001b[0m\u001b[0;34m,\u001b[0m\u001b[0;34m\u001b[0m\u001b[0;34m\u001b[0m\u001b[0m\n",
      "\u001b[0;32m~/opt/anaconda3/lib/python3.8/site-packages/pandas/core/groupby/groupby.py\u001b[0m in \u001b[0;36m__init__\u001b[0;34m(self, obj, keys, axis, level, grouper, exclusions, selection, as_index, sort, group_keys, squeeze, observed, mutated, dropna)\u001b[0m\n\u001b[1;32m    523\u001b[0m             \u001b[0;32mfrom\u001b[0m \u001b[0mpandas\u001b[0m\u001b[0;34m.\u001b[0m\u001b[0mcore\u001b[0m\u001b[0;34m.\u001b[0m\u001b[0mgroupby\u001b[0m\u001b[0;34m.\u001b[0m\u001b[0mgrouper\u001b[0m \u001b[0;32mimport\u001b[0m \u001b[0mget_grouper\u001b[0m\u001b[0;34m\u001b[0m\u001b[0;34m\u001b[0m\u001b[0m\n\u001b[1;32m    524\u001b[0m \u001b[0;34m\u001b[0m\u001b[0m\n\u001b[0;32m--> 525\u001b[0;31m             grouper, exclusions, obj = get_grouper(\n\u001b[0m\u001b[1;32m    526\u001b[0m                 \u001b[0mobj\u001b[0m\u001b[0;34m,\u001b[0m\u001b[0;34m\u001b[0m\u001b[0;34m\u001b[0m\u001b[0m\n\u001b[1;32m    527\u001b[0m                 \u001b[0mkeys\u001b[0m\u001b[0;34m,\u001b[0m\u001b[0;34m\u001b[0m\u001b[0;34m\u001b[0m\u001b[0m\n",
      "\u001b[0;32m~/opt/anaconda3/lib/python3.8/site-packages/pandas/core/groupby/grouper.py\u001b[0m in \u001b[0;36mget_grouper\u001b[0;34m(obj, key, axis, level, sort, observed, mutated, validate, dropna)\u001b[0m\n\u001b[1;32m    784\u001b[0m                 \u001b[0min_axis\u001b[0m\u001b[0;34m,\u001b[0m \u001b[0mname\u001b[0m\u001b[0;34m,\u001b[0m \u001b[0mlevel\u001b[0m\u001b[0;34m,\u001b[0m \u001b[0mgpr\u001b[0m \u001b[0;34m=\u001b[0m \u001b[0;32mFalse\u001b[0m\u001b[0;34m,\u001b[0m \u001b[0;32mNone\u001b[0m\u001b[0;34m,\u001b[0m \u001b[0mgpr\u001b[0m\u001b[0;34m,\u001b[0m \u001b[0;32mNone\u001b[0m\u001b[0;34m\u001b[0m\u001b[0;34m\u001b[0m\u001b[0m\n\u001b[1;32m    785\u001b[0m             \u001b[0;32melse\u001b[0m\u001b[0;34m:\u001b[0m\u001b[0;34m\u001b[0m\u001b[0;34m\u001b[0m\u001b[0m\n\u001b[0;32m--> 786\u001b[0;31m                 \u001b[0;32mraise\u001b[0m \u001b[0mKeyError\u001b[0m\u001b[0;34m(\u001b[0m\u001b[0mgpr\u001b[0m\u001b[0;34m)\u001b[0m\u001b[0;34m\u001b[0m\u001b[0;34m\u001b[0m\u001b[0m\n\u001b[0m\u001b[1;32m    787\u001b[0m         \u001b[0;32melif\u001b[0m \u001b[0misinstance\u001b[0m\u001b[0;34m(\u001b[0m\u001b[0mgpr\u001b[0m\u001b[0;34m,\u001b[0m \u001b[0mGrouper\u001b[0m\u001b[0;34m)\u001b[0m \u001b[0;32mand\u001b[0m \u001b[0mgpr\u001b[0m\u001b[0;34m.\u001b[0m\u001b[0mkey\u001b[0m \u001b[0;32mis\u001b[0m \u001b[0;32mnot\u001b[0m \u001b[0;32mNone\u001b[0m\u001b[0;34m:\u001b[0m\u001b[0;34m\u001b[0m\u001b[0;34m\u001b[0m\u001b[0m\n\u001b[1;32m    788\u001b[0m             \u001b[0;31m# Add key to exclusions\u001b[0m\u001b[0;34m\u001b[0m\u001b[0;34m\u001b[0m\u001b[0;34m\u001b[0m\u001b[0m\n",
      "\u001b[0;31mKeyError\u001b[0m: 'County'"
     ]
    }
   ],
   "source": [
    "avg_days_on_pf = dogs.groupby(\"County\")[\"days_on_petfinder\"].mean()\n",
    "avg_days_on_pf.head(30)"
   ]
  },
  {
   "cell_type": "code",
   "execution_count": null,
   "metadata": {},
   "outputs": [],
   "source": [
    "numdogs_by_county = dogs.groupby(\"County\")[\"days_on_petfinder\"].count()\n",
    "numdogs_by_county.head(30)"
   ]
  },
  {
   "cell_type": "markdown",
   "metadata": {},
   "source": [
    "EDA - supporting Tableau"
   ]
  },
  {
   "cell_type": "code",
   "execution_count": null,
   "metadata": {},
   "outputs": [],
   "source": [
    "dogs.house_trained.value_counts()"
   ]
  },
  {
   "cell_type": "code",
   "execution_count": null,
   "metadata": {},
   "outputs": [],
   "source": [
    "housetrained_by_county = dogs.groupby(\"County\")[\"fixed\"].count()\n",
    "housetrained_by_county.head(60)"
   ]
  },
  {
   "cell_type": "code",
   "execution_count": null,
   "metadata": {},
   "outputs": [],
   "source": [
    "dogs.County.value_counts()"
   ]
  },
  {
   "cell_type": "code",
   "execution_count": null,
   "metadata": {},
   "outputs": [],
   "source": []
  }
 ],
 "metadata": {
  "kernelspec": {
   "display_name": "Python 3",
   "language": "python",
   "name": "python3"
  },
  "language_info": {
   "codemirror_mode": {
    "name": "ipython",
    "version": 3
   },
   "file_extension": ".py",
   "mimetype": "text/x-python",
   "name": "python",
   "nbconvert_exporter": "python",
   "pygments_lexer": "ipython3",
   "version": "3.8.5"
  }
 },
 "nbformat": 4,
 "nbformat_minor": 4
}

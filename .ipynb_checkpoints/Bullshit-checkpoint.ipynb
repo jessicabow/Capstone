{
 "cells": [
  {
   "cell_type": "markdown",
   "metadata": {},
   "source": [
    "  ![ImdbIcon](images/pets.jpg)\n",
    "# Petfinder \n"
   ]
  },
  {
   "cell_type": "markdown",
   "metadata": {},
   "source": [
    "## 1. Imports and Data Cleaning ##"
   ]
  },
  {
   "cell_type": "code",
   "execution_count": 1,
   "metadata": {},
   "outputs": [],
   "source": [
    "import pandas as pd\n",
    "import numpy as np\n",
    "import matplotlib.pyplot as plt\n",
    "import seaborn as sns\n",
    "\n",
    "from sklearn.feature_extraction.text import CountVectorizer, TfidfVectorizer\n",
    "from sklearn.feature_extraction import text"
   ]
  },
  {
   "cell_type": "code",
   "execution_count": 2,
   "metadata": {},
   "outputs": [],
   "source": [
    "df = pd.read_csv('./petfinder_data/train.csv')"
   ]
  },
  {
   "cell_type": "code",
   "execution_count": 4,
   "metadata": {},
   "outputs": [
    {
     "data": {
      "text/html": [
       "<div>\n",
       "<style scoped>\n",
       "    .dataframe tbody tr th:only-of-type {\n",
       "        vertical-align: middle;\n",
       "    }\n",
       "\n",
       "    .dataframe tbody tr th {\n",
       "        vertical-align: top;\n",
       "    }\n",
       "\n",
       "    .dataframe thead th {\n",
       "        text-align: right;\n",
       "    }\n",
       "</style>\n",
       "<table border=\"1\" class=\"dataframe\">\n",
       "  <thead>\n",
       "    <tr style=\"text-align: right;\">\n",
       "      <th></th>\n",
       "      <th>Type</th>\n",
       "      <th>Name</th>\n",
       "      <th>Age</th>\n",
       "      <th>Breed1</th>\n",
       "      <th>Breed2</th>\n",
       "      <th>Gender</th>\n",
       "      <th>Color1</th>\n",
       "      <th>Color2</th>\n",
       "      <th>Color3</th>\n",
       "      <th>MaturitySize</th>\n",
       "      <th>...</th>\n",
       "      <th>Health</th>\n",
       "      <th>Quantity</th>\n",
       "      <th>Fee</th>\n",
       "      <th>State</th>\n",
       "      <th>RescuerID</th>\n",
       "      <th>VideoAmt</th>\n",
       "      <th>Description</th>\n",
       "      <th>PetID</th>\n",
       "      <th>PhotoAmt</th>\n",
       "      <th>AdoptionSpeed</th>\n",
       "    </tr>\n",
       "  </thead>\n",
       "  <tbody>\n",
       "    <tr>\n",
       "      <th>0</th>\n",
       "      <td>2</td>\n",
       "      <td>Nibble</td>\n",
       "      <td>3</td>\n",
       "      <td>299</td>\n",
       "      <td>0</td>\n",
       "      <td>1</td>\n",
       "      <td>1</td>\n",
       "      <td>7</td>\n",
       "      <td>0</td>\n",
       "      <td>1</td>\n",
       "      <td>...</td>\n",
       "      <td>1</td>\n",
       "      <td>1</td>\n",
       "      <td>100</td>\n",
       "      <td>41326</td>\n",
       "      <td>8480853f516546f6cf33aa88cd76c379</td>\n",
       "      <td>0</td>\n",
       "      <td>Nibble is a 3+ month old ball of cuteness. He ...</td>\n",
       "      <td>86e1089a3</td>\n",
       "      <td>1.0</td>\n",
       "      <td>2</td>\n",
       "    </tr>\n",
       "    <tr>\n",
       "      <th>1</th>\n",
       "      <td>2</td>\n",
       "      <td>No Name Yet</td>\n",
       "      <td>1</td>\n",
       "      <td>265</td>\n",
       "      <td>0</td>\n",
       "      <td>1</td>\n",
       "      <td>1</td>\n",
       "      <td>2</td>\n",
       "      <td>0</td>\n",
       "      <td>2</td>\n",
       "      <td>...</td>\n",
       "      <td>1</td>\n",
       "      <td>1</td>\n",
       "      <td>0</td>\n",
       "      <td>41401</td>\n",
       "      <td>3082c7125d8fb66f7dd4bff4192c8b14</td>\n",
       "      <td>0</td>\n",
       "      <td>I just found it alone yesterday near my apartm...</td>\n",
       "      <td>6296e909a</td>\n",
       "      <td>2.0</td>\n",
       "      <td>0</td>\n",
       "    </tr>\n",
       "    <tr>\n",
       "      <th>2</th>\n",
       "      <td>1</td>\n",
       "      <td>Brisco</td>\n",
       "      <td>1</td>\n",
       "      <td>307</td>\n",
       "      <td>0</td>\n",
       "      <td>1</td>\n",
       "      <td>2</td>\n",
       "      <td>7</td>\n",
       "      <td>0</td>\n",
       "      <td>2</td>\n",
       "      <td>...</td>\n",
       "      <td>1</td>\n",
       "      <td>1</td>\n",
       "      <td>0</td>\n",
       "      <td>41326</td>\n",
       "      <td>fa90fa5b1ee11c86938398b60abc32cb</td>\n",
       "      <td>0</td>\n",
       "      <td>Their pregnant mother was dumped by her irresp...</td>\n",
       "      <td>3422e4906</td>\n",
       "      <td>7.0</td>\n",
       "      <td>3</td>\n",
       "    </tr>\n",
       "    <tr>\n",
       "      <th>3</th>\n",
       "      <td>1</td>\n",
       "      <td>Miko</td>\n",
       "      <td>4</td>\n",
       "      <td>307</td>\n",
       "      <td>0</td>\n",
       "      <td>2</td>\n",
       "      <td>1</td>\n",
       "      <td>2</td>\n",
       "      <td>0</td>\n",
       "      <td>2</td>\n",
       "      <td>...</td>\n",
       "      <td>1</td>\n",
       "      <td>1</td>\n",
       "      <td>150</td>\n",
       "      <td>41401</td>\n",
       "      <td>9238e4f44c71a75282e62f7136c6b240</td>\n",
       "      <td>0</td>\n",
       "      <td>Good guard dog, very alert, active, obedience ...</td>\n",
       "      <td>5842f1ff5</td>\n",
       "      <td>8.0</td>\n",
       "      <td>2</td>\n",
       "    </tr>\n",
       "    <tr>\n",
       "      <th>4</th>\n",
       "      <td>1</td>\n",
       "      <td>Hunter</td>\n",
       "      <td>1</td>\n",
       "      <td>307</td>\n",
       "      <td>0</td>\n",
       "      <td>1</td>\n",
       "      <td>1</td>\n",
       "      <td>0</td>\n",
       "      <td>0</td>\n",
       "      <td>2</td>\n",
       "      <td>...</td>\n",
       "      <td>1</td>\n",
       "      <td>1</td>\n",
       "      <td>0</td>\n",
       "      <td>41326</td>\n",
       "      <td>95481e953f8aed9ec3d16fc4509537e8</td>\n",
       "      <td>0</td>\n",
       "      <td>This handsome yet cute boy is up for adoption....</td>\n",
       "      <td>850a43f90</td>\n",
       "      <td>3.0</td>\n",
       "      <td>2</td>\n",
       "    </tr>\n",
       "  </tbody>\n",
       "</table>\n",
       "<p>5 rows × 24 columns</p>\n",
       "</div>"
      ],
      "text/plain": [
       "   Type         Name  Age  Breed1  Breed2  Gender  Color1  Color2  Color3  \\\n",
       "0     2       Nibble    3     299       0       1       1       7       0   \n",
       "1     2  No Name Yet    1     265       0       1       1       2       0   \n",
       "2     1       Brisco    1     307       0       1       2       7       0   \n",
       "3     1         Miko    4     307       0       2       1       2       0   \n",
       "4     1       Hunter    1     307       0       1       1       0       0   \n",
       "\n",
       "   MaturitySize  ...  Health  Quantity  Fee  State  \\\n",
       "0             1  ...       1         1  100  41326   \n",
       "1             2  ...       1         1    0  41401   \n",
       "2             2  ...       1         1    0  41326   \n",
       "3             2  ...       1         1  150  41401   \n",
       "4             2  ...       1         1    0  41326   \n",
       "\n",
       "                          RescuerID  VideoAmt  \\\n",
       "0  8480853f516546f6cf33aa88cd76c379         0   \n",
       "1  3082c7125d8fb66f7dd4bff4192c8b14         0   \n",
       "2  fa90fa5b1ee11c86938398b60abc32cb         0   \n",
       "3  9238e4f44c71a75282e62f7136c6b240         0   \n",
       "4  95481e953f8aed9ec3d16fc4509537e8         0   \n",
       "\n",
       "                                         Description      PetID PhotoAmt  \\\n",
       "0  Nibble is a 3+ month old ball of cuteness. He ...  86e1089a3      1.0   \n",
       "1  I just found it alone yesterday near my apartm...  6296e909a      2.0   \n",
       "2  Their pregnant mother was dumped by her irresp...  3422e4906      7.0   \n",
       "3  Good guard dog, very alert, active, obedience ...  5842f1ff5      8.0   \n",
       "4  This handsome yet cute boy is up for adoption....  850a43f90      3.0   \n",
       "\n",
       "   AdoptionSpeed  \n",
       "0              2  \n",
       "1              0  \n",
       "2              3  \n",
       "3              2  \n",
       "4              2  \n",
       "\n",
       "[5 rows x 24 columns]"
      ]
     },
     "execution_count": 4,
     "metadata": {},
     "output_type": "execute_result"
    }
   ],
   "source": [
    "df.head()"
   ]
  },
  {
   "cell_type": "code",
   "execution_count": 5,
   "metadata": {},
   "outputs": [
    {
     "data": {
      "text/plain": [
       "(14993, 24)"
      ]
     },
     "execution_count": 5,
     "metadata": {},
     "output_type": "execute_result"
    }
   ],
   "source": [
    "df.shape"
   ]
  },
  {
   "cell_type": "code",
   "execution_count": 6,
   "metadata": {},
   "outputs": [
    {
     "data": {
      "text/plain": [
       "Type                0\n",
       "Name             1257\n",
       "Age                 0\n",
       "Breed1              0\n",
       "Breed2              0\n",
       "Gender              0\n",
       "Color1              0\n",
       "Color2              0\n",
       "Color3              0\n",
       "MaturitySize        0\n",
       "FurLength           0\n",
       "Vaccinated          0\n",
       "Dewormed            0\n",
       "Sterilized          0\n",
       "Health              0\n",
       "Quantity            0\n",
       "Fee                 0\n",
       "State               0\n",
       "RescuerID           0\n",
       "VideoAmt            0\n",
       "Description        12\n",
       "PetID               0\n",
       "PhotoAmt            0\n",
       "AdoptionSpeed       0\n",
       "dtype: int64"
      ]
     },
     "execution_count": 6,
     "metadata": {},
     "output_type": "execute_result"
    }
   ],
   "source": [
    "df.isnull().sum()"
   ]
  },
  {
   "cell_type": "code",
   "execution_count": 7,
   "metadata": {},
   "outputs": [
    {
     "name": "stdout",
     "output_type": "stream",
     "text": [
      "<class 'pandas.core.frame.DataFrame'>\n",
      "RangeIndex: 14993 entries, 0 to 14992\n",
      "Data columns (total 24 columns):\n",
      " #   Column         Non-Null Count  Dtype  \n",
      "---  ------         --------------  -----  \n",
      " 0   Type           14993 non-null  int64  \n",
      " 1   Name           13736 non-null  object \n",
      " 2   Age            14993 non-null  int64  \n",
      " 3   Breed1         14993 non-null  int64  \n",
      " 4   Breed2         14993 non-null  int64  \n",
      " 5   Gender         14993 non-null  int64  \n",
      " 6   Color1         14993 non-null  int64  \n",
      " 7   Color2         14993 non-null  int64  \n",
      " 8   Color3         14993 non-null  int64  \n",
      " 9   MaturitySize   14993 non-null  int64  \n",
      " 10  FurLength      14993 non-null  int64  \n",
      " 11  Vaccinated     14993 non-null  int64  \n",
      " 12  Dewormed       14993 non-null  int64  \n",
      " 13  Sterilized     14993 non-null  int64  \n",
      " 14  Health         14993 non-null  int64  \n",
      " 15  Quantity       14993 non-null  int64  \n",
      " 16  Fee            14993 non-null  int64  \n",
      " 17  State          14993 non-null  int64  \n",
      " 18  RescuerID      14993 non-null  object \n",
      " 19  VideoAmt       14993 non-null  int64  \n",
      " 20  Description    14981 non-null  object \n",
      " 21  PetID          14993 non-null  object \n",
      " 22  PhotoAmt       14993 non-null  float64\n",
      " 23  AdoptionSpeed  14993 non-null  int64  \n",
      "dtypes: float64(1), int64(19), object(4)\n",
      "memory usage: 2.7+ MB\n"
     ]
    }
   ],
   "source": [
    "df.info()"
   ]
  },
  {
   "cell_type": "code",
   "execution_count": 8,
   "metadata": {},
   "outputs": [],
   "source": [
    "#df = df.drop(columns=['Name', 'RescuerID', 'Description'])\n",
    "#df.head()"
   ]
  },
  {
   "cell_type": "code",
   "execution_count": null,
   "metadata": {},
   "outputs": [],
   "source": []
  },
  {
   "cell_type": "markdown",
   "metadata": {},
   "source": [
    "### - Filtering dataframe to only contain single animal posts: Loss of 3,428 (22%) of original data ###"
   ]
  },
  {
   "cell_type": "code",
   "execution_count": 9,
   "metadata": {},
   "outputs": [
    {
     "data": {
      "text/plain": [
       "(14993, 24)"
      ]
     },
     "execution_count": 9,
     "metadata": {},
     "output_type": "execute_result"
    }
   ],
   "source": [
    "#df = df[df['Quantity'] == 1]\n",
    "df.shape"
   ]
  },
  {
   "cell_type": "markdown",
   "metadata": {},
   "source": [
    "---------------------\n",
    "# Outlier Exploration"
   ]
  },
  {
   "cell_type": "code",
   "execution_count": 10,
   "metadata": {},
   "outputs": [
    {
     "data": {
      "image/png": "[encoded data removed]",
      "text/plain": [
       "<Figure size 1080x720 with 1 Axes>"
      ]
     },
     "metadata": {
      "needs_background": "light"
     },
     "output_type": "display_data"
    }
   ],
   "source": [
    "plt.figure(figsize=(15, 10));\n",
    "\n",
    "sns.scatterplot(data = df, x='Quantity', y='AdoptionSpeed')\n",
    "\n",
    "plt.xticks(np.arange(21));"
   ]
  },
  {
   "cell_type": "code",
   "execution_count": 19,
   "metadata": {},
   "outputs": [
    {
     "data": {
      "text/plain": [
       "(14, 24)"
      ]
     },
     "execution_count": 19,
     "metadata": {},
     "output_type": "execute_result"
    }
   ],
   "source": [
    "outlierless.shape"
   ]
  },
  {
   "cell_type": "code",
   "execution_count": 18,
   "metadata": {},
   "outputs": [
    {
     "data": {
      "text/plain": [
       "5d9d6838cb00440c65d0475ccc464aa1    2\n",
       "7ebb7aa608188f26f2c6fc55f53b586b    2\n",
       "ea14ca9dca5f06e8b72c9ff6b11afdc3    1\n",
       "cb076d8ab7ea64284bfb0edbabd10f24    1\n",
       "561c42b6c0f1ec28fba5781efe78d5c7    1\n",
       "fd03fd9f89f386348188724b5a57d5c2    1\n",
       "45a37134dca131caaecd98957eb3d123    1\n",
       "3b074cadd2350de62dca7056b9bab6f4    1\n",
       "5aca30a29e8290093fee2a334d65d835    1\n",
       "fb3fd0f0da708b3150edffc4c6873cd7    1\n",
       "fa90fa5b1ee11c86938398b60abc32cb    1\n",
       "1cc4a20139774a4277e2298c998bea9b    1\n",
       "Name: RescuerID, dtype: int64"
      ]
     },
     "execution_count": 18,
     "metadata": {},
     "output_type": "execute_result"
    }
   ],
   "source": [
    "outlierless.RescuerID.value_counts()"
   ]
  },
  {
   "cell_type": "code",
   "execution_count": 12,
   "metadata": {},
   "outputs": [],
   "source": [
    "outlierless = df[(df['AdoptionSpeed'] < 3) & (df['Quantity'] > 10)] "
   ]
  },
  {
   "cell_type": "code",
   "execution_count": 13,
   "metadata": {},
   "outputs": [
    {
     "data": {
      "text/html": [
       "<div>\n",
       "<style scoped>\n",
       "    .dataframe tbody tr th:only-of-type {\n",
       "        vertical-align: middle;\n",
       "    }\n",
       "\n",
       "    .dataframe tbody tr th {\n",
       "        vertical-align: top;\n",
       "    }\n",
       "\n",
       "    .dataframe thead th {\n",
       "        text-align: right;\n",
       "    }\n",
       "</style>\n",
       "<table border=\"1\" class=\"dataframe\">\n",
       "  <thead>\n",
       "    <tr style=\"text-align: right;\">\n",
       "      <th></th>\n",
       "      <th>Type</th>\n",
       "      <th>Name</th>\n",
       "      <th>Age</th>\n",
       "      <th>Breed1</th>\n",
       "      <th>Breed2</th>\n",
       "      <th>Gender</th>\n",
       "      <th>Color1</th>\n",
       "      <th>Color2</th>\n",
       "      <th>Color3</th>\n",
       "      <th>MaturitySize</th>\n",
       "      <th>...</th>\n",
       "      <th>Health</th>\n",
       "      <th>Quantity</th>\n",
       "      <th>Fee</th>\n",
       "      <th>State</th>\n",
       "      <th>RescuerID</th>\n",
       "      <th>VideoAmt</th>\n",
       "      <th>Description</th>\n",
       "      <th>PetID</th>\n",
       "      <th>PhotoAmt</th>\n",
       "      <th>AdoptionSpeed</th>\n",
       "    </tr>\n",
       "  </thead>\n",
       "  <tbody>\n",
       "    <tr>\n",
       "      <th>396</th>\n",
       "      <td>1</td>\n",
       "      <td>Giant, Cookie &amp; Snoopy. ! Thanks!</td>\n",
       "      <td>1</td>\n",
       "      <td>307</td>\n",
       "      <td>0</td>\n",
       "      <td>3</td>\n",
       "      <td>1</td>\n",
       "      <td>2</td>\n",
       "      <td>7</td>\n",
       "      <td>3</td>\n",
       "      <td>...</td>\n",
       "      <td>1</td>\n",
       "      <td>12</td>\n",
       "      <td>0</td>\n",
       "      <td>41326</td>\n",
       "      <td>cb076d8ab7ea64284bfb0edbabd10f24</td>\n",
       "      <td>0</td>\n",
       "      <td>puppies for adoption. Rescued by some good sam...</td>\n",
       "      <td>b912b1114</td>\n",
       "      <td>5.0</td>\n",
       "      <td>2</td>\n",
       "    </tr>\n",
       "    <tr>\n",
       "      <th>823</th>\n",
       "      <td>2</td>\n",
       "      <td>Pancho &amp; Tita</td>\n",
       "      <td>3</td>\n",
       "      <td>266</td>\n",
       "      <td>0</td>\n",
       "      <td>2</td>\n",
       "      <td>1</td>\n",
       "      <td>7</td>\n",
       "      <td>0</td>\n",
       "      <td>2</td>\n",
       "      <td>...</td>\n",
       "      <td>1</td>\n",
       "      <td>12</td>\n",
       "      <td>0</td>\n",
       "      <td>41326</td>\n",
       "      <td>fd03fd9f89f386348188724b5a57d5c2</td>\n",
       "      <td>0</td>\n",
       "      <td>Pancho and Tita are 2 adorable, playful kitten...</td>\n",
       "      <td>7acaea66e</td>\n",
       "      <td>4.0</td>\n",
       "      <td>2</td>\n",
       "    </tr>\n",
       "    <tr>\n",
       "      <th>1088</th>\n",
       "      <td>1</td>\n",
       "      <td>Puppy Super Mix</td>\n",
       "      <td>2</td>\n",
       "      <td>307</td>\n",
       "      <td>0</td>\n",
       "      <td>3</td>\n",
       "      <td>1</td>\n",
       "      <td>7</td>\n",
       "      <td>0</td>\n",
       "      <td>2</td>\n",
       "      <td>...</td>\n",
       "      <td>1</td>\n",
       "      <td>11</td>\n",
       "      <td>0</td>\n",
       "      <td>41326</td>\n",
       "      <td>561c42b6c0f1ec28fba5781efe78d5c7</td>\n",
       "      <td>0</td>\n",
       "      <td>A female mix breed appear around my home few m...</td>\n",
       "      <td>76358e754</td>\n",
       "      <td>8.0</td>\n",
       "      <td>2</td>\n",
       "    </tr>\n",
       "    <tr>\n",
       "      <th>1377</th>\n",
       "      <td>1</td>\n",
       "      <td>NaN</td>\n",
       "      <td>1</td>\n",
       "      <td>307</td>\n",
       "      <td>0</td>\n",
       "      <td>3</td>\n",
       "      <td>1</td>\n",
       "      <td>2</td>\n",
       "      <td>7</td>\n",
       "      <td>2</td>\n",
       "      <td>...</td>\n",
       "      <td>1</td>\n",
       "      <td>11</td>\n",
       "      <td>0</td>\n",
       "      <td>41336</td>\n",
       "      <td>5d9d6838cb00440c65d0475ccc464aa1</td>\n",
       "      <td>0</td>\n",
       "      <td>Help to adopt this dogs. They are by road side</td>\n",
       "      <td>b03c17502</td>\n",
       "      <td>1.0</td>\n",
       "      <td>2</td>\n",
       "    </tr>\n",
       "    <tr>\n",
       "      <th>1404</th>\n",
       "      <td>1</td>\n",
       "      <td>NaN</td>\n",
       "      <td>1</td>\n",
       "      <td>307</td>\n",
       "      <td>0</td>\n",
       "      <td>3</td>\n",
       "      <td>1</td>\n",
       "      <td>2</td>\n",
       "      <td>4</td>\n",
       "      <td>1</td>\n",
       "      <td>...</td>\n",
       "      <td>1</td>\n",
       "      <td>17</td>\n",
       "      <td>0</td>\n",
       "      <td>41326</td>\n",
       "      <td>7ebb7aa608188f26f2c6fc55f53b586b</td>\n",
       "      <td>0</td>\n",
       "      <td>I had uploaded the pups' group photos earlier....</td>\n",
       "      <td>0c2e0fc7d</td>\n",
       "      <td>3.0</td>\n",
       "      <td>2</td>\n",
       "    </tr>\n",
       "    <tr>\n",
       "      <th>1659</th>\n",
       "      <td>2</td>\n",
       "      <td>Cats From TTDI Now In Omiey's Home</td>\n",
       "      <td>12</td>\n",
       "      <td>266</td>\n",
       "      <td>265</td>\n",
       "      <td>3</td>\n",
       "      <td>5</td>\n",
       "      <td>6</td>\n",
       "      <td>7</td>\n",
       "      <td>2</td>\n",
       "      <td>...</td>\n",
       "      <td>1</td>\n",
       "      <td>20</td>\n",
       "      <td>0</td>\n",
       "      <td>41326</td>\n",
       "      <td>5aca30a29e8290093fee2a334d65d835</td>\n",
       "      <td>0</td>\n",
       "      <td>Hi feline lovers, There are 40 cats desperatel...</td>\n",
       "      <td>35a6a9ef4</td>\n",
       "      <td>0.0</td>\n",
       "      <td>2</td>\n",
       "    </tr>\n",
       "    <tr>\n",
       "      <th>2558</th>\n",
       "      <td>1</td>\n",
       "      <td>( 0 Puppies Left  )14+2 Puppies</td>\n",
       "      <td>2</td>\n",
       "      <td>307</td>\n",
       "      <td>307</td>\n",
       "      <td>3</td>\n",
       "      <td>2</td>\n",
       "      <td>0</td>\n",
       "      <td>0</td>\n",
       "      <td>2</td>\n",
       "      <td>...</td>\n",
       "      <td>1</td>\n",
       "      <td>16</td>\n",
       "      <td>0</td>\n",
       "      <td>41326</td>\n",
       "      <td>3b074cadd2350de62dca7056b9bab6f4</td>\n",
       "      <td>0</td>\n",
       "      <td>They are 2 stray mother dogs gave birth 14 pup...</td>\n",
       "      <td>acb614bba</td>\n",
       "      <td>30.0</td>\n",
       "      <td>2</td>\n",
       "    </tr>\n",
       "    <tr>\n",
       "      <th>2787</th>\n",
       "      <td>1</td>\n",
       "      <td>Puppies For Adoption</td>\n",
       "      <td>2</td>\n",
       "      <td>307</td>\n",
       "      <td>0</td>\n",
       "      <td>3</td>\n",
       "      <td>1</td>\n",
       "      <td>2</td>\n",
       "      <td>7</td>\n",
       "      <td>2</td>\n",
       "      <td>...</td>\n",
       "      <td>1</td>\n",
       "      <td>13</td>\n",
       "      <td>0</td>\n",
       "      <td>41326</td>\n",
       "      <td>fa90fa5b1ee11c86938398b60abc32cb</td>\n",
       "      <td>0</td>\n",
       "      <td>Many cute and beautiful puppies waiting for ho...</td>\n",
       "      <td>8bf0f354b</td>\n",
       "      <td>5.0</td>\n",
       "      <td>2</td>\n",
       "    </tr>\n",
       "    <tr>\n",
       "      <th>4759</th>\n",
       "      <td>2</td>\n",
       "      <td>30 Cats For Adoption</td>\n",
       "      <td>65</td>\n",
       "      <td>265</td>\n",
       "      <td>266</td>\n",
       "      <td>3</td>\n",
       "      <td>3</td>\n",
       "      <td>4</td>\n",
       "      <td>7</td>\n",
       "      <td>2</td>\n",
       "      <td>...</td>\n",
       "      <td>1</td>\n",
       "      <td>20</td>\n",
       "      <td>50</td>\n",
       "      <td>41326</td>\n",
       "      <td>45a37134dca131caaecd98957eb3d123</td>\n",
       "      <td>0</td>\n",
       "      <td>The owner of these babies (Makcik Ani) has pas...</td>\n",
       "      <td>4a818af93</td>\n",
       "      <td>4.0</td>\n",
       "      <td>2</td>\n",
       "    </tr>\n",
       "    <tr>\n",
       "      <th>5209</th>\n",
       "      <td>2</td>\n",
       "      <td>NaN</td>\n",
       "      <td>1</td>\n",
       "      <td>266</td>\n",
       "      <td>0</td>\n",
       "      <td>3</td>\n",
       "      <td>1</td>\n",
       "      <td>4</td>\n",
       "      <td>7</td>\n",
       "      <td>1</td>\n",
       "      <td>...</td>\n",
       "      <td>1</td>\n",
       "      <td>16</td>\n",
       "      <td>0</td>\n",
       "      <td>41401</td>\n",
       "      <td>1cc4a20139774a4277e2298c998bea9b</td>\n",
       "      <td>0</td>\n",
       "      <td>There are 16 of them, the neighbors are kickin...</td>\n",
       "      <td>0a76a6cf3</td>\n",
       "      <td>1.0</td>\n",
       "      <td>2</td>\n",
       "    </tr>\n",
       "    <tr>\n",
       "      <th>11101</th>\n",
       "      <td>1</td>\n",
       "      <td>NaN</td>\n",
       "      <td>1</td>\n",
       "      <td>307</td>\n",
       "      <td>0</td>\n",
       "      <td>3</td>\n",
       "      <td>1</td>\n",
       "      <td>2</td>\n",
       "      <td>7</td>\n",
       "      <td>1</td>\n",
       "      <td>...</td>\n",
       "      <td>1</td>\n",
       "      <td>17</td>\n",
       "      <td>0</td>\n",
       "      <td>41326</td>\n",
       "      <td>7ebb7aa608188f26f2c6fc55f53b586b</td>\n",
       "      <td>0</td>\n",
       "      <td>About 17 of these cute, healthy little ones we...</td>\n",
       "      <td>a7d65135d</td>\n",
       "      <td>1.0</td>\n",
       "      <td>2</td>\n",
       "    </tr>\n",
       "    <tr>\n",
       "      <th>13383</th>\n",
       "      <td>1</td>\n",
       "      <td>NaN</td>\n",
       "      <td>1</td>\n",
       "      <td>307</td>\n",
       "      <td>0</td>\n",
       "      <td>3</td>\n",
       "      <td>1</td>\n",
       "      <td>2</td>\n",
       "      <td>7</td>\n",
       "      <td>2</td>\n",
       "      <td>...</td>\n",
       "      <td>1</td>\n",
       "      <td>11</td>\n",
       "      <td>0</td>\n",
       "      <td>41336</td>\n",
       "      <td>5d9d6838cb00440c65d0475ccc464aa1</td>\n",
       "      <td>0</td>\n",
       "      <td>Help to adopt this dogs. They are by road side</td>\n",
       "      <td>1b89f5335</td>\n",
       "      <td>0.0</td>\n",
       "      <td>2</td>\n",
       "    </tr>\n",
       "    <tr>\n",
       "      <th>13865</th>\n",
       "      <td>2</td>\n",
       "      <td>NaN</td>\n",
       "      <td>17</td>\n",
       "      <td>266</td>\n",
       "      <td>0</td>\n",
       "      <td>3</td>\n",
       "      <td>1</td>\n",
       "      <td>4</td>\n",
       "      <td>5</td>\n",
       "      <td>2</td>\n",
       "      <td>...</td>\n",
       "      <td>1</td>\n",
       "      <td>15</td>\n",
       "      <td>0</td>\n",
       "      <td>41401</td>\n",
       "      <td>fb3fd0f0da708b3150edffc4c6873cd7</td>\n",
       "      <td>0</td>\n",
       "      <td>They all born in my house. Indoor cat.</td>\n",
       "      <td>aca6b6256</td>\n",
       "      <td>2.0</td>\n",
       "      <td>1</td>\n",
       "    </tr>\n",
       "    <tr>\n",
       "      <th>14583</th>\n",
       "      <td>1</td>\n",
       "      <td>Max</td>\n",
       "      <td>24</td>\n",
       "      <td>307</td>\n",
       "      <td>0</td>\n",
       "      <td>1</td>\n",
       "      <td>5</td>\n",
       "      <td>0</td>\n",
       "      <td>0</td>\n",
       "      <td>2</td>\n",
       "      <td>...</td>\n",
       "      <td>1</td>\n",
       "      <td>20</td>\n",
       "      <td>0</td>\n",
       "      <td>41332</td>\n",
       "      <td>ea14ca9dca5f06e8b72c9ff6b11afdc3</td>\n",
       "      <td>0</td>\n",
       "      <td>He is a very energetic dog Unfortunately his o...</td>\n",
       "      <td>79e5de9a7</td>\n",
       "      <td>1.0</td>\n",
       "      <td>1</td>\n",
       "    </tr>\n",
       "  </tbody>\n",
       "</table>\n",
       "<p>14 rows × 24 columns</p>\n",
       "</div>"
      ],
      "text/plain": [
       "       Type                                Name  Age  Breed1  Breed2  Gender  \\\n",
       "396       1   Giant, Cookie & Snoopy. ! Thanks!    1     307       0       3   \n",
       "823       2                       Pancho & Tita    3     266       0       2   \n",
       "1088      1                     Puppy Super Mix    2     307       0       3   \n",
       "1377      1                                 NaN    1     307       0       3   \n",
       "1404      1                                 NaN    1     307       0       3   \n",
       "1659      2  Cats From TTDI Now In Omiey's Home   12     266     265       3   \n",
       "2558      1     ( 0 Puppies Left  )14+2 Puppies    2     307     307       3   \n",
       "2787      1                Puppies For Adoption    2     307       0       3   \n",
       "4759      2                30 Cats For Adoption   65     265     266       3   \n",
       "5209      2                                 NaN    1     266       0       3   \n",
       "11101     1                                 NaN    1     307       0       3   \n",
       "13383     1                                 NaN    1     307       0       3   \n",
       "13865     2                                 NaN   17     266       0       3   \n",
       "14583     1                                 Max   24     307       0       1   \n",
       "\n",
       "       Color1  Color2  Color3  MaturitySize  ...  Health  Quantity  Fee  \\\n",
       "396         1       2       7             3  ...       1        12    0   \n",
       "823         1       7       0             2  ...       1        12    0   \n",
       "1088        1       7       0             2  ...       1        11    0   \n",
       "1377        1       2       7             2  ...       1        11    0   \n",
       "1404        1       2       4             1  ...       1        17    0   \n",
       "1659        5       6       7             2  ...       1        20    0   \n",
       "2558        2       0       0             2  ...       1        16    0   \n",
       "2787        1       2       7             2  ...       1        13    0   \n",
       "4759        3       4       7             2  ...       1        20   50   \n",
       "5209        1       4       7             1  ...       1        16    0   \n",
       "11101       1       2       7             1  ...       1        17    0   \n",
       "13383       1       2       7             2  ...       1        11    0   \n",
       "13865       1       4       5             2  ...       1        15    0   \n",
       "14583       5       0       0             2  ...       1        20    0   \n",
       "\n",
       "       State                         RescuerID  VideoAmt  \\\n",
       "396    41326  cb076d8ab7ea64284bfb0edbabd10f24         0   \n",
       "823    41326  fd03fd9f89f386348188724b5a57d5c2         0   \n",
       "1088   41326  561c42b6c0f1ec28fba5781efe78d5c7         0   \n",
       "1377   41336  5d9d6838cb00440c65d0475ccc464aa1         0   \n",
       "1404   41326  7ebb7aa608188f26f2c6fc55f53b586b         0   \n",
       "1659   41326  5aca30a29e8290093fee2a334d65d835         0   \n",
       "2558   41326  3b074cadd2350de62dca7056b9bab6f4         0   \n",
       "2787   41326  fa90fa5b1ee11c86938398b60abc32cb         0   \n",
       "4759   41326  45a37134dca131caaecd98957eb3d123         0   \n",
       "5209   41401  1cc4a20139774a4277e2298c998bea9b         0   \n",
       "11101  41326  7ebb7aa608188f26f2c6fc55f53b586b         0   \n",
       "13383  41336  5d9d6838cb00440c65d0475ccc464aa1         0   \n",
       "13865  41401  fb3fd0f0da708b3150edffc4c6873cd7         0   \n",
       "14583  41332  ea14ca9dca5f06e8b72c9ff6b11afdc3         0   \n",
       "\n",
       "                                             Description      PetID PhotoAmt  \\\n",
       "396    puppies for adoption. Rescued by some good sam...  b912b1114      5.0   \n",
       "823    Pancho and Tita are 2 adorable, playful kitten...  7acaea66e      4.0   \n",
       "1088   A female mix breed appear around my home few m...  76358e754      8.0   \n",
       "1377      Help to adopt this dogs. They are by road side  b03c17502      1.0   \n",
       "1404   I had uploaded the pups' group photos earlier....  0c2e0fc7d      3.0   \n",
       "1659   Hi feline lovers, There are 40 cats desperatel...  35a6a9ef4      0.0   \n",
       "2558   They are 2 stray mother dogs gave birth 14 pup...  acb614bba     30.0   \n",
       "2787   Many cute and beautiful puppies waiting for ho...  8bf0f354b      5.0   \n",
       "4759   The owner of these babies (Makcik Ani) has pas...  4a818af93      4.0   \n",
       "5209   There are 16 of them, the neighbors are kickin...  0a76a6cf3      1.0   \n",
       "11101  About 17 of these cute, healthy little ones we...  a7d65135d      1.0   \n",
       "13383     Help to adopt this dogs. They are by road side  1b89f5335      0.0   \n",
       "13865             They all born in my house. Indoor cat.  aca6b6256      2.0   \n",
       "14583  He is a very energetic dog Unfortunately his o...  79e5de9a7      1.0   \n",
       "\n",
       "       AdoptionSpeed  \n",
       "396                2  \n",
       "823                2  \n",
       "1088               2  \n",
       "1377               2  \n",
       "1404               2  \n",
       "1659               2  \n",
       "2558               2  \n",
       "2787               2  \n",
       "4759               2  \n",
       "5209               2  \n",
       "11101              2  \n",
       "13383              2  \n",
       "13865              1  \n",
       "14583              1  \n",
       "\n",
       "[14 rows x 24 columns]"
      ]
     },
     "execution_count": 13,
     "metadata": {},
     "output_type": "execute_result"
    }
   ],
   "source": [
    "outlierless.head(14)"
   ]
  },
  {
   "cell_type": "markdown",
   "metadata": {},
   "source": [
    "----------------------"
   ]
  },
  {
   "cell_type": "code",
   "execution_count": null,
   "metadata": {},
   "outputs": [],
   "source": [
    "# Dropping Quantity column now that df contains only single quantity animal posts \n",
    "\n",
    "#df.drop(columns=['Quantity'], inplace=True)\n",
    "#df.head()"
   ]
  },
  {
   "cell_type": "code",
   "execution_count": null,
   "metadata": {},
   "outputs": [],
   "source": [
    "df.AdoptionSpeed.value_counts()"
   ]
  },
  {
   "cell_type": "code",
   "execution_count": null,
   "metadata": {},
   "outputs": [],
   "source": [
    "plt.figure(figsize=(18, 16))\n",
    "sns.heatmap(df.corr().sort_values(by='AdoptionSpeed'), cmap=\"YlGnBu\", annot=True);"
   ]
  },
  {
   "cell_type": "code",
   "execution_count": null,
   "metadata": {},
   "outputs": [],
   "source": [
    "plt.figure(figsize=(10, 8))\n",
    "sns.heatmap(df.corr()[['AdoptionSpeed']].sort_values(by='AdoptionSpeed', ascending=True),\n",
    "            vmin = -1, vmax=1,\n",
    "            cmap ='winter',\n",
    "            annot = True,);\n",
    "plt.title(\"Correlation With Adoption Speed\", size = 20);"
   ]
  },
  {
   "cell_type": "code",
   "execution_count": null,
   "metadata": {},
   "outputs": [],
   "source": [
    "df.AdoptionSpeed.value_counts()"
   ]
  },
  {
   "cell_type": "markdown",
   "metadata": {},
   "source": [
    "# EDA On Single Dog Listings:\n"
   ]
  },
  {
   "cell_type": "markdown",
   "metadata": {},
   "source": [
    "- by state\n",
    "- by fur length\n",
    "- by vaccination, sterilized, dewormed\n",
    "- by breed\n",
    "- by age\n",
    "- by type"
   ]
  },
  {
   "cell_type": "code",
   "execution_count": 25,
   "metadata": {},
   "outputs": [
    {
     "data": {
      "text/html": [
       "<div>\n",
       "<style scoped>\n",
       "    .dataframe tbody tr th:only-of-type {\n",
       "        vertical-align: middle;\n",
       "    }\n",
       "\n",
       "    .dataframe tbody tr th {\n",
       "        vertical-align: top;\n",
       "    }\n",
       "\n",
       "    .dataframe thead th {\n",
       "        text-align: right;\n",
       "    }\n",
       "</style>\n",
       "<table border=\"1\" class=\"dataframe\">\n",
       "  <thead>\n",
       "    <tr style=\"text-align: right;\">\n",
       "      <th></th>\n",
       "      <th>Type</th>\n",
       "      <th>Name</th>\n",
       "      <th>Age</th>\n",
       "      <th>Breed1</th>\n",
       "      <th>Breed2</th>\n",
       "      <th>Gender</th>\n",
       "      <th>Color1</th>\n",
       "      <th>Color2</th>\n",
       "      <th>Color3</th>\n",
       "      <th>MaturitySize</th>\n",
       "      <th>...</th>\n",
       "      <th>Health</th>\n",
       "      <th>Quantity</th>\n",
       "      <th>Fee</th>\n",
       "      <th>State</th>\n",
       "      <th>RescuerID</th>\n",
       "      <th>VideoAmt</th>\n",
       "      <th>Description</th>\n",
       "      <th>PetID</th>\n",
       "      <th>PhotoAmt</th>\n",
       "      <th>AdoptionSpeed</th>\n",
       "    </tr>\n",
       "  </thead>\n",
       "  <tbody>\n",
       "    <tr>\n",
       "      <th>2</th>\n",
       "      <td>1</td>\n",
       "      <td>Brisco</td>\n",
       "      <td>1</td>\n",
       "      <td>307</td>\n",
       "      <td>0</td>\n",
       "      <td>1</td>\n",
       "      <td>2</td>\n",
       "      <td>7</td>\n",
       "      <td>0</td>\n",
       "      <td>2</td>\n",
       "      <td>...</td>\n",
       "      <td>1</td>\n",
       "      <td>1</td>\n",
       "      <td>0</td>\n",
       "      <td>41326</td>\n",
       "      <td>fa90fa5b1ee11c86938398b60abc32cb</td>\n",
       "      <td>0</td>\n",
       "      <td>Their pregnant mother was dumped by her irresp...</td>\n",
       "      <td>3422e4906</td>\n",
       "      <td>7.0</td>\n",
       "      <td>3</td>\n",
       "    </tr>\n",
       "    <tr>\n",
       "      <th>3</th>\n",
       "      <td>1</td>\n",
       "      <td>Miko</td>\n",
       "      <td>4</td>\n",
       "      <td>307</td>\n",
       "      <td>0</td>\n",
       "      <td>2</td>\n",
       "      <td>1</td>\n",
       "      <td>2</td>\n",
       "      <td>0</td>\n",
       "      <td>2</td>\n",
       "      <td>...</td>\n",
       "      <td>1</td>\n",
       "      <td>1</td>\n",
       "      <td>150</td>\n",
       "      <td>41401</td>\n",
       "      <td>9238e4f44c71a75282e62f7136c6b240</td>\n",
       "      <td>0</td>\n",
       "      <td>Good guard dog, very alert, active, obedience ...</td>\n",
       "      <td>5842f1ff5</td>\n",
       "      <td>8.0</td>\n",
       "      <td>2</td>\n",
       "    </tr>\n",
       "    <tr>\n",
       "      <th>4</th>\n",
       "      <td>1</td>\n",
       "      <td>Hunter</td>\n",
       "      <td>1</td>\n",
       "      <td>307</td>\n",
       "      <td>0</td>\n",
       "      <td>1</td>\n",
       "      <td>1</td>\n",
       "      <td>0</td>\n",
       "      <td>0</td>\n",
       "      <td>2</td>\n",
       "      <td>...</td>\n",
       "      <td>1</td>\n",
       "      <td>1</td>\n",
       "      <td>0</td>\n",
       "      <td>41326</td>\n",
       "      <td>95481e953f8aed9ec3d16fc4509537e8</td>\n",
       "      <td>0</td>\n",
       "      <td>This handsome yet cute boy is up for adoption....</td>\n",
       "      <td>850a43f90</td>\n",
       "      <td>3.0</td>\n",
       "      <td>2</td>\n",
       "    </tr>\n",
       "    <tr>\n",
       "      <th>10</th>\n",
       "      <td>1</td>\n",
       "      <td>Bear</td>\n",
       "      <td>2</td>\n",
       "      <td>307</td>\n",
       "      <td>0</td>\n",
       "      <td>1</td>\n",
       "      <td>1</td>\n",
       "      <td>2</td>\n",
       "      <td>7</td>\n",
       "      <td>2</td>\n",
       "      <td>...</td>\n",
       "      <td>1</td>\n",
       "      <td>1</td>\n",
       "      <td>0</td>\n",
       "      <td>41401</td>\n",
       "      <td>9238e4f44c71a75282e62f7136c6b240</td>\n",
       "      <td>0</td>\n",
       "      <td>For serious adopter, please do sms or call for...</td>\n",
       "      <td>8b693ca84</td>\n",
       "      <td>7.0</td>\n",
       "      <td>1</td>\n",
       "    </tr>\n",
       "    <tr>\n",
       "      <th>12</th>\n",
       "      <td>1</td>\n",
       "      <td>Peanut</td>\n",
       "      <td>2</td>\n",
       "      <td>307</td>\n",
       "      <td>0</td>\n",
       "      <td>1</td>\n",
       "      <td>2</td>\n",
       "      <td>5</td>\n",
       "      <td>6</td>\n",
       "      <td>2</td>\n",
       "      <td>...</td>\n",
       "      <td>1</td>\n",
       "      <td>1</td>\n",
       "      <td>0</td>\n",
       "      <td>41326</td>\n",
       "      <td>db784cbcf321e1d8856b312638b94113</td>\n",
       "      <td>0</td>\n",
       "      <td>Peanut was an abused puppy until he was rescue...</td>\n",
       "      <td>aaedd873d</td>\n",
       "      <td>1.0</td>\n",
       "      <td>2</td>\n",
       "    </tr>\n",
       "  </tbody>\n",
       "</table>\n",
       "<p>5 rows × 24 columns</p>\n",
       "</div>"
      ],
      "text/plain": [
       "    Type    Name  Age  Breed1  Breed2  Gender  Color1  Color2  Color3  \\\n",
       "2      1  Brisco    1     307       0       1       2       7       0   \n",
       "3      1    Miko    4     307       0       2       1       2       0   \n",
       "4      1  Hunter    1     307       0       1       1       0       0   \n",
       "10     1    Bear    2     307       0       1       1       2       7   \n",
       "12     1  Peanut    2     307       0       1       2       5       6   \n",
       "\n",
       "    MaturitySize  ...  Health  Quantity  Fee  State  \\\n",
       "2              2  ...       1         1    0  41326   \n",
       "3              2  ...       1         1  150  41401   \n",
       "4              2  ...       1         1    0  41326   \n",
       "10             2  ...       1         1    0  41401   \n",
       "12             2  ...       1         1    0  41326   \n",
       "\n",
       "                           RescuerID  VideoAmt  \\\n",
       "2   fa90fa5b1ee11c86938398b60abc32cb         0   \n",
       "3   9238e4f44c71a75282e62f7136c6b240         0   \n",
       "4   95481e953f8aed9ec3d16fc4509537e8         0   \n",
       "10  9238e4f44c71a75282e62f7136c6b240         0   \n",
       "12  db784cbcf321e1d8856b312638b94113         0   \n",
       "\n",
       "                                          Description      PetID PhotoAmt  \\\n",
       "2   Their pregnant mother was dumped by her irresp...  3422e4906      7.0   \n",
       "3   Good guard dog, very alert, active, obedience ...  5842f1ff5      8.0   \n",
       "4   This handsome yet cute boy is up for adoption....  850a43f90      3.0   \n",
       "10  For serious adopter, please do sms or call for...  8b693ca84      7.0   \n",
       "12  Peanut was an abused puppy until he was rescue...  aaedd873d      1.0   \n",
       "\n",
       "    AdoptionSpeed  \n",
       "2               3  \n",
       "3               2  \n",
       "4               2  \n",
       "10              1  \n",
       "12              2  \n",
       "\n",
       "[5 rows x 24 columns]"
      ]
     },
     "execution_count": 25,
     "metadata": {},
     "output_type": "execute_result"
    }
   ],
   "source": [
    "# Filtering dataframe to include only single animal posts for dogs\n",
    "\n",
    "dog = df[(df['Type'] == 1) & (df['Quantity'] == 1)]\n",
    "dog.head()"
   ]
  },
  {
   "cell_type": "code",
   "execution_count": 26,
   "metadata": {},
   "outputs": [
    {
     "data": {
      "text/plain": [
       "(6622, 24)"
      ]
     },
     "execution_count": 26,
     "metadata": {},
     "output_type": "execute_result"
    }
   ],
   "source": [
    "dog.shape"
   ]
  },
  {
   "cell_type": "code",
   "execution_count": null,
   "metadata": {},
   "outputs": [],
   "source": [
    "# Looking at most common dog names - dog names seem more important than cat names, but unclear how influential. \n",
    "dog.Name.value_counts()"
   ]
  },
  {
   "cell_type": "code",
   "execution_count": null,
   "metadata": {},
   "outputs": [],
   "source": [
    "dog.isnull().sum()"
   ]
  },
  {
   "cell_type": "code",
   "execution_count": null,
   "metadata": {},
   "outputs": [],
   "source": [
    "# Decently balanced classes aside from 0 - consider combining with 1?\n",
    "\n",
    "dog.AdoptionSpeed.value_counts()"
   ]
  },
  {
   "cell_type": "code",
   "execution_count": null,
   "metadata": {},
   "outputs": [],
   "source": [
    "plt.figure(figsize=(18, 16))\n",
    "sns.heatmap(dog.corr(), cmap=\"YlGnBu\", annot=True);"
   ]
  },
  {
   "cell_type": "code",
   "execution_count": null,
   "metadata": {},
   "outputs": [],
   "source": [
    "plt.figure(figsize=(10, 8))\n",
    "sns.heatmap(dog.corr()[['AdoptionSpeed']].sort_values(by='AdoptionSpeed', ascending=True),\n",
    "            vmin = -1, vmax=1,\n",
    "            cmap ='winter',\n",
    "            annot = True,);\n",
    "plt.title(\"Correlation With Adoption Speed - Dogs\", size = 20);"
   ]
  },
  {
   "cell_type": "code",
   "execution_count": null,
   "metadata": {},
   "outputs": [],
   "source": [
    "plt.figure(figsize=(15, 10));\n",
    "\n",
    "sns.scatterplot(data = dog, x='AdoptionSpeed', y='Quantity', palette='crest')\n",
    "\n",
    "plt.title('')"
   ]
  },
  {
   "cell_type": "code",
   "execution_count": null,
   "metadata": {},
   "outputs": [],
   "source": []
  },
  {
   "cell_type": "code",
   "execution_count": null,
   "metadata": {},
   "outputs": [],
   "source": []
  },
  {
   "cell_type": "code",
   "execution_count": null,
   "metadata": {},
   "outputs": [],
   "source": []
  },
  {
   "cell_type": "markdown",
   "metadata": {},
   "source": [
    "## - Count Vectorizing"
   ]
  },
  {
   "cell_type": "code",
   "execution_count": null,
   "metadata": {},
   "outputs": [],
   "source": [
    "dog.Description.isnull().sum()"
   ]
  },
  {
   "cell_type": "code",
   "execution_count": null,
   "metadata": {},
   "outputs": [],
   "source": [
    "# Dropping the two rows without descriptions prior to count vectorizing\n",
    "dog = dog[dog['Description'].notna()]"
   ]
  },
  {
   "cell_type": "code",
   "execution_count": null,
   "metadata": {},
   "outputs": [],
   "source": [
    "dog.Description.isnull().sum()"
   ]
  },
  {
   "cell_type": "code",
   "execution_count": null,
   "metadata": {},
   "outputs": [],
   "source": [
    "dog_list = ['home', 'dog', 'puppy', 'adoption', 'adopt', 'looking', 'interested', 'dogs', 'adopter', 'like', 'time', 'months', 'new', 'just', 'need']"
   ]
  },
  {
   "cell_type": "code",
   "execution_count": null,
   "metadata": {},
   "outputs": [],
   "source": [
    "stop_words = text.ENGLISH_STOP_WORDS.union(dog_list)"
   ]
  },
  {
   "cell_type": "code",
   "execution_count": null,
   "metadata": {},
   "outputs": [],
   "source": [
    "dog_cvec= CountVectorizer(stop_words=stop_words)\n",
    "X = dog['Description']\n",
    "dog_cvec.fit(X)\n",
    "X_trans = dog_cvec.transform(X)"
   ]
  },
  {
   "cell_type": "code",
   "execution_count": null,
   "metadata": {},
   "outputs": [],
   "source": [
    "X_trans = pd.DataFrame(X_trans.todense(), \n",
    "                 columns=dog_cvec.get_feature_names())\n",
    "\n",
    "plt.figure(figsize = [13, 9])\n",
    "plt.title('Most Common Words in Dog Descriptions')\n",
    "plt.xlabel('Word Count')\n",
    "plt.ylabel('Word')\n",
    "X_trans.sum().sort_values(ascending = False).head(20).plot(kind='barh');"
   ]
  },
  {
   "cell_type": "markdown",
   "metadata": {},
   "source": [
    "# EDA on Single Cat Listings:"
   ]
  },
  {
   "cell_type": "code",
   "execution_count": 20,
   "metadata": {},
   "outputs": [
    {
     "data": {
      "text/plain": [
       "2    1389\n",
       "1    1222\n",
       "4    1212\n",
       "3     935\n",
       "0     185\n",
       "Name: AdoptionSpeed, dtype: int64"
      ]
     },
     "execution_count": 20,
     "metadata": {},
     "output_type": "execute_result"
    }
   ],
   "source": [
    "# Filtering dataframe to include only single animal posts for cats\n",
    "\n",
    "cat = df[(df['Quantity'] == 1) & (df['Type'] == 2)]\n",
    "cat.AdoptionSpeed.value_counts()"
   ]
  },
  {
   "cell_type": "code",
   "execution_count": 21,
   "metadata": {},
   "outputs": [
    {
     "data": {
      "text/plain": [
       "(4943, 24)"
      ]
     },
     "execution_count": 21,
     "metadata": {},
     "output_type": "execute_result"
    }
   ],
   "source": [
    "cat.shape"
   ]
  },
  {
   "cell_type": "code",
   "execution_count": null,
   "metadata": {},
   "outputs": [],
   "source": [
    "# Looking at the most common cat names - cat names on posts don't appear to be very important\n",
    "\n",
    "cat.Name.value_counts()"
   ]
  },
  {
   "cell_type": "code",
   "execution_count": null,
   "metadata": {},
   "outputs": [],
   "source": [
    "cat.isnull().sum()"
   ]
  },
  {
   "cell_type": "code",
   "execution_count": null,
   "metadata": {},
   "outputs": [],
   "source": [
    "# Decently balanced classes aside from 0 - are 0 outliers?\n",
    "cat.AdoptionSpeed.value_counts()"
   ]
  },
  {
   "cell_type": "code",
   "execution_count": null,
   "metadata": {},
   "outputs": [],
   "source": [
    "plt.figure(figsize=(18, 16))\n",
    "sns.heatmap(cat.corr(), cmap=\"YlGnBu\", annot=True);"
   ]
  },
  {
   "cell_type": "code",
   "execution_count": null,
   "metadata": {},
   "outputs": [],
   "source": [
    "plt.figure(figsize=(10, 8))\n",
    "sns.heatmap(cat.corr()[['AdoptionSpeed']].sort_values(by='AdoptionSpeed', ascending=True),\n",
    "            vmin = -1, vmax=1,\n",
    "            cmap ='winter',\n",
    "            annot = True,);\n",
    "plt.title(\"Correlation With Adoption Speed - Cats\", size = 20);"
   ]
  },
  {
   "cell_type": "code",
   "execution_count": null,
   "metadata": {},
   "outputs": [],
   "source": [
    "cat.Description.isnull().sum()"
   ]
  },
  {
   "cell_type": "code",
   "execution_count": null,
   "metadata": {},
   "outputs": [],
   "source": [
    "# Dropping the two rows without descriptions prior to count vectorizing\n",
    "cat = cat[cat['Description'].notna()]"
   ]
  },
  {
   "cell_type": "code",
   "execution_count": null,
   "metadata": {},
   "outputs": [],
   "source": [
    "cat.Description.isnull().sum()"
   ]
  },
  {
   "cell_type": "markdown",
   "metadata": {},
   "source": [
    "## Playing with stop words ##"
   ]
  },
  {
   "cell_type": "code",
   "execution_count": null,
   "metadata": {},
   "outputs": [],
   "source": [
    "cat_list = ['cat', 'home', 'kitten', 'cats', 'adoption', 'interested', 'new', 'looking', 'adopt', 'like', 'contact', 'house', 'time', 'months', 'just']"
   ]
  },
  {
   "cell_type": "code",
   "execution_count": null,
   "metadata": {},
   "outputs": [],
   "source": [
    "stop_words = text.ENGLISH_STOP_WORDS.union(cat_list)"
   ]
  },
  {
   "cell_type": "code",
   "execution_count": null,
   "metadata": {},
   "outputs": [],
   "source": [
    "cat_cvec= CountVectorizer(stop_words=stop_words)\n",
    "X = cat['Description']\n",
    "cat_cvec.fit(X)\n",
    "X_trans = cat_cvec.transform(X)"
   ]
  },
  {
   "cell_type": "code",
   "execution_count": null,
   "metadata": {},
   "outputs": [],
   "source": [
    "X_trans = pd.DataFrame(X_trans.todense(), \n",
    "                 columns=cat_cvec.get_feature_names())\n",
    "\n",
    "plt.figure(figsize = [13, 9])\n",
    "plt.title('Most Common Words in Dog Descriptions')\n",
    "plt.xlabel('Word Count')\n",
    "plt.ylabel('Word')\n",
    "X_trans.sum().sort_values(ascending = False).head(20).plot(kind='barh');"
   ]
  },
  {
   "cell_type": "code",
   "execution_count": null,
   "metadata": {},
   "outputs": [],
   "source": []
  }
 ],
 "metadata": {
  "kernelspec": {
   "display_name": "Python 3",
   "language": "python",
   "name": "python3"
  },
  "language_info": {
   "codemirror_mode": {
    "name": "ipython",
    "version": 3
   },
   "file_extension": ".py",
   "mimetype": "text/x-python",
   "name": "python",
   "nbconvert_exporter": "python",
   "pygments_lexer": "ipython3",
   "version": "3.8.5"
  }
 },
 "nbformat": 4,
 "nbformat_minor": 4
}

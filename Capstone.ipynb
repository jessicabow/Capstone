{
 "cells": [
  {
   "cell_type": "markdown",
   "metadata": {},
   "source": [
    "<img src=\"http://imgur.com/1ZcRyrc.png\" style=\"float: left; margin: 20px; height: 55px\">\n",
    "\n",
    "# CAPSTONE: Predicting Animal Adoption"
   ]
  },
  {
   "cell_type": "markdown",
   "metadata": {},
   "source": [
    "---\n",
    "# Section 1\n",
    "\n",
    "---"
   ]
  },
  {
   "cell_type": "markdown",
   "metadata": {},
   "source": [
    "## Problem Statement"
   ]
  },
  {
   "cell_type": "markdown",
   "metadata": {},
   "source": [
    "Predict if a dog will be adopted within a timeframe with the goal of maximizing dog adoptions.\\\n",
    "I plan to run models on each outcome jurisdiction with the hope that these jurisdictions could work together to prioritize maximum number of successful adoptions."
   ]
  },
  {
   "cell_type": "markdown",
   "metadata": {},
   "source": [
    "### Data Source\n",
    "* https://data.sonomacounty.ca.gov/Government/Animal-Shelter-Intake-and-Outcome/924a-vesw/data\n"
   ]
  },
  {
   "cell_type": "code",
   "execution_count": 3,
   "metadata": {},
   "outputs": [],
   "source": [
    "import pandas as pd\n",
    "import numpy as np\n",
    "import matplotlib.pyplot as plt\n",
    "import seaborn as sns"
   ]
  },
  {
   "cell_type": "code",
   "execution_count": 5,
   "metadata": {},
   "outputs": [],
   "source": [
    "df = pd.read_csv('./data/Animal_Shelter.csv')"
   ]
  },
  {
   "cell_type": "code",
   "execution_count": 6,
   "metadata": {},
   "outputs": [
    {
     "data": {
      "text/html": [
       "<div>\n",
       "<style scoped>\n",
       "    .dataframe tbody tr th:only-of-type {\n",
       "        vertical-align: middle;\n",
       "    }\n",
       "\n",
       "    .dataframe tbody tr th {\n",
       "        vertical-align: top;\n",
       "    }\n",
       "\n",
       "    .dataframe thead th {\n",
       "        text-align: right;\n",
       "    }\n",
       "</style>\n",
       "<table border=\"1\" class=\"dataframe\">\n",
       "  <thead>\n",
       "    <tr style=\"text-align: right;\">\n",
       "      <th></th>\n",
       "      <th>Name</th>\n",
       "      <th>Type</th>\n",
       "      <th>Breed</th>\n",
       "      <th>Color</th>\n",
       "      <th>Sex</th>\n",
       "      <th>Size</th>\n",
       "      <th>Date Of Birth</th>\n",
       "      <th>Impound Number</th>\n",
       "      <th>Kennel Number</th>\n",
       "      <th>Animal ID</th>\n",
       "      <th>...</th>\n",
       "      <th>Intake Subtype</th>\n",
       "      <th>Outcome Type</th>\n",
       "      <th>Outcome Subtype</th>\n",
       "      <th>Intake Condition</th>\n",
       "      <th>Outcome Condition</th>\n",
       "      <th>Intake Jurisdiction</th>\n",
       "      <th>Outcome Jurisdiction</th>\n",
       "      <th>Outcome Zip Code</th>\n",
       "      <th>Location</th>\n",
       "      <th>Count</th>\n",
       "    </tr>\n",
       "  </thead>\n",
       "  <tbody>\n",
       "    <tr>\n",
       "      <th>0</th>\n",
       "      <td>NaN</td>\n",
       "      <td>OTHER</td>\n",
       "      <td>BAT</td>\n",
       "      <td>BROWN</td>\n",
       "      <td>Unknown</td>\n",
       "      <td>SMALL</td>\n",
       "      <td>NaN</td>\n",
       "      <td>K20-037535</td>\n",
       "      <td>TRUCK</td>\n",
       "      <td>A401785</td>\n",
       "      <td>...</td>\n",
       "      <td>FIELD</td>\n",
       "      <td>EUTHANIZE</td>\n",
       "      <td>FRA</td>\n",
       "      <td>UNTREATABLE</td>\n",
       "      <td>UNTREATABLE</td>\n",
       "      <td>COUNTY</td>\n",
       "      <td>SANTA ROSA</td>\n",
       "      <td>95404.0</td>\n",
       "      <td>95404(38.458384, -122.675588)</td>\n",
       "      <td>1</td>\n",
       "    </tr>\n",
       "    <tr>\n",
       "      <th>1</th>\n",
       "      <td>NaN</td>\n",
       "      <td>DOG</td>\n",
       "      <td>LABRADOR RETR</td>\n",
       "      <td>BLACK/WHITE</td>\n",
       "      <td>Female</td>\n",
       "      <td>PUPPY</td>\n",
       "      <td>09/12/2020</td>\n",
       "      <td>K20-037525</td>\n",
       "      <td>DS49</td>\n",
       "      <td>A401754</td>\n",
       "      <td>...</td>\n",
       "      <td>FIELD</td>\n",
       "      <td>NaN</td>\n",
       "      <td>NaN</td>\n",
       "      <td>UNKNOWN</td>\n",
       "      <td>NaN</td>\n",
       "      <td>SANTA ROSA</td>\n",
       "      <td>NaN</td>\n",
       "      <td>NaN</td>\n",
       "      <td>NaN</td>\n",
       "      <td>1</td>\n",
       "    </tr>\n",
       "    <tr>\n",
       "      <th>2</th>\n",
       "      <td>RUBY</td>\n",
       "      <td>DOG</td>\n",
       "      <td>PARSON RUSS TER/MIX</td>\n",
       "      <td>WHITE/BLACK</td>\n",
       "      <td>Spayed</td>\n",
       "      <td>SMALL</td>\n",
       "      <td>NaN</td>\n",
       "      <td>K20-037538</td>\n",
       "      <td>DQ117</td>\n",
       "      <td>A401786</td>\n",
       "      <td>...</td>\n",
       "      <td>FIELD</td>\n",
       "      <td>NaN</td>\n",
       "      <td>NaN</td>\n",
       "      <td>UNKNOWN</td>\n",
       "      <td>NaN</td>\n",
       "      <td>SANTA ROSA</td>\n",
       "      <td>SANTA ROSA</td>\n",
       "      <td>95404.0</td>\n",
       "      <td>95404(38.458384, -122.675588)</td>\n",
       "      <td>1</td>\n",
       "    </tr>\n",
       "    <tr>\n",
       "      <th>3</th>\n",
       "      <td>NaN</td>\n",
       "      <td>CAT</td>\n",
       "      <td>SIAMESE/MIX</td>\n",
       "      <td>SEAL PT</td>\n",
       "      <td>Female</td>\n",
       "      <td>SMALL</td>\n",
       "      <td>12/15/2019</td>\n",
       "      <td>K20-037532</td>\n",
       "      <td>SMM</td>\n",
       "      <td>A401775</td>\n",
       "      <td>...</td>\n",
       "      <td>OVER THE COUNTER</td>\n",
       "      <td>NaN</td>\n",
       "      <td>NaN</td>\n",
       "      <td>UNKNOWN</td>\n",
       "      <td>NaN</td>\n",
       "      <td>COUNTY</td>\n",
       "      <td>NaN</td>\n",
       "      <td>NaN</td>\n",
       "      <td>NaN</td>\n",
       "      <td>1</td>\n",
       "    </tr>\n",
       "    <tr>\n",
       "      <th>4</th>\n",
       "      <td>*KATNISS</td>\n",
       "      <td>DOG</td>\n",
       "      <td>AUST KELPIE/MIX</td>\n",
       "      <td>BLACK/WHITE</td>\n",
       "      <td>Female</td>\n",
       "      <td>MED</td>\n",
       "      <td>10/21/2017</td>\n",
       "      <td>K20-037135</td>\n",
       "      <td>DA14</td>\n",
       "      <td>A401065</td>\n",
       "      <td>...</td>\n",
       "      <td>FIELD</td>\n",
       "      <td>TRANSFER</td>\n",
       "      <td>NaN</td>\n",
       "      <td>HEALTHY</td>\n",
       "      <td>TREATABLE/MANAGEABLE</td>\n",
       "      <td>SANTA ROSA</td>\n",
       "      <td>OUT OF COUNTY</td>\n",
       "      <td>95111.0</td>\n",
       "      <td>95111(37.283205, -121.827219)</td>\n",
       "      <td>1</td>\n",
       "    </tr>\n",
       "  </tbody>\n",
       "</table>\n",
       "<p>5 rows × 24 columns</p>\n",
       "</div>"
      ],
      "text/plain": [
       "       Name   Type                Breed        Color      Sex   Size  \\\n",
       "0       NaN  OTHER                  BAT        BROWN  Unknown  SMALL   \n",
       "1       NaN    DOG        LABRADOR RETR  BLACK/WHITE   Female  PUPPY   \n",
       "2      RUBY    DOG  PARSON RUSS TER/MIX  WHITE/BLACK   Spayed  SMALL   \n",
       "3       NaN    CAT          SIAMESE/MIX      SEAL PT   Female  SMALL   \n",
       "4  *KATNISS    DOG      AUST KELPIE/MIX  BLACK/WHITE   Female    MED   \n",
       "\n",
       "  Date Of Birth Impound Number Kennel Number Animal ID  ...    Intake Subtype  \\\n",
       "0           NaN     K20-037535         TRUCK   A401785  ...             FIELD   \n",
       "1    09/12/2020     K20-037525          DS49   A401754  ...             FIELD   \n",
       "2           NaN     K20-037538         DQ117   A401786  ...             FIELD   \n",
       "3    12/15/2019     K20-037532           SMM   A401775  ...  OVER THE COUNTER   \n",
       "4    10/21/2017     K20-037135          DA14   A401065  ...             FIELD   \n",
       "\n",
       "  Outcome Type  Outcome Subtype Intake Condition     Outcome Condition  \\\n",
       "0    EUTHANIZE              FRA      UNTREATABLE           UNTREATABLE   \n",
       "1          NaN              NaN          UNKNOWN                   NaN   \n",
       "2          NaN              NaN          UNKNOWN                   NaN   \n",
       "3          NaN              NaN          UNKNOWN                   NaN   \n",
       "4     TRANSFER              NaN          HEALTHY  TREATABLE/MANAGEABLE   \n",
       "\n",
       "  Intake Jurisdiction Outcome Jurisdiction Outcome Zip Code  \\\n",
       "0              COUNTY           SANTA ROSA          95404.0   \n",
       "1          SANTA ROSA                  NaN              NaN   \n",
       "2          SANTA ROSA           SANTA ROSA          95404.0   \n",
       "3              COUNTY                  NaN              NaN   \n",
       "4          SANTA ROSA        OUT OF COUNTY          95111.0   \n",
       "\n",
       "                        Location Count  \n",
       "0  95404(38.458384, -122.675588)     1  \n",
       "1                            NaN     1  \n",
       "2  95404(38.458384, -122.675588)     1  \n",
       "3                            NaN     1  \n",
       "4  95111(37.283205, -121.827219)     1  \n",
       "\n",
       "[5 rows x 24 columns]"
      ]
     },
     "execution_count": 6,
     "metadata": {},
     "output_type": "execute_result"
    }
   ],
   "source": [
    "df.head()"
   ]
  },
  {
   "cell_type": "code",
   "execution_count": 10,
   "metadata": {},
   "outputs": [
    {
     "data": {
      "text/plain": [
       "(20444, 24)"
      ]
     },
     "execution_count": 10,
     "metadata": {},
     "output_type": "execute_result"
    }
   ],
   "source": [
    "df.shape"
   ]
  },
  {
   "cell_type": "code",
   "execution_count": 8,
   "metadata": {},
   "outputs": [
    {
     "data": {
      "text/plain": [
       "Name                    5233\n",
       "Type                       0\n",
       "Breed                      0\n",
       "Color                      0\n",
       "Sex                        0\n",
       "Size                      31\n",
       "Date Of Birth           4939\n",
       "Impound Number             0\n",
       "Kennel Number             12\n",
       "Animal ID                  0\n",
       "Intake Date                0\n",
       "Outcome Date             116\n",
       "Days in Shelter            0\n",
       "Intake Type                0\n",
       "Intake Subtype             0\n",
       "Outcome Type             121\n",
       "Outcome Subtype          366\n",
       "Intake Condition           0\n",
       "Outcome Condition        392\n",
       "Intake Jurisdiction        0\n",
       "Outcome Jurisdiction    2875\n",
       "Outcome Zip Code        2911\n",
       "Location                2911\n",
       "Count                      0\n",
       "dtype: int64"
      ]
     },
     "execution_count": 8,
     "metadata": {},
     "output_type": "execute_result"
    }
   ],
   "source": [
    "df.isnull().sum()"
   ]
  },
  {
   "cell_type": "code",
   "execution_count": 15,
   "metadata": {},
   "outputs": [
    {
     "data": {
      "text/plain": [
       "array(['SANTA ROSA', nan, 'OUT OF COUNTY', 'COUNTY', '*PETALUMA',\n",
       "       '*COTATI', '*WINDSOR', '*ROHNERT PARK', '*CLOVERDALE',\n",
       "       '*HEALDSBURG', '*SONOMA', '*SEBASTOPOL', 'UNKNOWN'], dtype=object)"
      ]
     },
     "execution_count": 15,
     "metadata": {},
     "output_type": "execute_result"
    }
   ],
   "source": [
    "df['Outcome Jurisdiction'].unique()"
   ]
  },
  {
   "cell_type": "code",
   "execution_count": null,
   "metadata": {},
   "outputs": [],
   "source": []
  },
  {
   "cell_type": "code",
   "execution_count": null,
   "metadata": {},
   "outputs": [],
   "source": []
  },
  {
   "cell_type": "code",
   "execution_count": null,
   "metadata": {},
   "outputs": [],
   "source": []
  },
  {
   "cell_type": "code",
   "execution_count": null,
   "metadata": {},
   "outputs": [],
   "source": []
  }
 ],
 "metadata": {
  "kernelspec": {
   "display_name": "Python 3",
   "language": "python",
   "name": "python3"
  },
  "language_info": {
   "codemirror_mode": {
    "name": "ipython",
    "version": 3
   },
   "file_extension": ".py",
   "mimetype": "text/x-python",
   "name": "python",
   "nbconvert_exporter": "python",
   "pygments_lexer": "ipython3",
   "version": "3.8.3"
  }
 },
 "nbformat": 4,
 "nbformat_minor": 4
}

{
 "cells": [
  {
   "cell_type": "markdown",
   "metadata": {},
   "source": [
    "  ![ImdbIcon](images/pets.jpg)\n",
    "# Petfinder: Predicting Adoption Speed "
   ]
  },
  {
   "cell_type": "markdown",
   "metadata": {},
   "source": [
    "## 1. Imports and Data Cleaning"
   ]
  },
  {
   "cell_type": "code",
   "execution_count": 1,
   "metadata": {},
   "outputs": [],
   "source": [
    "import pandas as pd\n",
    "import numpy as np\n",
    "import matplotlib.pyplot as plt\n",
    "import seaborn as sns\n",
    "\n",
    "from sklearn.feature_extraction.text import CountVectorizer, TfidfVectorizer\n",
    "from sklearn.feature_extraction import text\n",
    "\n",
    "from nltk.sentiment.vader import SentimentIntensityAnalyzer"
   ]
  },
  {
   "cell_type": "code",
   "execution_count": 2,
   "metadata": {},
   "outputs": [],
   "source": [
    "df = pd.read_csv('./petfinder_data/train.csv')\n",
    "color_labels = pd.read_csv('./petfinder_data/color_labels.csv')\n",
    "breed_labels = pd.read_csv('./petfinder_data/breed_labels.csv')"
   ]
  },
  {
   "cell_type": "code",
   "execution_count": 3,
   "metadata": {},
   "outputs": [],
   "source": [
    "#pd.set_option('display.max_rows', None)"
   ]
  },
  {
   "cell_type": "code",
   "execution_count": 4,
   "metadata": {},
   "outputs": [
    {
     "data": {
      "text/plain": [
       "(11565, 23)"
      ]
     },
     "execution_count": 4,
     "metadata": {},
     "output_type": "execute_result"
    }
   ],
   "source": [
    "df.shape"
   ]
  },
  {
   "cell_type": "code",
   "execution_count": 5,
   "metadata": {},
   "outputs": [],
   "source": [
    "#df.isnull().sum()"
   ]
  },
  {
   "cell_type": "code",
   "execution_count": 6,
   "metadata": {},
   "outputs": [
    {
     "data": {
      "text/plain": [
       "(11565, 23)"
      ]
     },
     "execution_count": 6,
     "metadata": {},
     "output_type": "execute_result"
    }
   ],
   "source": [
    "#df = df[df['Quantity'] == 1]\n",
    "df.shape"
   ]
  },
  {
   "cell_type": "code",
   "execution_count": 7,
   "metadata": {},
   "outputs": [],
   "source": [
    "#df['AdoptionSpeed']=df['AdoptionSpeed'].replace(0,1)"
   ]
  },
  {
   "cell_type": "code",
   "execution_count": 8,
   "metadata": {},
   "outputs": [],
   "source": [
    "#df.drop(columns = ['Quantity'], inplace=True)"
   ]
  },
  {
   "cell_type": "code",
   "execution_count": 9,
   "metadata": {},
   "outputs": [],
   "source": [
    "#df.to_csv('./petfinder_data/train.csv', index = False)"
   ]
  },
  {
   "cell_type": "markdown",
   "metadata": {},
   "source": [
    "__________"
   ]
  },
  {
   "cell_type": "markdown",
   "metadata": {},
   "source": [
    "## 2. Feature Engineering"
   ]
  },
  {
   "cell_type": "code",
   "execution_count": 10,
   "metadata": {},
   "outputs": [],
   "source": [
    "# Dummify and combine features like Color and Breed\n",
    "\n",
    "def dummy(df, label):\n",
    "    cols = [col for col in df if label in col]\n",
    "    dummy_dict = {}\n",
    "    main_df = pd.get_dummies(df[cols[0]],prefix = label)\n",
    "    for col in cols[1:]:\n",
    "        dummy_dict[col] = pd.get_dummies(df[col],prefix = label)\n",
    "    for col in dummy_dict:\n",
    "        main_df = main_df.add(dummy_dict[col], fill_value = 0).gt(0)*1\n",
    "    return main_df"
   ]
  },
  {
   "cell_type": "code",
   "execution_count": 11,
   "metadata": {},
   "outputs": [],
   "source": [
    "# If dogs have been vaccinated: 1 Not vaccinated: 0, Not sure: converting to No\n",
    "df['Vaccinated']=df['Vaccinated'].replace(2,0)\n",
    "df['Vaccinated']=df['Vaccinated'].replace(3,0)\n",
    "\n",
    "# If dogs have been dewormed: 1 Not dewormed: 0, Not sure: converting to No\n",
    "df['Dewormed']=df['Dewormed'].replace(2,0)\n",
    "df['Dewormed']=df['Dewormed'].replace(3,0)\n",
    "\n",
    "# Binarizing gender: 1:male 0:female\n",
    "df['Gender']=df['Gender'].replace(2,0)"
   ]
  },
  {
   "cell_type": "code",
   "execution_count": 12,
   "metadata": {},
   "outputs": [],
   "source": [
    "# Dropping 9 rows with no Description\n",
    "\n",
    "df.dropna(subset=['Description'], inplace=True)"
   ]
  },
  {
   "cell_type": "code",
   "execution_count": 13,
   "metadata": {},
   "outputs": [],
   "source": [
    "# Adding description length column\n",
    "\n",
    "df['desc_len'] = [len(x) for x in df['Description']]"
   ]
  },
  {
   "cell_type": "markdown",
   "metadata": {},
   "source": [
    "------"
   ]
  },
  {
   "cell_type": "markdown",
   "metadata": {},
   "source": [
    "### - Dogs"
   ]
  },
  {
   "cell_type": "code",
   "execution_count": 14,
   "metadata": {},
   "outputs": [
    {
     "data": {
      "text/plain": [
       "(6621, 24)"
      ]
     },
     "execution_count": 14,
     "metadata": {},
     "output_type": "execute_result"
    }
   ],
   "source": [
    "dogs = df[df['Type'] == 1]\n",
    "dogs.shape"
   ]
  },
  {
   "cell_type": "code",
   "execution_count": 15,
   "metadata": {},
   "outputs": [],
   "source": [
    "# Running function and merging dummified df back to original df\n",
    "\n",
    "dummy_color_dog = dummy(dogs, 'Color') \n",
    "dogs = pd.merge(dogs, dummy_color_dog, left_index=True, right_index=True)"
   ]
  },
  {
   "cell_type": "code",
   "execution_count": 16,
   "metadata": {},
   "outputs": [],
   "source": [
    "dummy_breed_dog = dummy(dogs, 'Breed')\n",
    "dogs=pd.merge(dogs, dummy_breed_dog, left_index=True, right_index=True)"
   ]
  },
  {
   "cell_type": "code",
   "execution_count": 17,
   "metadata": {},
   "outputs": [],
   "source": [
    "def breeds(df,label):\n",
    "    breeds = [col for col in df if label in col]\n",
    "    return breeds\n",
    "\n",
    "#breeds(dogs, 'Breed')\n",
    "#Get list of columns that contain the word 'breed' to confirm all are dog breeds (not cat)"
   ]
  },
  {
   "cell_type": "code",
   "execution_count": 18,
   "metadata": {},
   "outputs": [
    {
     "data": {
      "text/html": [
       "<div>\n",
       "<style scoped>\n",
       "    .dataframe tbody tr th:only-of-type {\n",
       "        vertical-align: middle;\n",
       "    }\n",
       "\n",
       "    .dataframe tbody tr th {\n",
       "        vertical-align: top;\n",
       "    }\n",
       "\n",
       "    .dataframe thead th {\n",
       "        text-align: right;\n",
       "    }\n",
       "</style>\n",
       "<table border=\"1\" class=\"dataframe\">\n",
       "  <thead>\n",
       "    <tr style=\"text-align: right;\">\n",
       "      <th></th>\n",
       "      <th>Type</th>\n",
       "      <th>Name</th>\n",
       "      <th>Age</th>\n",
       "      <th>Breed1</th>\n",
       "      <th>Breed2</th>\n",
       "      <th>Gender</th>\n",
       "      <th>Color1</th>\n",
       "      <th>Color2</th>\n",
       "      <th>Color3</th>\n",
       "      <th>MaturitySize</th>\n",
       "      <th>...</th>\n",
       "      <th>Breed_81</th>\n",
       "      <th>Breed_82</th>\n",
       "      <th>Breed_83</th>\n",
       "      <th>Breed_85</th>\n",
       "      <th>Breed_88</th>\n",
       "      <th>Breed_93</th>\n",
       "      <th>Breed_96</th>\n",
       "      <th>Breed_97</th>\n",
       "      <th>Breed_98</th>\n",
       "      <th>Breed_99</th>\n",
       "    </tr>\n",
       "  </thead>\n",
       "  <tbody>\n",
       "    <tr>\n",
       "      <th>2</th>\n",
       "      <td>1</td>\n",
       "      <td>Brisco</td>\n",
       "      <td>1</td>\n",
       "      <td>307</td>\n",
       "      <td>0</td>\n",
       "      <td>1</td>\n",
       "      <td>2</td>\n",
       "      <td>7</td>\n",
       "      <td>0</td>\n",
       "      <td>2</td>\n",
       "      <td>...</td>\n",
       "      <td>0</td>\n",
       "      <td>0</td>\n",
       "      <td>0</td>\n",
       "      <td>0</td>\n",
       "      <td>0</td>\n",
       "      <td>0</td>\n",
       "      <td>0</td>\n",
       "      <td>0</td>\n",
       "      <td>0</td>\n",
       "      <td>0</td>\n",
       "    </tr>\n",
       "  </tbody>\n",
       "</table>\n",
       "<p>1 rows × 154 columns</p>\n",
       "</div>"
      ],
      "text/plain": [
       "   Type    Name  Age  Breed1  Breed2  Gender  Color1  Color2  Color3  \\\n",
       "2     1  Brisco    1     307       0       1       2       7       0   \n",
       "\n",
       "   MaturitySize  ...  Breed_81  Breed_82  Breed_83  Breed_85  Breed_88  \\\n",
       "2             2  ...         0         0         0         0         0   \n",
       "\n",
       "   Breed_93  Breed_96 Breed_97  Breed_98 Breed_99  \n",
       "2         0         0        0         0        0  \n",
       "\n",
       "[1 rows x 154 columns]"
      ]
     },
     "execution_count": 18,
     "metadata": {},
     "output_type": "execute_result"
    }
   ],
   "source": [
    "pd.get_dummies(dogs, columns=['FurLength', 'Dewormed', 'Health', 'State', 'MaturitySize'])\n",
    "dogs.head(1)"
   ]
  },
  {
   "cell_type": "code",
   "execution_count": 19,
   "metadata": {},
   "outputs": [],
   "source": [
    "dogs.drop(columns=['Breed1', 'Breed2', 'Breed_0', 'Color_0', 'Color1', 'Color2', 'Color3', 'FurLength', \n",
    "                   'Dewormed', 'Health', 'State', 'MaturitySize'], inplace=True)"
   ]
  },
  {
   "cell_type": "code",
   "execution_count": null,
   "metadata": {},
   "outputs": [],
   "source": []
  },
  {
   "cell_type": "markdown",
   "metadata": {},
   "source": [
    "**Sentiment Analysis**"
   ]
  },
  {
   "cell_type": "code",
   "execution_count": 20,
   "metadata": {},
   "outputs": [],
   "source": [
    "# Converting the body of my comments to a list in order to feed it into my function below\n",
    "\n",
    "desc_list = dogs['Description'].tolist()"
   ]
  },
  {
   "cell_type": "code",
   "execution_count": 21,
   "metadata": {},
   "outputs": [],
   "source": [
    "# Instantiating sentiment intensity analyzer\n",
    "\n",
    "analyzer = SentimentIntensityAnalyzer()"
   ]
  },
  {
   "cell_type": "code",
   "execution_count": 22,
   "metadata": {},
   "outputs": [],
   "source": [
    "def get_polarity(desc_list):\n",
    "    polarity = []\n",
    "    for post in desc_list:\n",
    "        vs = analyzer.polarity_scores(post) # Analyzing polarity scores by individual description\n",
    "        polarity.append(vs['compound']) # Appending polarity scores to my list- polarity\n",
    "    return polarity"
   ]
  },
  {
   "cell_type": "code",
   "execution_count": 23,
   "metadata": {},
   "outputs": [],
   "source": [
    "polarity = get_polarity(desc_list)"
   ]
  },
  {
   "cell_type": "code",
   "execution_count": 24,
   "metadata": {},
   "outputs": [],
   "source": [
    "dogs['Polarity'] = polarity"
   ]
  },
  {
   "cell_type": "code",
   "execution_count": 25,
   "metadata": {},
   "outputs": [
    {
     "data": {
      "text/html": [
       "<div>\n",
       "<style scoped>\n",
       "    .dataframe tbody tr th:only-of-type {\n",
       "        vertical-align: middle;\n",
       "    }\n",
       "\n",
       "    .dataframe tbody tr th {\n",
       "        vertical-align: top;\n",
       "    }\n",
       "\n",
       "    .dataframe thead th {\n",
       "        text-align: right;\n",
       "    }\n",
       "</style>\n",
       "<table border=\"1\" class=\"dataframe\">\n",
       "  <thead>\n",
       "    <tr style=\"text-align: right;\">\n",
       "      <th></th>\n",
       "      <th>Type</th>\n",
       "      <th>Name</th>\n",
       "      <th>Age</th>\n",
       "      <th>Gender</th>\n",
       "      <th>Vaccinated</th>\n",
       "      <th>Sterilized</th>\n",
       "      <th>Fee</th>\n",
       "      <th>RescuerID</th>\n",
       "      <th>VideoAmt</th>\n",
       "      <th>Description</th>\n",
       "      <th>...</th>\n",
       "      <th>Breed_81</th>\n",
       "      <th>Breed_82</th>\n",
       "      <th>Breed_83</th>\n",
       "      <th>Breed_85</th>\n",
       "      <th>Breed_88</th>\n",
       "      <th>Breed_93</th>\n",
       "      <th>Breed_96</th>\n",
       "      <th>Breed_97</th>\n",
       "      <th>Breed_98</th>\n",
       "      <th>Breed_99</th>\n",
       "    </tr>\n",
       "  </thead>\n",
       "  <tbody>\n",
       "    <tr>\n",
       "      <th>2</th>\n",
       "      <td>1</td>\n",
       "      <td>Brisco</td>\n",
       "      <td>1</td>\n",
       "      <td>1</td>\n",
       "      <td>1</td>\n",
       "      <td>2</td>\n",
       "      <td>0</td>\n",
       "      <td>fa90fa5b1ee11c86938398b60abc32cb</td>\n",
       "      <td>0</td>\n",
       "      <td>Their pregnant mother was dumped by her irresp...</td>\n",
       "      <td>...</td>\n",
       "      <td>0</td>\n",
       "      <td>0</td>\n",
       "      <td>0</td>\n",
       "      <td>0</td>\n",
       "      <td>0</td>\n",
       "      <td>0</td>\n",
       "      <td>0</td>\n",
       "      <td>0</td>\n",
       "      <td>0</td>\n",
       "      <td>0</td>\n",
       "    </tr>\n",
       "  </tbody>\n",
       "</table>\n",
       "<p>1 rows × 143 columns</p>\n",
       "</div>"
      ],
      "text/plain": [
       "   Type    Name  Age  Gender  Vaccinated  Sterilized  Fee  \\\n",
       "2     1  Brisco    1       1           1           2    0   \n",
       "\n",
       "                          RescuerID  VideoAmt  \\\n",
       "2  fa90fa5b1ee11c86938398b60abc32cb         0   \n",
       "\n",
       "                                         Description  ... Breed_81  Breed_82  \\\n",
       "2  Their pregnant mother was dumped by her irresp...  ...        0         0   \n",
       "\n",
       "   Breed_83  Breed_85  Breed_88  Breed_93  Breed_96  Breed_97  Breed_98  \\\n",
       "2         0         0         0         0         0         0         0   \n",
       "\n",
       "   Breed_99  \n",
       "2         0  \n",
       "\n",
       "[1 rows x 143 columns]"
      ]
     },
     "execution_count": 25,
     "metadata": {},
     "output_type": "execute_result"
    }
   ],
   "source": [
    "# Moving position of polarity column in dataframe to the index right next to the description column for better comparison\n",
    "pol_col = dogs['Polarity']\n",
    "dogs.drop(labels=['Polarity'], axis=1, inplace = True)\n",
    "dogs.insert(14, 'Polarity', pol_col)\n",
    "dogs.head(1)"
   ]
  },
  {
   "cell_type": "code",
   "execution_count": 26,
   "metadata": {},
   "outputs": [],
   "source": [
    "dogs.to_csv('./petfinder_data/dogs.csv', index = False)"
   ]
  },
  {
   "cell_type": "markdown",
   "metadata": {},
   "source": [
    "-----------------"
   ]
  },
  {
   "cell_type": "markdown",
   "metadata": {},
   "source": [
    "## - Cats"
   ]
  },
  {
   "cell_type": "code",
   "execution_count": 27,
   "metadata": {},
   "outputs": [
    {
     "data": {
      "text/plain": [
       "(4935, 24)"
      ]
     },
     "execution_count": 27,
     "metadata": {},
     "output_type": "execute_result"
    }
   ],
   "source": [
    "cats = df[df['Type'] == 2]\n",
    "cats.shape"
   ]
  },
  {
   "cell_type": "code",
   "execution_count": 28,
   "metadata": {},
   "outputs": [],
   "source": [
    "dummy_color_cat = dummy(cats, 'Color') \n",
    "dummy_color_cat.drop(columns=['Color_7'], inplace=True)\n",
    "cats = pd.merge(cats, dummy_color_cat, left_index=True, right_index=True)"
   ]
  },
  {
   "cell_type": "code",
   "execution_count": 29,
   "metadata": {},
   "outputs": [],
   "source": [
    "dummy_breed_cat = dummy(cats, 'Breed')\n",
    "cats=pd.merge(cats, dummy_breed_cat, left_index=True, right_index=True)"
   ]
  },
  {
   "cell_type": "code",
   "execution_count": 30,
   "metadata": {},
   "outputs": [
    {
     "data": {
      "text/plain": [
       "Index(['Type', 'Name', 'Age', 'Breed1', 'Breed2', 'Gender', 'Color1', 'Color2',\n",
       "       'Color3', 'MaturitySize', 'FurLength', 'Vaccinated', 'Dewormed',\n",
       "       'Sterilized', 'Health', 'Fee', 'State', 'RescuerID', 'VideoAmt',\n",
       "       'Description', 'PetID', 'PhotoAmt', 'AdoptionSpeed', 'desc_len',\n",
       "       'Color_0', 'Color_1', 'Color_2', 'Color_3', 'Color_4', 'Color_5',\n",
       "       'Color_6', 'Breed_0', 'Breed_15', 'Breed_218', 'Breed_241', 'Breed_242',\n",
       "       'Breed_243', 'Breed_244', 'Breed_245', 'Breed_246', 'Breed_247',\n",
       "       'Breed_248', 'Breed_249', 'Breed_25', 'Breed_250', 'Breed_251',\n",
       "       'Breed_252', 'Breed_253', 'Breed_254', 'Breed_256', 'Breed_257',\n",
       "       'Breed_260', 'Breed_262', 'Breed_263', 'Breed_264', 'Breed_265',\n",
       "       'Breed_266', 'Breed_267', 'Breed_268', 'Breed_269', 'Breed_270',\n",
       "       'Breed_271', 'Breed_272', 'Breed_273', 'Breed_274', 'Breed_276',\n",
       "       'Breed_277', 'Breed_278', 'Breed_279', 'Breed_280', 'Breed_281',\n",
       "       'Breed_282', 'Breed_283', 'Breed_284', 'Breed_285', 'Breed_287',\n",
       "       'Breed_288', 'Breed_289', 'Breed_290', 'Breed_291', 'Breed_292',\n",
       "       'Breed_293', 'Breed_294', 'Breed_295', 'Breed_296', 'Breed_297',\n",
       "       'Breed_298', 'Breed_299', 'Breed_300', 'Breed_301', 'Breed_302',\n",
       "       'Breed_303', 'Breed_304', 'Breed_305', 'Breed_306', 'Breed_307',\n",
       "       'Breed_5', 'Breed_70'],\n",
       "      dtype='object')"
      ]
     },
     "execution_count": 30,
     "metadata": {},
     "output_type": "execute_result"
    }
   ],
   "source": [
    "pd.get_dummies(cats, columns=['FurLength', 'Dewormed', 'Health', 'State'])\n",
    "cats.columns"
   ]
  },
  {
   "cell_type": "code",
   "execution_count": 31,
   "metadata": {},
   "outputs": [],
   "source": [
    "cats.drop(columns=['MaturitySize', 'Color1', 'Color2', 'Color3', 'Breed1', 'Breed2', 'Breed_15', 'Breed_218', \n",
    "                   'Breed_0', 'Breed_5', 'Breed_70', 'Breed_307', 'Color_0', 'FurLength', 'Dewormed', 'Health', 'State'], inplace=True)"
   ]
  },
  {
   "cell_type": "markdown",
   "metadata": {},
   "source": [
    "**Sentiment Analysis**"
   ]
  },
  {
   "cell_type": "code",
   "execution_count": 32,
   "metadata": {},
   "outputs": [],
   "source": [
    "desc_list = cats['Description'].tolist()"
   ]
  },
  {
   "cell_type": "code",
   "execution_count": 33,
   "metadata": {},
   "outputs": [],
   "source": [
    "def get_polarity(desc_list):\n",
    "    polarity = []\n",
    "    for post in desc_list:\n",
    "        vs = analyzer.polarity_scores(post) # Analyzing polarity scores by individual description\n",
    "        polarity.append(vs['compound']) # Appending polarity scores to my list- polarity\n",
    "    return polarity"
   ]
  },
  {
   "cell_type": "code",
   "execution_count": 34,
   "metadata": {},
   "outputs": [],
   "source": [
    "polarity = get_polarity(desc_list)"
   ]
  },
  {
   "cell_type": "code",
   "execution_count": 35,
   "metadata": {},
   "outputs": [],
   "source": [
    "cats['Polarity'] = polarity"
   ]
  },
  {
   "cell_type": "code",
   "execution_count": 36,
   "metadata": {},
   "outputs": [
    {
     "data": {
      "text/html": [
       "<div>\n",
       "<style scoped>\n",
       "    .dataframe tbody tr th:only-of-type {\n",
       "        vertical-align: middle;\n",
       "    }\n",
       "\n",
       "    .dataframe tbody tr th {\n",
       "        vertical-align: top;\n",
       "    }\n",
       "\n",
       "    .dataframe thead th {\n",
       "        text-align: right;\n",
       "    }\n",
       "</style>\n",
       "<table border=\"1\" class=\"dataframe\">\n",
       "  <thead>\n",
       "    <tr style=\"text-align: right;\">\n",
       "      <th></th>\n",
       "      <th>Type</th>\n",
       "      <th>Name</th>\n",
       "      <th>Age</th>\n",
       "      <th>Gender</th>\n",
       "      <th>Vaccinated</th>\n",
       "      <th>Sterilized</th>\n",
       "      <th>Fee</th>\n",
       "      <th>RescuerID</th>\n",
       "      <th>VideoAmt</th>\n",
       "      <th>Description</th>\n",
       "      <th>...</th>\n",
       "      <th>Breed_297</th>\n",
       "      <th>Breed_298</th>\n",
       "      <th>Breed_299</th>\n",
       "      <th>Breed_300</th>\n",
       "      <th>Breed_301</th>\n",
       "      <th>Breed_302</th>\n",
       "      <th>Breed_303</th>\n",
       "      <th>Breed_304</th>\n",
       "      <th>Breed_305</th>\n",
       "      <th>Breed_306</th>\n",
       "    </tr>\n",
       "  </thead>\n",
       "  <tbody>\n",
       "    <tr>\n",
       "      <th>0</th>\n",
       "      <td>2</td>\n",
       "      <td>Nibble</td>\n",
       "      <td>3</td>\n",
       "      <td>1</td>\n",
       "      <td>0</td>\n",
       "      <td>2</td>\n",
       "      <td>100</td>\n",
       "      <td>8480853f516546f6cf33aa88cd76c379</td>\n",
       "      <td>0</td>\n",
       "      <td>Nibble is a 3+ month old ball of cuteness. He ...</td>\n",
       "      <td>...</td>\n",
       "      <td>0</td>\n",
       "      <td>0</td>\n",
       "      <td>1</td>\n",
       "      <td>0</td>\n",
       "      <td>0</td>\n",
       "      <td>0</td>\n",
       "      <td>0</td>\n",
       "      <td>0</td>\n",
       "      <td>0</td>\n",
       "      <td>0</td>\n",
       "    </tr>\n",
       "  </tbody>\n",
       "</table>\n",
       "<p>1 rows × 82 columns</p>\n",
       "</div>"
      ],
      "text/plain": [
       "   Type    Name  Age  Gender  Vaccinated  Sterilized  Fee  \\\n",
       "0     2  Nibble    3       1           0           2  100   \n",
       "\n",
       "                          RescuerID  VideoAmt  \\\n",
       "0  8480853f516546f6cf33aa88cd76c379         0   \n",
       "\n",
       "                                         Description  ... Breed_297  \\\n",
       "0  Nibble is a 3+ month old ball of cuteness. He ...  ...         0   \n",
       "\n",
       "   Breed_298  Breed_299  Breed_300  Breed_301  Breed_302  Breed_303  \\\n",
       "0          0          1          0          0          0          0   \n",
       "\n",
       "   Breed_304  Breed_305  Breed_306  \n",
       "0          0          0          0  \n",
       "\n",
       "[1 rows x 82 columns]"
      ]
     },
     "execution_count": 36,
     "metadata": {},
     "output_type": "execute_result"
    }
   ],
   "source": [
    "# Moving position of polarity column in dataframe to the index right next to the description column for better comparison\n",
    "pol_col = cats['Polarity']\n",
    "cats.drop(labels=['Polarity'], axis=1, inplace = True)\n",
    "cats.insert(14, 'Polarity', pol_col)\n",
    "cats.head(1)"
   ]
  },
  {
   "cell_type": "code",
   "execution_count": 37,
   "metadata": {},
   "outputs": [],
   "source": [
    "cats.to_csv('./petfinder_data/cats.csv', index = False)"
   ]
  }
 ],
 "metadata": {
  "kernelspec": {
   "display_name": "Python 3",
   "language": "python",
   "name": "python3"
  },
  "language_info": {
   "codemirror_mode": {
    "name": "ipython",
    "version": 3
   },
   "file_extension": ".py",
   "mimetype": "text/x-python",
   "name": "python",
   "nbconvert_exporter": "python",
   "pygments_lexer": "ipython3",
   "version": "3.8.5"
  }
 },
 "nbformat": 4,
 "nbformat_minor": 4
}
